{
 "cells": [
  {
   "cell_type": "code",
   "execution_count": 58,
   "id": "68aa4fe2",
   "metadata": {},
   "outputs": [],
   "source": [
    "import numpy as np\n",
    "import pandas as pd\n",
    "import matplotlib.pyplot as plt\n",
    "import seaborn as sns\n",
    "%matplotlib inline\n",
    "pd.options.display.max_rows = 100"
   ]
  },
  {
   "cell_type": "code",
   "execution_count": 2,
   "id": "2af1c366",
   "metadata": {},
   "outputs": [],
   "source": [
    "def col_rename(df, dict_rules, ip=True):\n",
    "    z = df.rename(columns = dict_rules, inplace=ip)\n",
    "    return z"
   ]
  },
  {
   "cell_type": "code",
   "execution_count": 3,
   "id": "8ba140b6",
   "metadata": {},
   "outputs": [],
   "source": [
    "def print_unique(df,col):\n",
    "    return df[col].unique()"
   ]
  },
  {
   "cell_type": "code",
   "execution_count": 4,
   "id": "1915d4e8",
   "metadata": {},
   "outputs": [],
   "source": [
    "def fill_nans_with_means(df,col):\n",
    "    ''' fills nans in column with median '''\n",
    "    return df[col].fillna(c_df.income.mean()).round()"
   ]
  },
  {
   "cell_type": "code",
   "execution_count": 5,
   "id": "605fae08",
   "metadata": {},
   "outputs": [],
   "source": [
    "def make_lower(df,col):\n",
    "    return df[col].str.lower()"
   ]
  },
  {
   "cell_type": "code",
   "execution_count": 6,
   "id": "b423a7ba",
   "metadata": {},
   "outputs": [],
   "source": [
    "def lower_case_column_names(df):\n",
    "    ''' make columns lower case '''\n",
    "    df.columns=[i.lower() for i in df.columns]\n",
    "    return df"
   ]
  },
  {
   "cell_type": "code",
   "execution_count": 7,
   "id": "62297b6b",
   "metadata": {},
   "outputs": [],
   "source": [
    "def strip_char(df,col,char):\n",
    "    return list(map(lambda x: round(float(x.strip(char))/100,2)\\\n",
    "                                          if type(x)==str else round((x/100),2),df[col]))"
   ]
  },
  {
   "cell_type": "code",
   "execution_count": 8,
   "id": "c886a7f6",
   "metadata": {},
   "outputs": [],
   "source": [
    "def record_str_replace(df, col, dict_rules):\n",
    "    return df[col].replace(dict_rules) # additional replacement\n"
   ]
  },
  {
   "cell_type": "code",
   "execution_count": 9,
   "id": "de27902e",
   "metadata": {},
   "outputs": [],
   "source": [
    "def get_between_slash_with_split(df,col,place):\n",
    "    ''' returns middle entry in a string formatted by \"a/b/c\" and avoid nans '''\n",
    "    z = [x[place] for x in data_col.str.split('/') if type(x) != float]\n",
    "    return z"
   ]
  },
  {
   "cell_type": "code",
   "execution_count": 10,
   "id": "1c8ff356",
   "metadata": {},
   "outputs": [],
   "source": [
    "def get_between_slash(df,col,place):\n",
    "    ''' returns middle entry in a string formatted by \"a/b/cc\" and avoid nans '''\n",
    "    res  = list(\n",
    "              map(lambda x : x[place] if type(x)==str else x, df[col])\n",
    "    )\n",
    "                \n",
    "    return res"
   ]
  },
  {
   "cell_type": "code",
   "execution_count": 11,
   "id": "87dafe32",
   "metadata": {},
   "outputs": [],
   "source": [
    "def get_between_slash_and_join(df,col):\n",
    "    ''' returns middle entry in a string formatted by \"a/b/cc\" and avoid nans '''\n",
    "    res  = list(\n",
    "              map(lambda x : int(x[2]) if type(x)==str else x, df[col])\n",
    "    )\n",
    "                \n",
    "    return res"
   ]
  },
  {
   "cell_type": "code",
   "execution_count": 12,
   "id": "0b940d88",
   "metadata": {},
   "outputs": [],
   "source": [
    "def state(old_names, new_names):\n",
    "    return c_df['st'].replace(old_names, new_names)"
   ]
  },
  {
   "cell_type": "code",
   "execution_count": 13,
   "id": "9f3a2de1",
   "metadata": {},
   "outputs": [],
   "source": [
    "file1 = pd.read_csv('Data/file1.csv')\n",
    "file2 = pd.read_csv('Data/file2.csv')\n",
    "file3 = pd.read_csv('Data/file3.csv')"
   ]
  },
  {
   "cell_type": "code",
   "execution_count": 14,
   "id": "49f49e0d",
   "metadata": {},
   "outputs": [
    {
     "data": {
      "text/plain": [
       "Index(['Customer', 'ST', 'GENDER', 'Education', 'Customer Lifetime Value',\n",
       "       'Income', 'Monthly Premium Auto', 'Number of Open Complaints',\n",
       "       'Policy Type', 'Vehicle Class', 'Total Claim Amount'],\n",
       "      dtype='object')"
      ]
     },
     "execution_count": 14,
     "metadata": {},
     "output_type": "execute_result"
    }
   ],
   "source": [
    "file1.columns"
   ]
  },
  {
   "cell_type": "code",
   "execution_count": 15,
   "id": "3c3dd490",
   "metadata": {},
   "outputs": [
    {
     "data": {
      "text/plain": [
       "Index(['Customer', 'ST', 'GENDER', 'Education', 'Customer Lifetime Value',\n",
       "       'Income', 'Monthly Premium Auto', 'Number of Open Complaints',\n",
       "       'Total Claim Amount', 'Policy Type', 'Vehicle Class'],\n",
       "      dtype='object')"
      ]
     },
     "execution_count": 15,
     "metadata": {},
     "output_type": "execute_result"
    }
   ],
   "source": [
    "file2.columns"
   ]
  },
  {
   "cell_type": "code",
   "execution_count": 16,
   "id": "7adcac53",
   "metadata": {},
   "outputs": [
    {
     "data": {
      "text/plain": [
       "Index(['Customer', 'State', 'Customer Lifetime Value', 'Education', 'Gender',\n",
       "       'Income', 'Monthly Premium Auto', 'Number of Open Complaints',\n",
       "       'Policy Type', 'Total Claim Amount', 'Vehicle Class'],\n",
       "      dtype='object')"
      ]
     },
     "execution_count": 16,
     "metadata": {},
     "output_type": "execute_result"
    }
   ],
   "source": [
    "file3.columns"
   ]
  },
  {
   "cell_type": "code",
   "execution_count": 17,
   "id": "b6b916b7",
   "metadata": {},
   "outputs": [],
   "source": [
    "col_rename(file3, {'State': 'ST'}) # rename State to ST"
   ]
  },
  {
   "cell_type": "code",
   "execution_count": 18,
   "id": "a9405dea",
   "metadata": {},
   "outputs": [
    {
     "name": "stdout",
     "output_type": "stream",
     "text": [
      "<class 'pandas.core.frame.DataFrame'>\n",
      "Int64Index: 12074 entries, 0 to 7069\n",
      "Data columns (total 10 columns):\n",
      " #   Column                     Non-Null Count  Dtype  \n",
      "---  ------                     --------------  -----  \n",
      " 0   st                         9137 non-null   object \n",
      " 1   gender                     9015 non-null   object \n",
      " 2   education                  9137 non-null   object \n",
      " 3   customer lifetime value    9130 non-null   object \n",
      " 4   income                     9137 non-null   float64\n",
      " 5   monthly premium auto       9137 non-null   float64\n",
      " 6   number of open complaints  9137 non-null   object \n",
      " 7   policy type                9137 non-null   object \n",
      " 8   vehicle class              9137 non-null   object \n",
      " 9   total claim amount         9137 non-null   float64\n",
      "dtypes: float64(3), object(7)\n",
      "memory usage: 1.0+ MB\n"
     ]
    }
   ],
   "source": [
    "files = [file1,file2,file3]\n",
    "files = list(map(lower_case_column_names,files)) # make the headers lowercase\n",
    "c_df = pd.concat(files) # concat the data into a pandas frame\n",
    "c_df = c_df.drop(labels=['customer'], axis=1) # drop customer label\n",
    "c_df.info()"
   ]
  },
  {
   "cell_type": "code",
   "execution_count": 19,
   "id": "41a50642",
   "metadata": {},
   "outputs": [
    {
     "data": {
      "text/plain": [
       "[nan, 'F', 'M', 'Femal', 'Male', 'female']"
      ]
     },
     "execution_count": 19,
     "metadata": {},
     "output_type": "execute_result"
    }
   ],
   "source": [
    "gender_old = print_unique(c_df,'gender')\n",
    "gender_old = list(gender_old)\n",
    "gender_old"
   ]
  },
  {
   "cell_type": "code",
   "execution_count": 20,
   "id": "c2179b54",
   "metadata": {},
   "outputs": [
    {
     "data": {
      "text/plain": [
       "array(['U', 'F', 'M'], dtype=object)"
      ]
     },
     "execution_count": 20,
     "metadata": {},
     "output_type": "execute_result"
    }
   ],
   "source": [
    "gender_new = ['U','F','M','F','M','F']\n",
    "gender_replace_rules = dict(zip(gender_old,gender_new))\n",
    "c_df['gender']=record_str_replace(c_df,'gender',gender_replace_rules)\n",
    "print_unique(c_df,'gender')"
   ]
  },
  {
   "cell_type": "code",
   "execution_count": 21,
   "id": "9c24c995",
   "metadata": {},
   "outputs": [
    {
     "data": {
      "text/plain": [
       "['Washington',\n",
       " 'Arizona',\n",
       " 'Nevada',\n",
       " 'California',\n",
       " 'Oregon',\n",
       " 'Cali',\n",
       " 'AZ',\n",
       " 'WA',\n",
       " nan]"
      ]
     },
     "execution_count": 21,
     "metadata": {},
     "output_type": "execute_result"
    }
   ],
   "source": [
    "state_old = print_unique(c_df,'st')\n",
    "state_old = list(state_old)\n",
    "state_old"
   ]
  },
  {
   "cell_type": "code",
   "execution_count": 22,
   "id": "db9265e7",
   "metadata": {},
   "outputs": [
    {
     "data": {
      "text/plain": [
       "array(['Washington', 'Arizona', 'Nevada', 'California', 'Oregon',\n",
       "       'Unknown'], dtype=object)"
      ]
     },
     "execution_count": 22,
     "metadata": {},
     "output_type": "execute_result"
    }
   ],
   "source": [
    "state_new = ['Washington',\n",
    " 'Arizona',\n",
    " 'Nevada',\n",
    " 'California',\n",
    " 'Oregon',\n",
    " 'California',\n",
    " 'Arizona',\n",
    " 'Washington', 'Unknown']\n",
    "state_replace_rules = dict(zip(state_old,state_new))\n",
    "c_df['st']=record_str_replace(c_df,'st',state_replace_rules)\n",
    "print_unique(c_df,'st')"
   ]
  },
  {
   "cell_type": "code",
   "execution_count": null,
   "id": "c1ad2559",
   "metadata": {},
   "outputs": [],
   "source": []
  },
  {
   "cell_type": "code",
   "execution_count": 23,
   "id": "f697c837",
   "metadata": {},
   "outputs": [
    {
     "data": {
      "text/plain": [
       "array([ 0.,  2.,  1.,  3.,  5.,  4., nan])"
      ]
     },
     "execution_count": 23,
     "metadata": {},
     "output_type": "execute_result"
    }
   ],
   "source": [
    "c_df['number of open complaints'] = get_between_slash_and_join(c_df,'number of open complaints')\n",
    "print_unique(c_df,'number of open complaints')"
   ]
  },
  {
   "cell_type": "code",
   "execution_count": null,
   "id": "65f7ad6b",
   "metadata": {},
   "outputs": [],
   "source": []
  },
  {
   "cell_type": "code",
   "execution_count": 24,
   "id": "e766a6a9",
   "metadata": {},
   "outputs": [],
   "source": [
    "c_df['customer lifetime value'] = strip_char(c_df,'customer lifetime value','%')\n"
   ]
  },
  {
   "cell_type": "code",
   "execution_count": null,
   "id": "7df7dc81",
   "metadata": {},
   "outputs": [],
   "source": []
  },
  {
   "cell_type": "code",
   "execution_count": 25,
   "id": "4855776d",
   "metadata": {},
   "outputs": [],
   "source": [
    "c_df = c_df.drop_duplicates() # remove duplicates"
   ]
  },
  {
   "cell_type": "code",
   "execution_count": null,
   "id": "7151c804",
   "metadata": {},
   "outputs": [],
   "source": []
  },
  {
   "cell_type": "code",
   "execution_count": 26,
   "id": "4498bbe5",
   "metadata": {},
   "outputs": [],
   "source": [
    "c_df['customer lifetime value'] = fill_nans_with_means(c_df,'customer lifetime value').apply(round)\n",
    "c_df['total claim amount']      = fill_nans_with_means(c_df,'total claim amount').apply(round)\n",
    "c_df['monthly premium auto']    = fill_nans_with_means(c_df,'monthly premium auto').apply(round)\n",
    "c_df['income']                  = fill_nans_with_means(c_df,'income').apply(round)"
   ]
  },
  {
   "cell_type": "code",
   "execution_count": 27,
   "id": "87aec5d1",
   "metadata": {},
   "outputs": [],
   "source": [
    "c_df.income = c_df.income.replace(0, c_df.income.mean()).round(0).astype(int)"
   ]
  },
  {
   "cell_type": "code",
   "execution_count": 28,
   "id": "2af5d1f3",
   "metadata": {},
   "outputs": [],
   "source": [
    "c_df = c_df.drop_duplicates() # remove duplicates"
   ]
  },
  {
   "cell_type": "code",
   "execution_count": 29,
   "id": "7a716e1c",
   "metadata": {},
   "outputs": [
    {
     "data": {
      "text/plain": [
       "8875"
      ]
     },
     "execution_count": 29,
     "metadata": {},
     "output_type": "execute_result"
    }
   ],
   "source": [
    "len(c_df)"
   ]
  },
  {
   "cell_type": "code",
   "execution_count": 30,
   "id": "0979f7aa",
   "metadata": {},
   "outputs": [],
   "source": [
    "old_st = ['California', 'Washington', 'Oregon', 'Arizon', 'Nevada'] \n",
    "new_st = ['West Region', 'East Region', 'Northeast Region', 'Central', 'Central']\n",
    "c_df['st'] = state(old_st,new_st)"
   ]
  },
  {
   "cell_type": "code",
   "execution_count": null,
   "id": "8fc5ebc9",
   "metadata": {},
   "outputs": [],
   "source": []
  },
  {
   "cell_type": "code",
   "execution_count": 31,
   "id": "3a8e2ade",
   "metadata": {},
   "outputs": [],
   "source": [
    "cols_to_lower = ['st','gender','policy type', 'vehicle class', 'education']"
   ]
  },
  {
   "cell_type": "code",
   "execution_count": 32,
   "id": "e900c410",
   "metadata": {},
   "outputs": [],
   "source": [
    "for col in cols_to_lower:\n",
    "    c_df[col] = make_lower(c_df,col)"
   ]
  },
  {
   "cell_type": "code",
   "execution_count": 33,
   "id": "6a757723",
   "metadata": {},
   "outputs": [
    {
     "data": {
      "text/html": [
       "<div>\n",
       "<style scoped>\n",
       "    .dataframe tbody tr th:only-of-type {\n",
       "        vertical-align: middle;\n",
       "    }\n",
       "\n",
       "    .dataframe tbody tr th {\n",
       "        vertical-align: top;\n",
       "    }\n",
       "\n",
       "    .dataframe thead th {\n",
       "        text-align: right;\n",
       "    }\n",
       "</style>\n",
       "<table border=\"1\" class=\"dataframe\">\n",
       "  <thead>\n",
       "    <tr style=\"text-align: right;\">\n",
       "      <th></th>\n",
       "      <th>st</th>\n",
       "      <th>gender</th>\n",
       "      <th>education</th>\n",
       "      <th>customer lifetime value</th>\n",
       "      <th>income</th>\n",
       "      <th>monthly premium auto</th>\n",
       "      <th>number of open complaints</th>\n",
       "      <th>policy type</th>\n",
       "      <th>vehicle class</th>\n",
       "      <th>total claim amount</th>\n",
       "    </tr>\n",
       "  </thead>\n",
       "  <tbody>\n",
       "    <tr>\n",
       "      <th>0</th>\n",
       "      <td>east region</td>\n",
       "      <td>u</td>\n",
       "      <td>master</td>\n",
       "      <td>37823</td>\n",
       "      <td>37823</td>\n",
       "      <td>1000</td>\n",
       "      <td>0.0</td>\n",
       "      <td>personal auto</td>\n",
       "      <td>four-door car</td>\n",
       "      <td>3</td>\n",
       "    </tr>\n",
       "    <tr>\n",
       "      <th>1</th>\n",
       "      <td>arizona</td>\n",
       "      <td>f</td>\n",
       "      <td>bachelor</td>\n",
       "      <td>6980</td>\n",
       "      <td>37823</td>\n",
       "      <td>94</td>\n",
       "      <td>0.0</td>\n",
       "      <td>personal auto</td>\n",
       "      <td>four-door car</td>\n",
       "      <td>1131</td>\n",
       "    </tr>\n",
       "    <tr>\n",
       "      <th>2</th>\n",
       "      <td>central</td>\n",
       "      <td>f</td>\n",
       "      <td>bachelor</td>\n",
       "      <td>12887</td>\n",
       "      <td>48767</td>\n",
       "      <td>108</td>\n",
       "      <td>0.0</td>\n",
       "      <td>personal auto</td>\n",
       "      <td>two-door car</td>\n",
       "      <td>566</td>\n",
       "    </tr>\n",
       "    <tr>\n",
       "      <th>3</th>\n",
       "      <td>west region</td>\n",
       "      <td>m</td>\n",
       "      <td>bachelor</td>\n",
       "      <td>7646</td>\n",
       "      <td>37823</td>\n",
       "      <td>106</td>\n",
       "      <td>0.0</td>\n",
       "      <td>corporate auto</td>\n",
       "      <td>suv</td>\n",
       "      <td>530</td>\n",
       "    </tr>\n",
       "    <tr>\n",
       "      <th>4</th>\n",
       "      <td>east region</td>\n",
       "      <td>m</td>\n",
       "      <td>high school or below</td>\n",
       "      <td>5363</td>\n",
       "      <td>36357</td>\n",
       "      <td>68</td>\n",
       "      <td>0.0</td>\n",
       "      <td>personal auto</td>\n",
       "      <td>four-door car</td>\n",
       "      <td>17</td>\n",
       "    </tr>\n",
       "    <tr>\n",
       "      <th>5</th>\n",
       "      <td>northeast region</td>\n",
       "      <td>f</td>\n",
       "      <td>bachelor</td>\n",
       "      <td>8256</td>\n",
       "      <td>62902</td>\n",
       "      <td>69</td>\n",
       "      <td>0.0</td>\n",
       "      <td>personal auto</td>\n",
       "      <td>two-door car</td>\n",
       "      <td>159</td>\n",
       "    </tr>\n",
       "    <tr>\n",
       "      <th>6</th>\n",
       "      <td>northeast region</td>\n",
       "      <td>f</td>\n",
       "      <td>college</td>\n",
       "      <td>5381</td>\n",
       "      <td>55350</td>\n",
       "      <td>67</td>\n",
       "      <td>0.0</td>\n",
       "      <td>corporate auto</td>\n",
       "      <td>four-door car</td>\n",
       "      <td>322</td>\n",
       "    </tr>\n",
       "    <tr>\n",
       "      <th>7</th>\n",
       "      <td>arizona</td>\n",
       "      <td>m</td>\n",
       "      <td>master</td>\n",
       "      <td>7216</td>\n",
       "      <td>37823</td>\n",
       "      <td>101</td>\n",
       "      <td>0.0</td>\n",
       "      <td>corporate auto</td>\n",
       "      <td>four-door car</td>\n",
       "      <td>363</td>\n",
       "    </tr>\n",
       "    <tr>\n",
       "      <th>8</th>\n",
       "      <td>northeast region</td>\n",
       "      <td>m</td>\n",
       "      <td>bachelor</td>\n",
       "      <td>24128</td>\n",
       "      <td>14072</td>\n",
       "      <td>71</td>\n",
       "      <td>0.0</td>\n",
       "      <td>corporate auto</td>\n",
       "      <td>four-door car</td>\n",
       "      <td>511</td>\n",
       "    </tr>\n",
       "    <tr>\n",
       "      <th>9</th>\n",
       "      <td>northeast region</td>\n",
       "      <td>f</td>\n",
       "      <td>college</td>\n",
       "      <td>7388</td>\n",
       "      <td>28812</td>\n",
       "      <td>93</td>\n",
       "      <td>0.0</td>\n",
       "      <td>special auto</td>\n",
       "      <td>four-door car</td>\n",
       "      <td>426</td>\n",
       "    </tr>\n",
       "  </tbody>\n",
       "</table>\n",
       "</div>"
      ],
      "text/plain": [
       "                 st gender             education  customer lifetime value  \\\n",
       "0       east region      u                master                    37823   \n",
       "1           arizona      f              bachelor                     6980   \n",
       "2           central      f              bachelor                    12887   \n",
       "3       west region      m              bachelor                     7646   \n",
       "4       east region      m  high school or below                     5363   \n",
       "5  northeast region      f              bachelor                     8256   \n",
       "6  northeast region      f               college                     5381   \n",
       "7           arizona      m                master                     7216   \n",
       "8  northeast region      m              bachelor                    24128   \n",
       "9  northeast region      f               college                     7388   \n",
       "\n",
       "   income  monthly premium auto  number of open complaints     policy type  \\\n",
       "0   37823                  1000                        0.0   personal auto   \n",
       "1   37823                    94                        0.0   personal auto   \n",
       "2   48767                   108                        0.0   personal auto   \n",
       "3   37823                   106                        0.0  corporate auto   \n",
       "4   36357                    68                        0.0   personal auto   \n",
       "5   62902                    69                        0.0   personal auto   \n",
       "6   55350                    67                        0.0  corporate auto   \n",
       "7   37823                   101                        0.0  corporate auto   \n",
       "8   14072                    71                        0.0  corporate auto   \n",
       "9   28812                    93                        0.0    special auto   \n",
       "\n",
       "   vehicle class  total claim amount  \n",
       "0  four-door car                   3  \n",
       "1  four-door car                1131  \n",
       "2   two-door car                 566  \n",
       "3            suv                 530  \n",
       "4  four-door car                  17  \n",
       "5   two-door car                 159  \n",
       "6  four-door car                 322  \n",
       "7  four-door car                 363  \n",
       "8  four-door car                 511  \n",
       "9  four-door car                 426  "
      ]
     },
     "execution_count": 33,
     "metadata": {},
     "output_type": "execute_result"
    }
   ],
   "source": [
    "c_df.head(10)"
   ]
  },
  {
   "cell_type": "code",
   "execution_count": 34,
   "id": "3534296f",
   "metadata": {},
   "outputs": [
    {
     "data": {
      "text/plain": [
       "8875"
      ]
     },
     "execution_count": 34,
     "metadata": {},
     "output_type": "execute_result"
    }
   ],
   "source": [
    "len(c_df)"
   ]
  },
  {
   "cell_type": "code",
   "execution_count": 35,
   "id": "433335c8",
   "metadata": {},
   "outputs": [],
   "source": [
    "file4 = pd.read_csv('Data/Data_Marketing_Customer_Analysis_Round2.csv')"
   ]
  },
  {
   "cell_type": "code",
   "execution_count": 36,
   "id": "2e5c7a0d",
   "metadata": {},
   "outputs": [
    {
     "data": {
      "text/html": [
       "<div>\n",
       "<style scoped>\n",
       "    .dataframe tbody tr th:only-of-type {\n",
       "        vertical-align: middle;\n",
       "    }\n",
       "\n",
       "    .dataframe tbody tr th {\n",
       "        vertical-align: top;\n",
       "    }\n",
       "\n",
       "    .dataframe thead th {\n",
       "        text-align: right;\n",
       "    }\n",
       "</style>\n",
       "<table border=\"1\" class=\"dataframe\">\n",
       "  <thead>\n",
       "    <tr style=\"text-align: right;\">\n",
       "      <th></th>\n",
       "      <th>Unnamed: 0</th>\n",
       "      <th>Customer</th>\n",
       "      <th>State</th>\n",
       "      <th>Customer Lifetime Value</th>\n",
       "      <th>Response</th>\n",
       "      <th>Coverage</th>\n",
       "      <th>Education</th>\n",
       "      <th>Effective To Date</th>\n",
       "      <th>EmploymentStatus</th>\n",
       "      <th>Gender</th>\n",
       "      <th>...</th>\n",
       "      <th>Number of Open Complaints</th>\n",
       "      <th>Number of Policies</th>\n",
       "      <th>Policy Type</th>\n",
       "      <th>Policy</th>\n",
       "      <th>Renew Offer Type</th>\n",
       "      <th>Sales Channel</th>\n",
       "      <th>Total Claim Amount</th>\n",
       "      <th>Vehicle Class</th>\n",
       "      <th>Vehicle Size</th>\n",
       "      <th>Vehicle Type</th>\n",
       "    </tr>\n",
       "  </thead>\n",
       "  <tbody>\n",
       "    <tr>\n",
       "      <th>0</th>\n",
       "      <td>0</td>\n",
       "      <td>DK49336</td>\n",
       "      <td>Arizona</td>\n",
       "      <td>4809.216960</td>\n",
       "      <td>No</td>\n",
       "      <td>Basic</td>\n",
       "      <td>College</td>\n",
       "      <td>2/18/11</td>\n",
       "      <td>Employed</td>\n",
       "      <td>M</td>\n",
       "      <td>...</td>\n",
       "      <td>0.0</td>\n",
       "      <td>9</td>\n",
       "      <td>Corporate Auto</td>\n",
       "      <td>Corporate L3</td>\n",
       "      <td>Offer3</td>\n",
       "      <td>Agent</td>\n",
       "      <td>292.800000</td>\n",
       "      <td>Four-Door Car</td>\n",
       "      <td>Medsize</td>\n",
       "      <td>NaN</td>\n",
       "    </tr>\n",
       "    <tr>\n",
       "      <th>1</th>\n",
       "      <td>1</td>\n",
       "      <td>KX64629</td>\n",
       "      <td>California</td>\n",
       "      <td>2228.525238</td>\n",
       "      <td>No</td>\n",
       "      <td>Basic</td>\n",
       "      <td>College</td>\n",
       "      <td>1/18/11</td>\n",
       "      <td>Unemployed</td>\n",
       "      <td>F</td>\n",
       "      <td>...</td>\n",
       "      <td>0.0</td>\n",
       "      <td>1</td>\n",
       "      <td>Personal Auto</td>\n",
       "      <td>Personal L3</td>\n",
       "      <td>Offer4</td>\n",
       "      <td>Call Center</td>\n",
       "      <td>744.924331</td>\n",
       "      <td>Four-Door Car</td>\n",
       "      <td>Medsize</td>\n",
       "      <td>NaN</td>\n",
       "    </tr>\n",
       "    <tr>\n",
       "      <th>2</th>\n",
       "      <td>2</td>\n",
       "      <td>LZ68649</td>\n",
       "      <td>Washington</td>\n",
       "      <td>14947.917300</td>\n",
       "      <td>No</td>\n",
       "      <td>Basic</td>\n",
       "      <td>Bachelor</td>\n",
       "      <td>2/10/11</td>\n",
       "      <td>Employed</td>\n",
       "      <td>M</td>\n",
       "      <td>...</td>\n",
       "      <td>0.0</td>\n",
       "      <td>2</td>\n",
       "      <td>Personal Auto</td>\n",
       "      <td>Personal L3</td>\n",
       "      <td>Offer3</td>\n",
       "      <td>Call Center</td>\n",
       "      <td>480.000000</td>\n",
       "      <td>SUV</td>\n",
       "      <td>Medsize</td>\n",
       "      <td>A</td>\n",
       "    </tr>\n",
       "    <tr>\n",
       "      <th>3</th>\n",
       "      <td>3</td>\n",
       "      <td>XL78013</td>\n",
       "      <td>Oregon</td>\n",
       "      <td>22332.439460</td>\n",
       "      <td>Yes</td>\n",
       "      <td>Extended</td>\n",
       "      <td>College</td>\n",
       "      <td>1/11/11</td>\n",
       "      <td>Employed</td>\n",
       "      <td>M</td>\n",
       "      <td>...</td>\n",
       "      <td>0.0</td>\n",
       "      <td>2</td>\n",
       "      <td>Corporate Auto</td>\n",
       "      <td>Corporate L3</td>\n",
       "      <td>Offer2</td>\n",
       "      <td>Branch</td>\n",
       "      <td>484.013411</td>\n",
       "      <td>Four-Door Car</td>\n",
       "      <td>Medsize</td>\n",
       "      <td>A</td>\n",
       "    </tr>\n",
       "    <tr>\n",
       "      <th>4</th>\n",
       "      <td>4</td>\n",
       "      <td>QA50777</td>\n",
       "      <td>Oregon</td>\n",
       "      <td>9025.067525</td>\n",
       "      <td>No</td>\n",
       "      <td>Premium</td>\n",
       "      <td>Bachelor</td>\n",
       "      <td>1/17/11</td>\n",
       "      <td>Medical Leave</td>\n",
       "      <td>F</td>\n",
       "      <td>...</td>\n",
       "      <td>NaN</td>\n",
       "      <td>7</td>\n",
       "      <td>Personal Auto</td>\n",
       "      <td>Personal L2</td>\n",
       "      <td>Offer1</td>\n",
       "      <td>Branch</td>\n",
       "      <td>707.925645</td>\n",
       "      <td>Four-Door Car</td>\n",
       "      <td>Medsize</td>\n",
       "      <td>NaN</td>\n",
       "    </tr>\n",
       "  </tbody>\n",
       "</table>\n",
       "<p>5 rows × 26 columns</p>\n",
       "</div>"
      ],
      "text/plain": [
       "   Unnamed: 0 Customer       State  Customer Lifetime Value Response  \\\n",
       "0           0  DK49336     Arizona              4809.216960       No   \n",
       "1           1  KX64629  California              2228.525238       No   \n",
       "2           2  LZ68649  Washington             14947.917300       No   \n",
       "3           3  XL78013      Oregon             22332.439460      Yes   \n",
       "4           4  QA50777      Oregon              9025.067525       No   \n",
       "\n",
       "   Coverage Education Effective To Date EmploymentStatus Gender  ...  \\\n",
       "0     Basic   College           2/18/11         Employed      M  ...   \n",
       "1     Basic   College           1/18/11       Unemployed      F  ...   \n",
       "2     Basic  Bachelor           2/10/11         Employed      M  ...   \n",
       "3  Extended   College           1/11/11         Employed      M  ...   \n",
       "4   Premium  Bachelor           1/17/11    Medical Leave      F  ...   \n",
       "\n",
       "   Number of Open Complaints Number of Policies     Policy Type        Policy  \\\n",
       "0                        0.0                  9  Corporate Auto  Corporate L3   \n",
       "1                        0.0                  1   Personal Auto   Personal L3   \n",
       "2                        0.0                  2   Personal Auto   Personal L3   \n",
       "3                        0.0                  2  Corporate Auto  Corporate L3   \n",
       "4                        NaN                  7   Personal Auto   Personal L2   \n",
       "\n",
       "   Renew Offer Type  Sales Channel  Total Claim Amount  Vehicle Class  \\\n",
       "0            Offer3          Agent          292.800000  Four-Door Car   \n",
       "1            Offer4    Call Center          744.924331  Four-Door Car   \n",
       "2            Offer3    Call Center          480.000000            SUV   \n",
       "3            Offer2         Branch          484.013411  Four-Door Car   \n",
       "4            Offer1         Branch          707.925645  Four-Door Car   \n",
       "\n",
       "  Vehicle Size Vehicle Type  \n",
       "0      Medsize          NaN  \n",
       "1      Medsize          NaN  \n",
       "2      Medsize            A  \n",
       "3      Medsize            A  \n",
       "4      Medsize          NaN  \n",
       "\n",
       "[5 rows x 26 columns]"
      ]
     },
     "execution_count": 36,
     "metadata": {},
     "output_type": "execute_result"
    }
   ],
   "source": [
    "file4.head()"
   ]
  },
  {
   "cell_type": "code",
   "execution_count": 37,
   "id": "63b30029",
   "metadata": {},
   "outputs": [],
   "source": [
    "dates=list(print_unique(file4,'Effective To Date'))"
   ]
  },
  {
   "cell_type": "code",
   "execution_count": 38,
   "id": "a7fef91d",
   "metadata": {},
   "outputs": [],
   "source": [
    "date_ps = pd.Series(dates)\n",
    "date_ps_mon = list(set([x[0] for x in date_ps.str.split('/')]))\n",
    "date_ps_mon.sort()"
   ]
  },
  {
   "cell_type": "code",
   "execution_count": 39,
   "id": "0015490e",
   "metadata": {},
   "outputs": [
    {
     "data": {
      "text/plain": [
       "['1', '2']"
      ]
     },
     "execution_count": 39,
     "metadata": {},
     "output_type": "execute_result"
    }
   ],
   "source": [
    "date_ps_mon"
   ]
  },
  {
   "cell_type": "code",
   "execution_count": 40,
   "id": "52a39ab3",
   "metadata": {},
   "outputs": [],
   "source": [
    "months = ['January','February']"
   ]
  },
  {
   "cell_type": "code",
   "execution_count": 41,
   "id": "ad077fad",
   "metadata": {},
   "outputs": [
    {
     "data": {
      "text/plain": [
       "{'1': 'January', '2': 'February'}"
      ]
     },
     "execution_count": 41,
     "metadata": {},
     "output_type": "execute_result"
    }
   ],
   "source": [
    "dates_dict = dict(zip(date_ps_mon,months))\n",
    "dates_dict"
   ]
  },
  {
   "cell_type": "code",
   "execution_count": 42,
   "id": "71889a20",
   "metadata": {},
   "outputs": [],
   "source": [
    "file4['Effective To Date'] = [x[0] for x in file4['Effective To Date'].str.split('/')]"
   ]
  },
  {
   "cell_type": "code",
   "execution_count": 43,
   "id": "7232c228",
   "metadata": {},
   "outputs": [],
   "source": [
    "file4['Effective To Date'] = record_str_replace(file4, 'Effective To Date', dates_dict)"
   ]
  },
  {
   "cell_type": "code",
   "execution_count": 44,
   "id": "d88c0025",
   "metadata": {},
   "outputs": [
    {
     "data": {
      "text/plain": [
       "0        February\n",
       "1         January\n",
       "2        February\n",
       "3         January\n",
       "4         January\n",
       "           ...   \n",
       "10905     January\n",
       "10906     January\n",
       "10907    February\n",
       "10908    February\n",
       "10909     January\n",
       "Name: Effective To Date, Length: 10910, dtype: object"
      ]
     },
     "execution_count": 44,
     "metadata": {},
     "output_type": "execute_result"
    }
   ],
   "source": [
    "file4['Effective To Date']"
   ]
  },
  {
   "cell_type": "code",
   "execution_count": null,
   "id": "6f2a56b4",
   "metadata": {},
   "outputs": [],
   "source": []
  },
  {
   "cell_type": "code",
   "execution_count": null,
   "id": "4dbc2f4c",
   "metadata": {},
   "outputs": [],
   "source": []
  },
  {
   "cell_type": "code",
   "execution_count": 45,
   "id": "e520f4a2",
   "metadata": {},
   "outputs": [
    {
     "data": {
      "text/html": [
       "<div>\n",
       "<style scoped>\n",
       "    .dataframe tbody tr th:only-of-type {\n",
       "        vertical-align: middle;\n",
       "    }\n",
       "\n",
       "    .dataframe tbody tr th {\n",
       "        vertical-align: top;\n",
       "    }\n",
       "\n",
       "    .dataframe thead th {\n",
       "        text-align: right;\n",
       "    }\n",
       "</style>\n",
       "<table border=\"1\" class=\"dataframe\">\n",
       "  <thead>\n",
       "    <tr style=\"text-align: right;\">\n",
       "      <th></th>\n",
       "      <th>st</th>\n",
       "      <th>gender</th>\n",
       "      <th>education</th>\n",
       "      <th>customer lifetime value</th>\n",
       "      <th>income</th>\n",
       "      <th>monthly premium auto</th>\n",
       "      <th>number of open complaints</th>\n",
       "      <th>policy type</th>\n",
       "      <th>vehicle class</th>\n",
       "      <th>total claim amount</th>\n",
       "    </tr>\n",
       "  </thead>\n",
       "  <tbody>\n",
       "    <tr>\n",
       "      <th>0</th>\n",
       "      <td>east region</td>\n",
       "      <td>u</td>\n",
       "      <td>master</td>\n",
       "      <td>37823</td>\n",
       "      <td>37823</td>\n",
       "      <td>1000</td>\n",
       "      <td>0.0</td>\n",
       "      <td>personal auto</td>\n",
       "      <td>four-door car</td>\n",
       "      <td>3</td>\n",
       "    </tr>\n",
       "    <tr>\n",
       "      <th>1</th>\n",
       "      <td>arizona</td>\n",
       "      <td>f</td>\n",
       "      <td>bachelor</td>\n",
       "      <td>6980</td>\n",
       "      <td>37823</td>\n",
       "      <td>94</td>\n",
       "      <td>0.0</td>\n",
       "      <td>personal auto</td>\n",
       "      <td>four-door car</td>\n",
       "      <td>1131</td>\n",
       "    </tr>\n",
       "    <tr>\n",
       "      <th>2</th>\n",
       "      <td>central</td>\n",
       "      <td>f</td>\n",
       "      <td>bachelor</td>\n",
       "      <td>12887</td>\n",
       "      <td>48767</td>\n",
       "      <td>108</td>\n",
       "      <td>0.0</td>\n",
       "      <td>personal auto</td>\n",
       "      <td>two-door car</td>\n",
       "      <td>566</td>\n",
       "    </tr>\n",
       "    <tr>\n",
       "      <th>3</th>\n",
       "      <td>west region</td>\n",
       "      <td>m</td>\n",
       "      <td>bachelor</td>\n",
       "      <td>7646</td>\n",
       "      <td>37823</td>\n",
       "      <td>106</td>\n",
       "      <td>0.0</td>\n",
       "      <td>corporate auto</td>\n",
       "      <td>suv</td>\n",
       "      <td>530</td>\n",
       "    </tr>\n",
       "    <tr>\n",
       "      <th>4</th>\n",
       "      <td>east region</td>\n",
       "      <td>m</td>\n",
       "      <td>high school or below</td>\n",
       "      <td>5363</td>\n",
       "      <td>36357</td>\n",
       "      <td>68</td>\n",
       "      <td>0.0</td>\n",
       "      <td>personal auto</td>\n",
       "      <td>four-door car</td>\n",
       "      <td>17</td>\n",
       "    </tr>\n",
       "    <tr>\n",
       "      <th>...</th>\n",
       "      <td>...</td>\n",
       "      <td>...</td>\n",
       "      <td>...</td>\n",
       "      <td>...</td>\n",
       "      <td>...</td>\n",
       "      <td>...</td>\n",
       "      <td>...</td>\n",
       "      <td>...</td>\n",
       "      <td>...</td>\n",
       "      <td>...</td>\n",
       "    </tr>\n",
       "    <tr>\n",
       "      <th>7065</th>\n",
       "      <td>west region</td>\n",
       "      <td>m</td>\n",
       "      <td>bachelor</td>\n",
       "      <td>234</td>\n",
       "      <td>71941</td>\n",
       "      <td>73</td>\n",
       "      <td>0.0</td>\n",
       "      <td>personal auto</td>\n",
       "      <td>four-door car</td>\n",
       "      <td>198</td>\n",
       "    </tr>\n",
       "    <tr>\n",
       "      <th>7066</th>\n",
       "      <td>west region</td>\n",
       "      <td>f</td>\n",
       "      <td>college</td>\n",
       "      <td>31</td>\n",
       "      <td>21604</td>\n",
       "      <td>79</td>\n",
       "      <td>0.0</td>\n",
       "      <td>corporate auto</td>\n",
       "      <td>four-door car</td>\n",
       "      <td>379</td>\n",
       "    </tr>\n",
       "    <tr>\n",
       "      <th>7067</th>\n",
       "      <td>west region</td>\n",
       "      <td>m</td>\n",
       "      <td>bachelor</td>\n",
       "      <td>82</td>\n",
       "      <td>37823</td>\n",
       "      <td>85</td>\n",
       "      <td>3.0</td>\n",
       "      <td>corporate auto</td>\n",
       "      <td>four-door car</td>\n",
       "      <td>791</td>\n",
       "    </tr>\n",
       "    <tr>\n",
       "      <th>7068</th>\n",
       "      <td>west region</td>\n",
       "      <td>m</td>\n",
       "      <td>college</td>\n",
       "      <td>75</td>\n",
       "      <td>21941</td>\n",
       "      <td>96</td>\n",
       "      <td>0.0</td>\n",
       "      <td>personal auto</td>\n",
       "      <td>four-door car</td>\n",
       "      <td>691</td>\n",
       "    </tr>\n",
       "    <tr>\n",
       "      <th>7069</th>\n",
       "      <td>west region</td>\n",
       "      <td>m</td>\n",
       "      <td>college</td>\n",
       "      <td>26</td>\n",
       "      <td>37823</td>\n",
       "      <td>77</td>\n",
       "      <td>0.0</td>\n",
       "      <td>corporate auto</td>\n",
       "      <td>two-door car</td>\n",
       "      <td>370</td>\n",
       "    </tr>\n",
       "  </tbody>\n",
       "</table>\n",
       "<p>8875 rows × 10 columns</p>\n",
       "</div>"
      ],
      "text/plain": [
       "               st gender             education  customer lifetime value  \\\n",
       "0     east region      u                master                    37823   \n",
       "1         arizona      f              bachelor                     6980   \n",
       "2         central      f              bachelor                    12887   \n",
       "3     west region      m              bachelor                     7646   \n",
       "4     east region      m  high school or below                     5363   \n",
       "...           ...    ...                   ...                      ...   \n",
       "7065  west region      m              bachelor                      234   \n",
       "7066  west region      f               college                       31   \n",
       "7067  west region      m              bachelor                       82   \n",
       "7068  west region      m               college                       75   \n",
       "7069  west region      m               college                       26   \n",
       "\n",
       "      income  monthly premium auto  number of open complaints     policy type  \\\n",
       "0      37823                  1000                        0.0   personal auto   \n",
       "1      37823                    94                        0.0   personal auto   \n",
       "2      48767                   108                        0.0   personal auto   \n",
       "3      37823                   106                        0.0  corporate auto   \n",
       "4      36357                    68                        0.0   personal auto   \n",
       "...      ...                   ...                        ...             ...   \n",
       "7065   71941                    73                        0.0   personal auto   \n",
       "7066   21604                    79                        0.0  corporate auto   \n",
       "7067   37823                    85                        3.0  corporate auto   \n",
       "7068   21941                    96                        0.0   personal auto   \n",
       "7069   37823                    77                        0.0  corporate auto   \n",
       "\n",
       "      vehicle class  total claim amount  \n",
       "0     four-door car                   3  \n",
       "1     four-door car                1131  \n",
       "2      two-door car                 566  \n",
       "3               suv                 530  \n",
       "4     four-door car                  17  \n",
       "...             ...                 ...  \n",
       "7065  four-door car                 198  \n",
       "7066  four-door car                 379  \n",
       "7067  four-door car                 791  \n",
       "7068  four-door car                 691  \n",
       "7069   two-door car                 370  \n",
       "\n",
       "[8875 rows x 10 columns]"
      ]
     },
     "execution_count": 45,
     "metadata": {},
     "output_type": "execute_result"
    }
   ],
   "source": [
    "np.number"
   ]
  },
  {
   "cell_type": "code",
   "execution_count": null,
   "id": "70b8e409",
   "metadata": {},
   "outputs": [],
   "source": []
  },
  {
   "cell_type": "code",
   "execution_count": 54,
   "id": "ca56e295",
   "metadata": {},
   "outputs": [
    {
     "data": {
      "text/plain": [
       "['customer lifetime value',\n",
       " 'income',\n",
       " 'monthly premium auto',\n",
       " 'number of open complaints',\n",
       " 'total claim amount']"
      ]
     },
     "execution_count": 54,
     "metadata": {},
     "output_type": "execute_result"
    }
   ],
   "source": [
    "c_df.select_dtypes(include=np.number).columns.tolist()"
   ]
  },
  {
   "cell_type": "code",
   "execution_count": 55,
   "id": "9935f2b3",
   "metadata": {},
   "outputs": [
    {
     "data": {
      "text/plain": [
       "['st', 'gender', 'education', 'policy type', 'vehicle class']"
      ]
     },
     "execution_count": 55,
     "metadata": {},
     "output_type": "execute_result"
    }
   ],
   "source": [
    "c_df.select_dtypes(include=object).columns.tolist()"
   ]
  },
  {
   "cell_type": "code",
   "execution_count": 59,
   "id": "d4c91ff2",
   "metadata": {},
   "outputs": [],
   "source": [
    "numericals   = c_df.select_dtypes(include=np.number) # get numerical columns using the select_dtypes method\n",
    "categoricals = c_df.select_dtypes(include=object)"
   ]
  },
  {
   "cell_type": "code",
   "execution_count": 101,
   "id": "0303afec",
   "metadata": {},
   "outputs": [
    {
     "data": {
      "text/html": [
       "<div>\n",
       "<style scoped>\n",
       "    .dataframe tbody tr th:only-of-type {\n",
       "        vertical-align: middle;\n",
       "    }\n",
       "\n",
       "    .dataframe tbody tr th {\n",
       "        vertical-align: top;\n",
       "    }\n",
       "\n",
       "    .dataframe thead th {\n",
       "        text-align: right;\n",
       "    }\n",
       "</style>\n",
       "<table border=\"1\" class=\"dataframe\">\n",
       "  <thead>\n",
       "    <tr style=\"text-align: right;\">\n",
       "      <th></th>\n",
       "      <th>customer lifetime value</th>\n",
       "      <th>income</th>\n",
       "      <th>monthly premium auto</th>\n",
       "      <th>number of open complaints</th>\n",
       "      <th>total claim amount</th>\n",
       "    </tr>\n",
       "  </thead>\n",
       "  <tbody>\n",
       "    <tr>\n",
       "      <th>0</th>\n",
       "      <td>37823</td>\n",
       "      <td>37823</td>\n",
       "      <td>1000</td>\n",
       "      <td>0.0</td>\n",
       "      <td>3</td>\n",
       "    </tr>\n",
       "    <tr>\n",
       "      <th>1</th>\n",
       "      <td>6980</td>\n",
       "      <td>37823</td>\n",
       "      <td>94</td>\n",
       "      <td>0.0</td>\n",
       "      <td>1131</td>\n",
       "    </tr>\n",
       "    <tr>\n",
       "      <th>2</th>\n",
       "      <td>12887</td>\n",
       "      <td>48767</td>\n",
       "      <td>108</td>\n",
       "      <td>0.0</td>\n",
       "      <td>566</td>\n",
       "    </tr>\n",
       "    <tr>\n",
       "      <th>3</th>\n",
       "      <td>7646</td>\n",
       "      <td>37823</td>\n",
       "      <td>106</td>\n",
       "      <td>0.0</td>\n",
       "      <td>530</td>\n",
       "    </tr>\n",
       "    <tr>\n",
       "      <th>4</th>\n",
       "      <td>5363</td>\n",
       "      <td>36357</td>\n",
       "      <td>68</td>\n",
       "      <td>0.0</td>\n",
       "      <td>17</td>\n",
       "    </tr>\n",
       "    <tr>\n",
       "      <th>...</th>\n",
       "      <td>...</td>\n",
       "      <td>...</td>\n",
       "      <td>...</td>\n",
       "      <td>...</td>\n",
       "      <td>...</td>\n",
       "    </tr>\n",
       "    <tr>\n",
       "      <th>7065</th>\n",
       "      <td>234</td>\n",
       "      <td>71941</td>\n",
       "      <td>73</td>\n",
       "      <td>0.0</td>\n",
       "      <td>198</td>\n",
       "    </tr>\n",
       "    <tr>\n",
       "      <th>7066</th>\n",
       "      <td>31</td>\n",
       "      <td>21604</td>\n",
       "      <td>79</td>\n",
       "      <td>0.0</td>\n",
       "      <td>379</td>\n",
       "    </tr>\n",
       "    <tr>\n",
       "      <th>7067</th>\n",
       "      <td>82</td>\n",
       "      <td>37823</td>\n",
       "      <td>85</td>\n",
       "      <td>3.0</td>\n",
       "      <td>791</td>\n",
       "    </tr>\n",
       "    <tr>\n",
       "      <th>7068</th>\n",
       "      <td>75</td>\n",
       "      <td>21941</td>\n",
       "      <td>96</td>\n",
       "      <td>0.0</td>\n",
       "      <td>691</td>\n",
       "    </tr>\n",
       "    <tr>\n",
       "      <th>7069</th>\n",
       "      <td>26</td>\n",
       "      <td>37823</td>\n",
       "      <td>77</td>\n",
       "      <td>0.0</td>\n",
       "      <td>370</td>\n",
       "    </tr>\n",
       "  </tbody>\n",
       "</table>\n",
       "<p>8875 rows × 5 columns</p>\n",
       "</div>"
      ],
      "text/plain": [
       "      customer lifetime value  income  monthly premium auto  \\\n",
       "0                       37823   37823                  1000   \n",
       "1                        6980   37823                    94   \n",
       "2                       12887   48767                   108   \n",
       "3                        7646   37823                   106   \n",
       "4                        5363   36357                    68   \n",
       "...                       ...     ...                   ...   \n",
       "7065                      234   71941                    73   \n",
       "7066                       31   21604                    79   \n",
       "7067                       82   37823                    85   \n",
       "7068                       75   21941                    96   \n",
       "7069                       26   37823                    77   \n",
       "\n",
       "      number of open complaints  total claim amount  \n",
       "0                           0.0                   3  \n",
       "1                           0.0                1131  \n",
       "2                           0.0                 566  \n",
       "3                           0.0                 530  \n",
       "4                           0.0                  17  \n",
       "...                         ...                 ...  \n",
       "7065                        0.0                 198  \n",
       "7066                        0.0                 379  \n",
       "7067                        3.0                 791  \n",
       "7068                        0.0                 691  \n",
       "7069                        0.0                 370  \n",
       "\n",
       "[8875 rows x 5 columns]"
      ]
     },
     "execution_count": 101,
     "metadata": {},
     "output_type": "execute_result"
    }
   ],
   "source": [
    "numericals"
   ]
  },
  {
   "cell_type": "code",
   "execution_count": 108,
   "id": "f220b073",
   "metadata": {},
   "outputs": [
    {
     "name": "stderr",
     "output_type": "stream",
     "text": [
      "/Users/antares/.pyenv/versions/mambaforge-4.10.1-4/envs/ih_DA_env/lib/python3.9/site-packages/seaborn/distributions.py:2619: FutureWarning: `distplot` is a deprecated function and will be removed in a future version. Please adapt your code to use either `displot` (a figure-level function with similar flexibility) or `histplot` (an axes-level function for histograms).\n",
      "  warnings.warn(msg, FutureWarning)\n"
     ]
    },
    {
     "data": {
      "text/plain": [
       "<AxesSubplot:xlabel='income', ylabel='Density'>"
      ]
     },
     "execution_count": 108,
     "metadata": {},
     "output_type": "execute_result"
    },
    {
     "data": {
      "image/png": "[encoded data removed]",
      "text/plain": [
       "<Figure size 432x288 with 1 Axes>"
      ]
     },
     "metadata": {
      "needs_background": "light"
     },
     "output_type": "display_data"
    }
   ],
   "source": [
    "#fig,ax = plt.subplots(2,1,figsize=(10,8))\n",
    "sns.distplot(numericals['income'])\n",
    "#plt.title('Customer Lifetime Value', fontsize=18)"
   ]
  },
  {
   "cell_type": "code",
   "execution_count": 100,
   "id": "4f6b1512",
   "metadata": {},
   "outputs": [
    {
     "data": {
      "text/plain": [
       "array([[<AxesSubplot:title={'center':'customer lifetime value'}>,\n",
       "        <AxesSubplot:title={'center':'income'}>],\n",
       "       [<AxesSubplot:title={'center':'monthly premium auto'}>,\n",
       "        <AxesSubplot:title={'center':'number of open complaints'}>],\n",
       "       [<AxesSubplot:title={'center':'total claim amount'}>,\n",
       "        <AxesSubplot:>]], dtype=object)"
      ]
     },
     "execution_count": 100,
     "metadata": {},
     "output_type": "execute_result"
    },
    {
     "data": {
      "image/png": "[encoded data removed]",
      "text/plain": [
       "<Figure size 1296x1080 with 6 Axes>"
      ]
     },
     "metadata": {
      "needs_background": "light"
     },
     "output_type": "display_data"
    }
   ],
   "source": [
    "numericals.hist(figsize=(18,15))"
   ]
  },
  {
   "cell_type": "code",
   "execution_count": 102,
   "id": "416d80f5",
   "metadata": {},
   "outputs": [
    {
     "name": "stderr",
     "output_type": "stream",
     "text": [
      "/Users/antares/.pyenv/versions/mambaforge-4.10.1-4/envs/ih_DA_env/lib/python3.9/site-packages/seaborn/distributions.py:2619: FutureWarning: `distplot` is a deprecated function and will be removed in a future version. Please adapt your code to use either `displot` (a figure-level function with similar flexibility) or `histplot` (an axes-level function for histograms).\n",
      "  warnings.warn(msg, FutureWarning)\n"
     ]
    },
    {
     "data": {
      "text/plain": [
       "<AxesSubplot:xlabel='total claim amount', ylabel='Density'>"
      ]
     },
     "execution_count": 102,
     "metadata": {},
     "output_type": "execute_result"
    },
    {
     "data": {
      "image/png": "[encoded data removed]",
      "text/plain": [
       "<Figure size 432x288 with 1 Axes>"
      ]
     },
     "metadata": {
      "needs_background": "light"
     },
     "output_type": "display_data"
    }
   ],
   "source": [
    "sns.distplot(numericals['total claim amount'])"
   ]
  },
  {
   "cell_type": "code",
   "execution_count": 107,
   "id": "eae2d7eb",
   "metadata": {},
   "outputs": [
    {
     "name": "stderr",
     "output_type": "stream",
     "text": [
      "/Users/antares/.pyenv/versions/mambaforge-4.10.1-4/envs/ih_DA_env/lib/python3.9/site-packages/seaborn/distributions.py:2619: FutureWarning: `distplot` is a deprecated function and will be removed in a future version. Please adapt your code to use either `displot` (a figure-level function with similar flexibility) or `histplot` (an axes-level function for histograms).\n",
      "  warnings.warn(msg, FutureWarning)\n"
     ]
    },
    {
     "data": {
      "text/plain": [
       "(0.0, 2000.0)"
      ]
     },
     "execution_count": 107,
     "metadata": {},
     "output_type": "execute_result"
    },
    {
     "data": {
      "image/png": "[encoded data removed]",
      "text/plain": [
       "<Figure size 432x288 with 1 Axes>"
      ]
     },
     "metadata": {
      "needs_background": "light"
     },
     "output_type": "display_data"
    }
   ],
   "source": [
    "ax = sns.distplot(numericals['total claim amount'], kde=True, hist=True, hist_kws={\"range\": [0,2000]})\n",
    "ax.set_xlim(0, 2000)"
   ]
  },
  {
   "cell_type": "code",
   "execution_count": null,
   "id": "7e891ade",
   "metadata": {},
   "outputs": [],
   "source": []
  }
 ],
 "metadata": {
  "kernelspec": {
   "display_name": "Python 3 (ipykernel)",
   "language": "python",
   "name": "python3"
  },
  "language_info": {
   "codemirror_mode": {
    "name": "ipython",
    "version": 3
   },
   "file_extension": ".py",
   "mimetype": "text/x-python",
   "name": "python",
   "nbconvert_exporter": "python",
   "pygments_lexer": "ipython3",
   "version": "3.9.13"
  }
 },
 "nbformat": 4,
 "nbformat_minor": 5
}
