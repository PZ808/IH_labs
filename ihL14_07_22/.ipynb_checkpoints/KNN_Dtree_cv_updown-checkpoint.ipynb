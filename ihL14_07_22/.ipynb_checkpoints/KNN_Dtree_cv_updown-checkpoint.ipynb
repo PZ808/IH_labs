{
 "cells": [
  {
   "cell_type": "markdown",
   "id": "d627114a",
   "metadata": {},
   "source": [
    "# KNN and Decision Tree Classifications with validation and up/down sampling"
   ]
  },
  {
   "cell_type": "markdown",
   "id": "e1936c8a",
   "metadata": {},
   "source": [
    "## Import packages and define utility functions"
   ]
  },
  {
   "cell_type": "code",
   "execution_count": 1,
   "id": "ef13dbe1",
   "metadata": {},
   "outputs": [],
   "source": [
    "import pandas as pd\n",
    "\n",
    "#import numpy as np;\n",
    "#import scipy;\n",
    "\n",
    "## plotting libraries\n",
    "from matplotlib import pyplot as plt\n",
    "\n",
    "## Sklearn libraries\n",
    "from sklearn import model_selection\n",
    "from sklearn import metrics as metrics\n",
    "from sklearn import preprocessing\n",
    "from sklearn.model_selection import cross_val_score\n",
    "from sklearn.preprocessing import StandardScaler\n",
    "from sklearn.neighbors import KNeighborsClassifier\n",
    "from sklearn.metrics import plot_confusion_matrix, classification_report\n",
    "from sklearn.metrics import accuracy_score, precision_score, recall_score, confusion_matrix\n",
    "from sklearn.tree import DecisionTreeClassifier\n",
    "from sklearn.tree import plot_tree\n",
    "\n",
    "\n",
    "import warnings\n",
    "warnings.filterwarnings('ignore')\n",
    "\n",
    "%matplotlib inline"
   ]
  },
  {
   "cell_type": "code",
   "execution_count": 2,
   "id": "79bcaedf",
   "metadata": {},
   "outputs": [],
   "source": [
    "def model_eval(yt,ypt, yT,ypT):\n",
    "    return pd.DataFrame({'Error_metric': ['Accuracy','Precision','Recall'],\n",
    "                               'Train': [accuracy_score(yt, ypt),\n",
    "                                         precision_score(yt, ypt),\n",
    "                                         recall_score(yt, ypt)],\n",
    "                               'Test': [accuracy_score(yT, ypT),\n",
    "                                        precision_score(yT, ypT),\n",
    "                                        recall_score(yT, ypT)]})"
   ]
  },
  {
   "cell_type": "code",
   "execution_count": 3,
   "id": "65732ee5",
   "metadata": {},
   "outputs": [],
   "source": [
    "def fill_nans_with_means(df,col):\n",
    "    ''' fills nans in column with mean '''\n",
    "    return df[col].fillna(df[col].mean()).round()"
   ]
  },
  {
   "cell_type": "markdown",
   "id": "e7e32b31",
   "metadata": {},
   "source": [
    "## Read and clean data"
   ]
  },
  {
   "cell_type": "code",
   "execution_count": 4,
   "id": "e25238b0",
   "metadata": {},
   "outputs": [],
   "source": [
    "churnData = pd.read_csv('DATA_Customer-Churn.csv') # import data frame "
   ]
  },
  {
   "cell_type": "code",
   "execution_count": 5,
   "id": "53e64f5f",
   "metadata": {},
   "outputs": [
    {
     "data": {
      "text/plain": [
       "gender               object\n",
       "SeniorCitizen         int64\n",
       "Partner              object\n",
       "Dependents           object\n",
       "tenure                int64\n",
       "PhoneService         object\n",
       "OnlineSecurity       object\n",
       "OnlineBackup         object\n",
       "DeviceProtection     object\n",
       "TechSupport          object\n",
       "StreamingTV          object\n",
       "StreamingMovies      object\n",
       "Contract             object\n",
       "MonthlyCharges      float64\n",
       "TotalCharges         object\n",
       "Churn                object\n",
       "dtype: object"
      ]
     },
     "execution_count": 5,
     "metadata": {},
     "output_type": "execute_result"
    }
   ],
   "source": [
    "churnData.dtypes  # explore data types"
   ]
  },
  {
   "cell_type": "code",
   "execution_count": 6,
   "id": "b0cedce5",
   "metadata": {},
   "outputs": [
    {
     "data": {
      "text/plain": [
       "gender              False\n",
       "SeniorCitizen       False\n",
       "Partner             False\n",
       "Dependents          False\n",
       "tenure              False\n",
       "PhoneService        False\n",
       "OnlineSecurity      False\n",
       "OnlineBackup        False\n",
       "DeviceProtection    False\n",
       "TechSupport         False\n",
       "StreamingTV         False\n",
       "StreamingMovies     False\n",
       "Contract            False\n",
       "MonthlyCharges      False\n",
       "TotalCharges        False\n",
       "Churn               False\n",
       "dtype: bool"
      ]
     },
     "execution_count": 6,
     "metadata": {},
     "output_type": "execute_result"
    }
   ],
   "source": [
    "churnData.isnull().any() # check for null values"
   ]
  },
  {
   "cell_type": "code",
   "execution_count": 7,
   "id": "f29c0782",
   "metadata": {},
   "outputs": [
    {
     "data": {
      "text/plain": [
       "False"
      ]
     },
     "execution_count": 7,
     "metadata": {},
     "output_type": "execute_result"
    }
   ],
   "source": [
    "churnData.empty"
   ]
  },
  {
   "cell_type": "code",
   "execution_count": 8,
   "id": "7386a161",
   "metadata": {},
   "outputs": [
    {
     "data": {
      "text/plain": [
       "False"
      ]
     },
     "execution_count": 8,
     "metadata": {},
     "output_type": "execute_result"
    }
   ],
   "source": [
    "churnData.isnull().values.any()"
   ]
  },
  {
   "cell_type": "code",
   "execution_count": 9,
   "id": "a4546a22",
   "metadata": {},
   "outputs": [
    {
     "data": {
      "text/plain": [
       "' '"
      ]
     },
     "execution_count": 9,
     "metadata": {},
     "output_type": "execute_result"
    }
   ],
   "source": [
    "# there are empty values, however. For example \n",
    "churnData['TotalCharges'].loc[488] "
   ]
  },
  {
   "cell_type": "code",
   "execution_count": 10,
   "id": "279e3064",
   "metadata": {},
   "outputs": [
    {
     "data": {
      "text/plain": [
       "gender               0\n",
       "SeniorCitizen        0\n",
       "Partner              0\n",
       "Dependents           0\n",
       "tenure               0\n",
       "PhoneService         0\n",
       "OnlineSecurity       0\n",
       "OnlineBackup         0\n",
       "DeviceProtection     0\n",
       "TechSupport          0\n",
       "StreamingTV          0\n",
       "StreamingMovies      0\n",
       "Contract             0\n",
       "MonthlyCharges       0\n",
       "TotalCharges        11\n",
       "Churn                0\n",
       "dtype: int64"
      ]
     },
     "execution_count": 10,
     "metadata": {},
     "output_type": "execute_result"
    }
   ],
   "source": [
    "# convert to float (nan)\n",
    "churnData.TotalCharges = pd.to_numeric(churnData.TotalCharges, errors='coerce').astype('float64') \n",
    "churnData.isnull().any() # check for null values\n",
    "churnData.isnull().sum()"
   ]
  },
  {
   "cell_type": "markdown",
   "id": "95ca0404",
   "metadata": {},
   "source": [
    "Tenure: time client has been in a contract"
   ]
  },
  {
   "cell_type": "code",
   "execution_count": 11,
   "id": "afb96e45",
   "metadata": {},
   "outputs": [
    {
     "data": {
      "text/plain": [
       "Index(['SeniorCitizen', 'tenure', 'MonthlyCharges', 'TotalCharges', 'Churn'], dtype='object')"
      ]
     },
     "execution_count": 11,
     "metadata": {},
     "output_type": "execute_result"
    }
   ],
   "source": [
    "# feature selection\n",
    "churnData = churnData.drop(labels=['gender','Partner','Dependents','PhoneService','OnlineSecurity','OnlineBackup',\\\n",
    "                              'DeviceProtection', 'Contract','TechSupport','StreamingTV','StreamingMovies'], axis=1) # drop customer label\n",
    "churnData.columns"
   ]
  },
  {
   "cell_type": "code",
   "execution_count": 12,
   "id": "7d84b80f",
   "metadata": {},
   "outputs": [],
   "source": [
    "churnData['TotalCharges']=fill_nans_with_means(churnData,'TotalCharges') # fill nans with means "
   ]
  },
  {
   "cell_type": "code",
   "execution_count": 13,
   "id": "27a2dfcf",
   "metadata": {
    "run_control": {
     "marked": true
    }
   },
   "outputs": [],
   "source": [
    "# X,y split\n",
    "y = churnData.Churn\n",
    "X = churnData.drop(labels=['Churn'],axis=1)"
   ]
  },
  {
   "cell_type": "code",
   "execution_count": 14,
   "id": "e082aeaf",
   "metadata": {},
   "outputs": [
    {
     "data": {
      "text/plain": [
       "0        No\n",
       "1        No\n",
       "2       Yes\n",
       "3        No\n",
       "4       Yes\n",
       "       ... \n",
       "7038     No\n",
       "7039     No\n",
       "7040     No\n",
       "7041    Yes\n",
       "7042     No\n",
       "Name: Churn, Length: 7043, dtype: object"
      ]
     },
     "execution_count": 14,
     "metadata": {},
     "output_type": "execute_result"
    }
   ],
   "source": [
    "y"
   ]
  },
  {
   "cell_type": "code",
   "execution_count": 15,
   "id": "a1e24c42",
   "metadata": {},
   "outputs": [],
   "source": [
    "y.replace({'No': 0, 'Yes': 1},inplace=True)"
   ]
  },
  {
   "cell_type": "code",
   "execution_count": 16,
   "id": "186acc02",
   "metadata": {},
   "outputs": [
    {
     "data": {
      "text/plain": [
       "0    5174\n",
       "1    1869\n",
       "Name: Churn, dtype: int64"
      ]
     },
     "execution_count": 16,
     "metadata": {},
     "output_type": "execute_result"
    }
   ],
   "source": [
    "y.value_counts()"
   ]
  },
  {
   "cell_type": "code",
   "execution_count": 17,
   "id": "da87ad1e",
   "metadata": {},
   "outputs": [
    {
     "data": {
      "text/plain": [
       "SeniorCitizen       int64\n",
       "tenure              int64\n",
       "MonthlyCharges    float64\n",
       "TotalCharges      float64\n",
       "dtype: object"
      ]
     },
     "execution_count": 17,
     "metadata": {},
     "output_type": "execute_result"
    }
   ],
   "source": [
    "X.dtypes"
   ]
  },
  {
   "cell_type": "code",
   "execution_count": 18,
   "id": "a103a71a",
   "metadata": {},
   "outputs": [],
   "source": [
    "R_STATE = 32\n",
    "TS = .30"
   ]
  },
  {
   "cell_type": "code",
   "execution_count": 19,
   "id": "dc027398",
   "metadata": {},
   "outputs": [],
   "source": [
    "# define the models\n",
    "knnC = KNeighborsClassifier\n",
    "dtC  = DecisionTreeClassifier"
   ]
  },
  {
   "cell_type": "markdown",
   "id": "96ad3cf3",
   "metadata": {},
   "source": [
    "## KNN "
   ]
  },
  {
   "cell_type": "code",
   "execution_count": 20,
   "id": "5cda0371",
   "metadata": {},
   "outputs": [],
   "source": [
    "# select 30% for training\n",
    "X_train, X_test, y_train, y_test = model_selection.train_test_split(X, y, test_size=TS,random_state=R_STATE)"
   ]
  },
  {
   "cell_type": "code",
   "execution_count": 21,
   "id": "f7852c40",
   "metadata": {},
   "outputs": [],
   "source": [
    "# transform the data to have zero mean and unit variance\n",
    "std_scaler = StandardScaler().fit(X_train) \n",
    "X_train_scaled = std_scaler.transform(X_train)\n",
    "X_test_scaled = std_scaler.transform(X_test)"
   ]
  },
  {
   "cell_type": "code",
   "execution_count": 22,
   "id": "ed1acb87",
   "metadata": {},
   "outputs": [
    {
     "data": {
      "text/plain": [
       "0    1498\n",
       "1     615\n",
       "Name: Churn, dtype: int64"
      ]
     },
     "execution_count": 22,
     "metadata": {},
     "output_type": "execute_result"
    }
   ],
   "source": [
    "y_test.value_counts()"
   ]
  },
  {
   "cell_type": "markdown",
   "id": "db6089b0",
   "metadata": {},
   "source": [
    "### Evaluation "
   ]
  },
  {
   "cell_type": "code",
   "execution_count": 23,
   "id": "de26d9b5",
   "metadata": {},
   "outputs": [],
   "source": [
    "N_NEIGHS = 3"
   ]
  },
  {
   "cell_type": "code",
   "execution_count": 24,
   "id": "8c265215",
   "metadata": {},
   "outputs": [],
   "source": [
    "# model with KNN using 2 neighbors for clustering\n",
    "model = knnC(n_neighbors=N_NEIGHS, weights='uniform')\n",
    "model.fit(X_train_scaled, y_train)\n",
    "\n",
    "\n",
    "y_pred_test = model.predict(X_test_scaled)\n",
    "y_pred_train = model.predict(X_train_scaled)"
   ]
  },
  {
   "cell_type": "code",
   "execution_count": 25,
   "id": "5558d3d8",
   "metadata": {},
   "outputs": [
    {
     "data": {
      "text/plain": [
       "0    1594\n",
       "1     519\n",
       "dtype: int64"
      ]
     },
     "execution_count": 25,
     "metadata": {},
     "output_type": "execute_result"
    }
   ],
   "source": [
    "pd.DataFrame(y_pred_test).value_counts()"
   ]
  },
  {
   "cell_type": "code",
   "execution_count": 26,
   "id": "fe211cac",
   "metadata": {},
   "outputs": [
    {
     "data": {
      "text/html": [
       "<div>\n",
       "<style scoped>\n",
       "    .dataframe tbody tr th:only-of-type {\n",
       "        vertical-align: middle;\n",
       "    }\n",
       "\n",
       "    .dataframe tbody tr th {\n",
       "        vertical-align: top;\n",
       "    }\n",
       "\n",
       "    .dataframe thead th {\n",
       "        text-align: right;\n",
       "    }\n",
       "</style>\n",
       "<table border=\"1\" class=\"dataframe\">\n",
       "  <thead>\n",
       "    <tr style=\"text-align: right;\">\n",
       "      <th></th>\n",
       "      <th>Error_metric</th>\n",
       "      <th>Train</th>\n",
       "      <th>Test</th>\n",
       "    </tr>\n",
       "  </thead>\n",
       "  <tbody>\n",
       "    <tr>\n",
       "      <th>0</th>\n",
       "      <td>Accuracy</td>\n",
       "      <td>0.857606</td>\n",
       "      <td>0.747279</td>\n",
       "    </tr>\n",
       "    <tr>\n",
       "      <th>1</th>\n",
       "      <td>Precision</td>\n",
       "      <td>0.754613</td>\n",
       "      <td>0.578035</td>\n",
       "    </tr>\n",
       "    <tr>\n",
       "      <th>2</th>\n",
       "      <td>Recall</td>\n",
       "      <td>0.652313</td>\n",
       "      <td>0.487805</td>\n",
       "    </tr>\n",
       "  </tbody>\n",
       "</table>\n",
       "</div>"
      ],
      "text/plain": [
       "  Error_metric     Train      Test\n",
       "0     Accuracy  0.857606  0.747279\n",
       "1    Precision  0.754613  0.578035\n",
       "2       Recall  0.652313  0.487805"
      ]
     },
     "execution_count": 26,
     "metadata": {},
     "output_type": "execute_result"
    }
   ],
   "source": [
    "model_eval(y_train, y_pred_train, y_test, y_pred_test) # get model errors"
   ]
  },
  {
   "cell_type": "code",
   "execution_count": 27,
   "id": "6ca84828",
   "metadata": {},
   "outputs": [
    {
     "name": "stdout",
     "output_type": "stream",
     "text": [
      "              precision    recall  f1-score   support\n",
      "\n",
      "           0       0.80      0.85      0.83      1498\n",
      "           1       0.58      0.49      0.53       615\n",
      "\n",
      "    accuracy                           0.75      2113\n",
      "   macro avg       0.69      0.67      0.68      2113\n",
      "weighted avg       0.74      0.75      0.74      2113\n",
      "\n"
     ]
    }
   ],
   "source": [
    "print(classification_report(y_test, y_pred_test))"
   ]
  },
  {
   "cell_type": "code",
   "execution_count": 28,
   "id": "19d72128",
   "metadata": {},
   "outputs": [
    {
     "data": {
      "image/png": "[encoded data removed]",
      "text/plain": [
       "<Figure size 1008x576 with 4 Axes>"
      ]
     },
     "metadata": {
      "needs_background": "light"
     },
     "output_type": "display_data"
    }
   ],
   "source": [
    "# plot confusion matrix\n",
    "fig, ax = plt.subplots(1,2, figsize=(14,8))\n",
    "\n",
    "plot_confusion_matrix(model,X_train_scaled,y_train,ax=ax[0], values_format = 'd')\n",
    "ax[0].title.set_text(\"Train Set\")\n",
    "\n",
    "plot_confusion_matrix(model,X_test_scaled,y_test,ax=ax[1],values_format = 'd')\n",
    "ax[1].title.set_text(\"Test Set\")"
   ]
  },
  {
   "cell_type": "code",
   "execution_count": 29,
   "id": "01db864c",
   "metadata": {},
   "outputs": [
    {
     "name": "stdout",
     "output_type": "stream",
     "text": [
      "k=2\tmean_score = 0.757\n",
      "k=3\tmean_score = 0.753\n",
      "k=4\tmean_score = 0.759\n",
      "k=5\tmean_score = 0.756\n",
      "k=6\tmean_score = 0.757\n",
      "k=7\tmean_score = 0.759\n",
      "k=8\tmean_score = 0.759\n",
      "k=9\tmean_score = 0.758\n",
      "k=10\tmean_score = 0.757\n",
      "k=11\tmean_score = 0.756\n",
      "k=12\tmean_score = 0.757\n",
      "k=13\tmean_score = 0.758\n",
      "k=14\tmean_score = 0.759\n",
      "k=15\tmean_score = 0.756\n"
     ]
    },
    {
     "data": {
      "text/plain": [
       "{2: 0.7565922920892495,\n",
       " 3: 0.7529415263653861,\n",
       " 4: 0.7588242303114566,\n",
       " 5: 0.7561866125760649,\n",
       " 6: 0.7569964921223401,\n",
       " 7: 0.7590247075619416,\n",
       " 8: 0.7586200772485213,\n",
       " 9: 0.7576039623338092,\n",
       " 10: 0.7572008113590264,\n",
       " 11: 0.755571092326382,\n",
       " 12: 0.7569976064724152,\n",
       " 13: 0.7582120004700201,\n",
       " 14: 0.7590216971413855,\n",
       " 15: 0.7557756937751747}"
      ]
     },
     "execution_count": 29,
     "metadata": {},
     "output_type": "execute_result"
    }
   ],
   "source": [
    "CV = range(2,16)\n",
    "knn_results = {}\n",
    "for cv_ in CV:\n",
    "    scores = cross_val_score(model, X_train, y_train, cv=cv_)\n",
    "    knn_results[cv_] = scores.mean()\n",
    "    print( \"k=\"+str(cv_) + \"\\t\"  + \"mean_score = \"+str(round(scores.mean(),3)) )\n",
    "\n",
    "knn_results\n",
    "\n"
   ]
  },
  {
   "cell_type": "code",
   "execution_count": 30,
   "id": "2a529ae4",
   "metadata": {},
   "outputs": [
    {
     "data": {
      "text/plain": [
       "7"
      ]
     },
     "execution_count": 30,
     "metadata": {},
     "output_type": "execute_result"
    }
   ],
   "source": [
    "K_VAL = max(knn_results, key=knn_results.get)\n",
    "K_VAL"
   ]
  },
  {
   "cell_type": "markdown",
   "id": "ee7d9978",
   "metadata": {},
   "source": [
    "## Decision Tree"
   ]
  },
  {
   "cell_type": "code",
   "execution_count": 49,
   "id": "eb451cb4",
   "metadata": {},
   "outputs": [],
   "source": [
    "X_train, X_test, y_train, y_test = model_selection.train_test_split(X, y, test_size=TS,random_state=R_STATE)"
   ]
  },
  {
   "cell_type": "code",
   "execution_count": 50,
   "id": "d8c46b50",
   "metadata": {
    "run_control": {
     "marked": true
    }
   },
   "outputs": [],
   "source": [
    "DEPTH = 3\n",
    "model = DecisionTreeClassifier(max_depth=DEPTH)\n",
    "\n",
    "model.fit(X_train, y_train)\n",
    "\n",
    "y_pred_train_dt = model.predict(X_train)\n",
    "y_pred_test_dt  = model.predict(X_test)"
   ]
  },
  {
   "cell_type": "code",
   "execution_count": 51,
   "id": "37ca4f22",
   "metadata": {},
   "outputs": [
    {
     "data": {
      "text/html": [
       "<div>\n",
       "<style scoped>\n",
       "    .dataframe tbody tr th:only-of-type {\n",
       "        vertical-align: middle;\n",
       "    }\n",
       "\n",
       "    .dataframe tbody tr th {\n",
       "        vertical-align: top;\n",
       "    }\n",
       "\n",
       "    .dataframe thead th {\n",
       "        text-align: right;\n",
       "    }\n",
       "</style>\n",
       "<table border=\"1\" class=\"dataframe\">\n",
       "  <thead>\n",
       "    <tr style=\"text-align: right;\">\n",
       "      <th></th>\n",
       "      <th>Error_metric</th>\n",
       "      <th>Train</th>\n",
       "      <th>Test</th>\n",
       "    </tr>\n",
       "  </thead>\n",
       "  <tbody>\n",
       "    <tr>\n",
       "      <th>0</th>\n",
       "      <td>Accuracy</td>\n",
       "      <td>0.735193</td>\n",
       "      <td>0.716264</td>\n",
       "    </tr>\n",
       "    <tr>\n",
       "      <th>1</th>\n",
       "      <td>Precision</td>\n",
       "      <td>0.707068</td>\n",
       "      <td>0.677784</td>\n",
       "    </tr>\n",
       "    <tr>\n",
       "      <th>2</th>\n",
       "      <td>Recall</td>\n",
       "      <td>0.813592</td>\n",
       "      <td>0.794040</td>\n",
       "    </tr>\n",
       "  </tbody>\n",
       "</table>\n",
       "</div>"
      ],
      "text/plain": [
       "  Error_metric     Train      Test\n",
       "0     Accuracy  0.735193  0.716264\n",
       "1    Precision  0.707068  0.677784\n",
       "2       Recall  0.813592  0.794040"
      ]
     },
     "execution_count": 51,
     "metadata": {},
     "output_type": "execute_result"
    }
   ],
   "source": [
    "model_eval(y_train, y_pred_train_dt, y_test, y_pred_test_dt) # get model errors"
   ]
  },
  {
   "cell_type": "code",
   "execution_count": 52,
   "id": "3783d4e0",
   "metadata": {},
   "outputs": [
    {
     "data": {
      "image/png": "[encoded data removed]",
      "text/plain": [
       "<Figure size 1008x576 with 4 Axes>"
      ]
     },
     "metadata": {
      "needs_background": "light"
     },
     "output_type": "display_data"
    }
   ],
   "source": [
    "# confusion matrix\n",
    "fig, ax = plt.subplots(1,2, figsize=(14,8))\n",
    "plot_confusion_matrix(model,X_train,y_train,ax=ax[0], values_format = 'd')\n",
    "ax[0].title.set_text(\"Train Set\")\n",
    "plot_confusion_matrix(model,X_test,y_test,ax=ax[1],values_format = 'd')\n",
    "ax[1].title.set_text(\"Test Set\")"
   ]
  },
  {
   "cell_type": "code",
   "execution_count": 53,
   "id": "d6d9dee1",
   "metadata": {},
   "outputs": [
    {
     "data": {
      "image/png": "[encoded data removed]",
      "text/plain": [
       "<Figure size 2448x1440 with 1 Axes>"
      ]
     },
     "metadata": {
      "needs_background": "light"
     },
     "output_type": "display_data"
    }
   ],
   "source": [
    "fig, axes = plt.subplots(nrows = 1,ncols = 1,figsize = (34,20))\n",
    "\n",
    "plot_tree(model,filled = True, rounded=True,feature_names=X.columns)\n",
    "plt.show() "
   ]
  },
  {
   "cell_type": "code",
   "execution_count": 54,
   "id": "fa5c4cc9",
   "metadata": {},
   "outputs": [
    {
     "data": {
      "text/plain": [
       "0.7295279925233782"
      ]
     },
     "execution_count": 54,
     "metadata": {},
     "output_type": "execute_result"
    }
   ],
   "source": [
    "scores=cross_val_score(model, X_train, y_train, cv=6)\n",
    "scores.mean()\n"
   ]
  },
  {
   "cell_type": "markdown",
   "id": "4b4ad852",
   "metadata": {},
   "source": [
    "## Decision Tree Classification with Downsampled Data "
   ]
  },
  {
   "cell_type": "code",
   "execution_count": 55,
   "id": "96e70a48",
   "metadata": {},
   "outputs": [
    {
     "name": "stdout",
     "output_type": "stream",
     "text": [
      "(5174, 5) (1869, 5)\n"
     ]
    }
   ],
   "source": [
    "churn_0 = churnData[churnData['Churn'] == 0]\n",
    "churn_1 = churnData[churnData['Churn'] == 1]\n",
    "print(churn_0.shape,churn_1.shape)"
   ]
  },
  {
   "cell_type": "code",
   "execution_count": 56,
   "id": "d50fa5a9",
   "metadata": {},
   "outputs": [
    {
     "data": {
      "text/html": [
       "<div>\n",
       "<style scoped>\n",
       "    .dataframe tbody tr th:only-of-type {\n",
       "        vertical-align: middle;\n",
       "    }\n",
       "\n",
       "    .dataframe tbody tr th {\n",
       "        vertical-align: top;\n",
       "    }\n",
       "\n",
       "    .dataframe thead th {\n",
       "        text-align: right;\n",
       "    }\n",
       "</style>\n",
       "<table border=\"1\" class=\"dataframe\">\n",
       "  <thead>\n",
       "    <tr style=\"text-align: right;\">\n",
       "      <th></th>\n",
       "      <th>SeniorCitizen</th>\n",
       "      <th>tenure</th>\n",
       "      <th>MonthlyCharges</th>\n",
       "      <th>TotalCharges</th>\n",
       "      <th>Churn</th>\n",
       "    </tr>\n",
       "  </thead>\n",
       "  <tbody>\n",
       "    <tr>\n",
       "      <th>0</th>\n",
       "      <td>0</td>\n",
       "      <td>1</td>\n",
       "      <td>29.85</td>\n",
       "      <td>30.0</td>\n",
       "      <td>0</td>\n",
       "    </tr>\n",
       "    <tr>\n",
       "      <th>1</th>\n",
       "      <td>0</td>\n",
       "      <td>34</td>\n",
       "      <td>56.95</td>\n",
       "      <td>1890.0</td>\n",
       "      <td>0</td>\n",
       "    </tr>\n",
       "    <tr>\n",
       "      <th>3</th>\n",
       "      <td>0</td>\n",
       "      <td>45</td>\n",
       "      <td>42.30</td>\n",
       "      <td>1841.0</td>\n",
       "      <td>0</td>\n",
       "    </tr>\n",
       "    <tr>\n",
       "      <th>6</th>\n",
       "      <td>0</td>\n",
       "      <td>22</td>\n",
       "      <td>89.10</td>\n",
       "      <td>1949.0</td>\n",
       "      <td>0</td>\n",
       "    </tr>\n",
       "    <tr>\n",
       "      <th>7</th>\n",
       "      <td>0</td>\n",
       "      <td>10</td>\n",
       "      <td>29.75</td>\n",
       "      <td>302.0</td>\n",
       "      <td>0</td>\n",
       "    </tr>\n",
       "  </tbody>\n",
       "</table>\n",
       "</div>"
      ],
      "text/plain": [
       "   SeniorCitizen  tenure  MonthlyCharges  TotalCharges  Churn\n",
       "0              0       1           29.85          30.0      0\n",
       "1              0      34           56.95        1890.0      0\n",
       "3              0      45           42.30        1841.0      0\n",
       "6              0      22           89.10        1949.0      0\n",
       "7              0      10           29.75         302.0      0"
      ]
     },
     "execution_count": 56,
     "metadata": {},
     "output_type": "execute_result"
    }
   ],
   "source": [
    "churn_0.head()"
   ]
  },
  {
   "cell_type": "markdown",
   "id": "bac9b916",
   "metadata": {},
   "source": [
    "### down sampling churn=0"
   ]
  },
  {
   "cell_type": "code",
   "execution_count": 57,
   "id": "1772f4f2",
   "metadata": {},
   "outputs": [
    {
     "name": "stdout",
     "output_type": "stream",
     "text": [
      "(1869, 5) (1869, 5)\n"
     ]
    }
   ],
   "source": [
    "# down sampling: get a random sampling from churn_0 matching the length of churn_1  \n",
    "churn_0_down = churn_0.sample(len(churn_1)) \n",
    "print(churn_0_down.shape,churn_1.shape) # check they're the same size"
   ]
  },
  {
   "cell_type": "code",
   "execution_count": 58,
   "id": "19917200",
   "metadata": {},
   "outputs": [
    {
     "data": {
      "text/plain": [
       "1    1869\n",
       "0    1869\n",
       "Name: Churn, dtype: int64"
      ]
     },
     "execution_count": 58,
     "metadata": {},
     "output_type": "execute_result"
    }
   ],
   "source": [
    "data = pd.concat([churn_0_down, churn_1], axis=0)\n",
    "# shuffling the data\n",
    "data = data.sample(frac=1) \n",
    "data['Churn'].value_counts()"
   ]
  },
  {
   "cell_type": "code",
   "execution_count": 59,
   "id": "80516f4e",
   "metadata": {},
   "outputs": [
    {
     "data": {
      "text/html": [
       "<div>\n",
       "<style scoped>\n",
       "    .dataframe tbody tr th:only-of-type {\n",
       "        vertical-align: middle;\n",
       "    }\n",
       "\n",
       "    .dataframe tbody tr th {\n",
       "        vertical-align: top;\n",
       "    }\n",
       "\n",
       "    .dataframe thead th {\n",
       "        text-align: right;\n",
       "    }\n",
       "</style>\n",
       "<table border=\"1\" class=\"dataframe\">\n",
       "  <thead>\n",
       "    <tr style=\"text-align: right;\">\n",
       "      <th></th>\n",
       "      <th>SeniorCitizen</th>\n",
       "      <th>tenure</th>\n",
       "      <th>MonthlyCharges</th>\n",
       "      <th>TotalCharges</th>\n",
       "      <th>Churn</th>\n",
       "    </tr>\n",
       "  </thead>\n",
       "  <tbody>\n",
       "    <tr>\n",
       "      <th>5098</th>\n",
       "      <td>1</td>\n",
       "      <td>3</td>\n",
       "      <td>77.00</td>\n",
       "      <td>238.0</td>\n",
       "      <td>1</td>\n",
       "    </tr>\n",
       "    <tr>\n",
       "      <th>4646</th>\n",
       "      <td>0</td>\n",
       "      <td>1</td>\n",
       "      <td>70.70</td>\n",
       "      <td>71.0</td>\n",
       "      <td>0</td>\n",
       "    </tr>\n",
       "    <tr>\n",
       "      <th>2334</th>\n",
       "      <td>1</td>\n",
       "      <td>16</td>\n",
       "      <td>85.05</td>\n",
       "      <td>1391.0</td>\n",
       "      <td>0</td>\n",
       "    </tr>\n",
       "    <tr>\n",
       "      <th>4795</th>\n",
       "      <td>0</td>\n",
       "      <td>53</td>\n",
       "      <td>20.80</td>\n",
       "      <td>1022.0</td>\n",
       "      <td>1</td>\n",
       "    </tr>\n",
       "    <tr>\n",
       "      <th>3111</th>\n",
       "      <td>0</td>\n",
       "      <td>72</td>\n",
       "      <td>103.40</td>\n",
       "      <td>7373.0</td>\n",
       "      <td>1</td>\n",
       "    </tr>\n",
       "    <tr>\n",
       "      <th>...</th>\n",
       "      <td>...</td>\n",
       "      <td>...</td>\n",
       "      <td>...</td>\n",
       "      <td>...</td>\n",
       "      <td>...</td>\n",
       "    </tr>\n",
       "    <tr>\n",
       "      <th>1171</th>\n",
       "      <td>0</td>\n",
       "      <td>60</td>\n",
       "      <td>94.40</td>\n",
       "      <td>5610.0</td>\n",
       "      <td>1</td>\n",
       "    </tr>\n",
       "    <tr>\n",
       "      <th>5378</th>\n",
       "      <td>0</td>\n",
       "      <td>58</td>\n",
       "      <td>75.80</td>\n",
       "      <td>4416.0</td>\n",
       "      <td>0</td>\n",
       "    </tr>\n",
       "    <tr>\n",
       "      <th>5941</th>\n",
       "      <td>0</td>\n",
       "      <td>36</td>\n",
       "      <td>34.85</td>\n",
       "      <td>1267.0</td>\n",
       "      <td>0</td>\n",
       "    </tr>\n",
       "    <tr>\n",
       "      <th>1552</th>\n",
       "      <td>0</td>\n",
       "      <td>31</td>\n",
       "      <td>80.55</td>\n",
       "      <td>2472.0</td>\n",
       "      <td>0</td>\n",
       "    </tr>\n",
       "    <tr>\n",
       "      <th>3127</th>\n",
       "      <td>0</td>\n",
       "      <td>29</td>\n",
       "      <td>30.60</td>\n",
       "      <td>856.0</td>\n",
       "      <td>1</td>\n",
       "    </tr>\n",
       "  </tbody>\n",
       "</table>\n",
       "<p>3738 rows × 5 columns</p>\n",
       "</div>"
      ],
      "text/plain": [
       "      SeniorCitizen  tenure  MonthlyCharges  TotalCharges  Churn\n",
       "5098              1       3           77.00         238.0      1\n",
       "4646              0       1           70.70          71.0      0\n",
       "2334              1      16           85.05        1391.0      0\n",
       "4795              0      53           20.80        1022.0      1\n",
       "3111              0      72          103.40        7373.0      1\n",
       "...             ...     ...             ...           ...    ...\n",
       "1171              0      60           94.40        5610.0      1\n",
       "5378              0      58           75.80        4416.0      0\n",
       "5941              0      36           34.85        1267.0      0\n",
       "1552              0      31           80.55        2472.0      0\n",
       "3127              0      29           30.60         856.0      1\n",
       "\n",
       "[3738 rows x 5 columns]"
      ]
     },
     "execution_count": 59,
     "metadata": {},
     "output_type": "execute_result"
    }
   ],
   "source": [
    "data"
   ]
  },
  {
   "cell_type": "markdown",
   "id": "98595c63",
   "metadata": {},
   "source": [
    "### Modeling"
   ]
  },
  {
   "cell_type": "code",
   "execution_count": 60,
   "id": "981a8ceb",
   "metadata": {},
   "outputs": [
    {
     "data": {
      "text/html": [
       "<div>\n",
       "<style scoped>\n",
       "    .dataframe tbody tr th:only-of-type {\n",
       "        vertical-align: middle;\n",
       "    }\n",
       "\n",
       "    .dataframe tbody tr th {\n",
       "        vertical-align: top;\n",
       "    }\n",
       "\n",
       "    .dataframe thead th {\n",
       "        text-align: right;\n",
       "    }\n",
       "</style>\n",
       "<table border=\"1\" class=\"dataframe\">\n",
       "  <thead>\n",
       "    <tr style=\"text-align: right;\">\n",
       "      <th></th>\n",
       "      <th>Error_metric</th>\n",
       "      <th>Train</th>\n",
       "      <th>Test</th>\n",
       "    </tr>\n",
       "  </thead>\n",
       "  <tbody>\n",
       "    <tr>\n",
       "      <th>0</th>\n",
       "      <td>Accuracy</td>\n",
       "      <td>0.745031</td>\n",
       "      <td>0.712121</td>\n",
       "    </tr>\n",
       "    <tr>\n",
       "      <th>1</th>\n",
       "      <td>Precision</td>\n",
       "      <td>0.718981</td>\n",
       "      <td>0.679365</td>\n",
       "    </tr>\n",
       "    <tr>\n",
       "      <th>2</th>\n",
       "      <td>Recall</td>\n",
       "      <td>0.812121</td>\n",
       "      <td>0.779599</td>\n",
       "    </tr>\n",
       "  </tbody>\n",
       "</table>\n",
       "</div>"
      ],
      "text/plain": [
       "  Error_metric     Train      Test\n",
       "0     Accuracy  0.745031  0.712121\n",
       "1    Precision  0.718981  0.679365\n",
       "2       Recall  0.812121  0.779599"
      ]
     },
     "execution_count": 60,
     "metadata": {},
     "output_type": "execute_result"
    }
   ],
   "source": [
    "# X,y split\n",
    "y = data.Churn\n",
    "X = data.drop(labels=['Churn'],axis=1)\n",
    "\n",
    "X_train, X_test, y_train, y_test = model_selection.train_test_split(X, y, test_size=TS,random_state=R_STATE)\n",
    "\n",
    "model = DecisionTreeClassifier(max_depth=DEPTH)\n",
    "model.fit(X_train, y_train)\n",
    "\n",
    "y_pred_train_dt = model.predict(X_train)\n",
    "y_pred_test_dt  = model.predict(X_test)\n",
    "\n",
    "model_eval(y_train, y_pred_train_dt, y_test, y_pred_test_dt) # get model errors"
   ]
  },
  {
   "cell_type": "markdown",
   "id": "580b1ce3",
   "metadata": {},
   "source": [
    "## Decision Tree Classification with Upsampled Data "
   ]
  },
  {
   "cell_type": "code",
   "execution_count": 61,
   "id": "18e2f724",
   "metadata": {},
   "outputs": [
    {
     "name": "stdout",
     "output_type": "stream",
     "text": [
      "(5174, 5) (1869, 5)\n"
     ]
    }
   ],
   "source": [
    "churn_0 = churnData[churnData['Churn'] == 0]\n",
    "churn_1 = churnData[churnData['Churn'] == 1]\n",
    "print(churn_0.shape,churn_1.shape)"
   ]
  },
  {
   "cell_type": "markdown",
   "id": "3b35c243",
   "metadata": {},
   "source": [
    "### upsampling churn=1"
   ]
  },
  {
   "cell_type": "code",
   "execution_count": 62,
   "id": "055e2946",
   "metadata": {},
   "outputs": [
    {
     "name": "stdout",
     "output_type": "stream",
     "text": [
      "(5174, 5)\n"
     ]
    }
   ],
   "source": [
    "churn_1_up = churn_1.sample(len(churn_0), replace=True)\n",
    "print(churn_1_up.shape)"
   ]
  },
  {
   "cell_type": "code",
   "execution_count": 63,
   "id": "25d6a547",
   "metadata": {},
   "outputs": [
    {
     "data": {
      "text/plain": [
       "0    5174\n",
       "1    5174\n",
       "Name: Churn, dtype: int64"
      ]
     },
     "execution_count": 63,
     "metadata": {},
     "output_type": "execute_result"
    }
   ],
   "source": [
    "data = pd.concat([churn_0, churn_1_up], axis=0)\n",
    "#shuffling the data\n",
    "data = data.sample(frac=1)\n",
    "data['Churn'].value_counts()"
   ]
  },
  {
   "cell_type": "markdown",
   "id": "7076d8be",
   "metadata": {},
   "source": [
    "### Modeling"
   ]
  },
  {
   "cell_type": "code",
   "execution_count": 64,
   "id": "78a18a96",
   "metadata": {},
   "outputs": [
    {
     "data": {
      "text/html": [
       "<div>\n",
       "<style scoped>\n",
       "    .dataframe tbody tr th:only-of-type {\n",
       "        vertical-align: middle;\n",
       "    }\n",
       "\n",
       "    .dataframe tbody tr th {\n",
       "        vertical-align: top;\n",
       "    }\n",
       "\n",
       "    .dataframe thead th {\n",
       "        text-align: right;\n",
       "    }\n",
       "</style>\n",
       "<table border=\"1\" class=\"dataframe\">\n",
       "  <thead>\n",
       "    <tr style=\"text-align: right;\">\n",
       "      <th></th>\n",
       "      <th>Error_metric</th>\n",
       "      <th>Train</th>\n",
       "      <th>Test</th>\n",
       "    </tr>\n",
       "  </thead>\n",
       "  <tbody>\n",
       "    <tr>\n",
       "      <th>0</th>\n",
       "      <td>Accuracy</td>\n",
       "      <td>0.727737</td>\n",
       "      <td>0.714332</td>\n",
       "    </tr>\n",
       "    <tr>\n",
       "      <th>1</th>\n",
       "      <td>Precision</td>\n",
       "      <td>0.694399</td>\n",
       "      <td>0.671291</td>\n",
       "    </tr>\n",
       "    <tr>\n",
       "      <th>2</th>\n",
       "      <td>Recall</td>\n",
       "      <td>0.819753</td>\n",
       "      <td>0.822760</td>\n",
       "    </tr>\n",
       "  </tbody>\n",
       "</table>\n",
       "</div>"
      ],
      "text/plain": [
       "  Error_metric     Train      Test\n",
       "0     Accuracy  0.727737  0.714332\n",
       "1    Precision  0.694399  0.671291\n",
       "2       Recall  0.819753  0.822760"
      ]
     },
     "execution_count": 64,
     "metadata": {},
     "output_type": "execute_result"
    }
   ],
   "source": [
    "# X,y split\n",
    "y = data.Churn\n",
    "X = data.drop(labels=['Churn'],axis=1)\n",
    "\n",
    "X_train, X_test, y_train, y_test = model_selection.train_test_split(X, y, test_size=TS,random_state=R_STATE)\n",
    "\n",
    "model = DecisionTreeClassifier(max_depth=DEPTH)\n",
    "model.fit(X_train, y_train)\n",
    "\n",
    "y_pred_train_dt = model.predict(X_train)\n",
    "y_pred_test_dt  = model.predict(X_test)\n",
    "\n",
    "model_eval(y_train, y_pred_train_dt, y_test, y_pred_test_dt) # get model errors"
   ]
  },
  {
   "cell_type": "code",
   "execution_count": 71,
   "id": "3b826fac",
   "metadata": {},
   "outputs": [
    {
     "data": {
      "text/plain": [
       "[0.7242857595982451,\n",
       " 0.7241473850205523,\n",
       " 0.7245625261218276,\n",
       " 0.7238716737395574,\n",
       " 0.7255303179941878,\n",
       " 0.7224924012158055,\n",
       " 0.7255312953544815,\n",
       " 0.7223540681684743]"
      ]
     },
     "execution_count": 71,
     "metadata": {},
     "output_type": "execute_result"
    }
   ],
   "source": [
    "[cross_val_score(model, X_train, y_train, cv=c).mean() for c in range(2,10)]\n"
   ]
  }
 ],
 "metadata": {
  "kernelspec": {
   "display_name": "Python 3 (ipykernel)",
   "language": "python",
   "name": "python3"
  },
  "language_info": {
   "codemirror_mode": {
    "name": "ipython",
    "version": 3
   },
   "file_extension": ".py",
   "mimetype": "text/x-python",
   "name": "python",
   "nbconvert_exporter": "python",
   "pygments_lexer": "ipython3",
   "version": "3.9.0"
  },
  "toc": {
   "base_numbering": 1,
   "nav_menu": {},
   "number_sections": true,
   "sideBar": true,
   "skip_h1_title": false,
   "title_cell": "Table of Contents",
   "title_sidebar": "Contents",
   "toc_cell": false,
   "toc_position": {},
   "toc_section_display": true,
   "toc_window_display": false
  },
  "varInspector": {
   "cols": {
    "lenName": 16,
    "lenType": 16,
    "lenVar": 40
   },
   "kernels_config": {
    "python": {
     "delete_cmd_postfix": "",
     "delete_cmd_prefix": "del ",
     "library": "var_list.py",
     "varRefreshCmd": "print(var_dic_list())"
    },
    "r": {
     "delete_cmd_postfix": ") ",
     "delete_cmd_prefix": "rm(",
     "library": "var_list.r",
     "varRefreshCmd": "cat(var_dic_list()) "
    }
   },
   "types_to_exclude": [
    "module",
    "function",
    "builtin_function_or_method",
    "instance",
    "_Feature"
   ],
   "window_display": false
  }
 },
 "nbformat": 4,
 "nbformat_minor": 5
}
