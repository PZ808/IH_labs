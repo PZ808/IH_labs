{
 "cells": [
  {
   "cell_type": "markdown",
   "id": "e7842771",
   "metadata": {},
   "source": [
    "# Numpy Lab exercises (02.06.22)"
   ]
  },
  {
   "cell_type": "markdown",
   "id": "088244e2",
   "metadata": {},
   "source": [
    "### A collection of matrix operations using the numpy library"
   ]
  },
  {
   "cell_type": "markdown",
   "id": "addc64e0",
   "metadata": {},
   "source": [
    "#### 1. Import the numpy package under the name `np` (★☆☆)"
   ]
  },
  {
   "cell_type": "code",
   "execution_count": 1,
   "id": "3eec75fa",
   "metadata": {},
   "outputs": [],
   "source": [
    "import numpy as np"
   ]
  },
  {
   "cell_type": "markdown",
   "id": "c2f433a7",
   "metadata": {},
   "source": [
    "#### 2. Create a null vector of size 10 (★☆☆)"
   ]
  },
  {
   "cell_type": "code",
   "execution_count": 2,
   "id": "d33da318",
   "metadata": {},
   "outputs": [
    {
     "name": "stdout",
     "output_type": "stream",
     "text": [
      "Null vector = [0. 0. 0. 0. 0. 0. 0. 0. 0. 0.]\n"
     ]
    }
   ],
   "source": [
    "nvec = np.zeros(10)\n",
    "print(\"Null vector =\", nvec)"
   ]
  },
  {
   "cell_type": "markdown",
   "id": "02f06ed1",
   "metadata": {},
   "source": [
    "#### 3. Create a null vector of size 10 but the fifth value which is 1 (★☆☆)"
   ]
  },
  {
   "cell_type": "code",
   "execution_count": 3,
   "id": "c8542f72",
   "metadata": {},
   "outputs": [
    {
     "name": "stdout",
     "output_type": "stream",
     "text": [
      "[0. 0. 0. 0. 1. 0. 0. 0. 0. 0.]\n"
     ]
    }
   ],
   "source": [
    "nvec[4] = 1\n",
    "print(nvec)"
   ]
  },
  {
   "cell_type": "markdown",
   "id": "0e6a9e15",
   "metadata": {},
   "source": [
    "#### 4. Create a vector with values ranging from 10 to 49 (★☆☆)"
   ]
  },
  {
   "cell_type": "code",
   "execution_count": 4,
   "id": "6ca694a2",
   "metadata": {},
   "outputs": [
    {
     "name": "stdout",
     "output_type": "stream",
     "text": [
      "Vector with values in range(10,50) : \n",
      " [10 11 12 13 14 15 16 17 18 19 20 21 22 23 24 25 26 27 28 29 30 31 32 33\n",
      " 34 35 36 37 38 39 40 41 42 43 44 45 46 47 48 49]\n"
     ]
    }
   ],
   "source": [
    "print(\"Vector with values in range(10,50) : \\n\", np.arange(10,50))"
   ]
  },
  {
   "cell_type": "markdown",
   "id": "4a90f8a4",
   "metadata": {},
   "source": [
    "#### 5. Create a 3x3 matrix with values ranging from 0 to 8 (★☆☆)"
   ]
  },
  {
   "cell_type": "code",
   "execution_count": 5,
   "id": "03bebfb9",
   "metadata": {},
   "outputs": [
    {
     "name": "stdout",
     "output_type": "stream",
     "text": [
      "[[0 1 2]\n",
      " [3 4 5]\n",
      " [6 7 8]]\n"
     ]
    }
   ],
   "source": [
    "print(np.reshape(np.arange(0,9),(3,3)))"
   ]
  },
  {
   "cell_type": "code",
   "execution_count": 6,
   "id": "91a358e4",
   "metadata": {},
   "outputs": [
    {
     "data": {
      "text/plain": [
       "array([0, 3, 6])"
      ]
     },
     "execution_count": 6,
     "metadata": {},
     "output_type": "execute_result"
    }
   ],
   "source": [
    "np.reshape(np.arange(0,9),(3,3))[:,0]"
   ]
  },
  {
   "cell_type": "markdown",
   "id": "eacb02b6",
   "metadata": {},
   "source": [
    "#### 6. Find indices of non-zero elements from [1,2,0,0,4,0] (★☆☆)"
   ]
  },
  {
   "cell_type": "code",
   "execution_count": 7,
   "id": "79e29704",
   "metadata": {
    "scrolled": true
   },
   "outputs": [
    {
     "name": "stdout",
     "output_type": "stream",
     "text": [
      "indices of nonzero elements are:  [0 1 4]\n"
     ]
    }
   ],
   "source": [
    "print(\"indices of nonzero elements are: \", np.nonzero(np.array([1,2,0,0,4,0]))[0])"
   ]
  },
  {
   "cell_type": "markdown",
   "id": "0d3e3020",
   "metadata": {},
   "source": [
    "#### 7. Create a 3x3 identity matrix (★☆☆)"
   ]
  },
  {
   "cell_type": "code",
   "execution_count": 8,
   "id": "40823d52",
   "metadata": {},
   "outputs": [
    {
     "name": "stdout",
     "output_type": "stream",
     "text": [
      "I3x3 = \n",
      " [[1. 0. 0.]\n",
      " [0. 1. 0.]\n",
      " [0. 0. 1.]]\n"
     ]
    }
   ],
   "source": [
    "print(\"I3x3 = \\n\",np.eye(3))"
   ]
  },
  {
   "cell_type": "markdown",
   "id": "bbaebdf7",
   "metadata": {},
   "source": [
    "#### 8. Create a 3x3x3 array with random values (★☆☆)"
   ]
  },
  {
   "cell_type": "code",
   "execution_count": 9,
   "id": "7dcbc06c",
   "metadata": {},
   "outputs": [
    {
     "name": "stdout",
     "output_type": "stream",
     "text": [
      "A 3x3x3 random matrix is \n",
      " \n",
      " [[[  8 -92 -50]\n",
      "  [ 69  84  97]\n",
      "  [-10 -66 -59]]\n",
      "\n",
      " [[ 44   6 -15]\n",
      "  [ 76 -76 -70]\n",
      "  [ 69 -74 -98]]\n",
      "\n",
      " [[ 78 -34  63]\n",
      "  [ 15  35  49]\n",
      "  [ 43  97 -70]]]\n"
     ]
    }
   ],
   "source": [
    "print(\"A 3x3x3 random matrix is \\n \\n\", np.random.randint(-100,100,(3,3,3)))"
   ]
  },
  {
   "cell_type": "markdown",
   "id": "c7ea2250",
   "metadata": {},
   "source": [
    "#### 9. Create a 10x10 array with random values and find the minimum and maximum values (★☆☆)"
   ]
  },
  {
   "cell_type": "code",
   "execution_count": 10,
   "id": "baf56ac4",
   "metadata": {
    "scrolled": true
   },
   "outputs": [
    {
     "name": "stdout",
     "output_type": "stream",
     "text": [
      "min = -94\n",
      "max = 99\n"
     ]
    }
   ],
   "source": [
    "print(\"min =\", np.random.randint(-100,100,(10,10)).min())\n",
    "print(\"max =\", np.random.randint(-100,100,(10,10)).max())"
   ]
  },
  {
   "cell_type": "markdown",
   "id": "85b18476",
   "metadata": {},
   "source": [
    "#### 10. Create a random vector of size 30 and find the mean value (★☆☆)"
   ]
  },
  {
   "cell_type": "code",
   "execution_count": 11,
   "id": "8487a3ea",
   "metadata": {},
   "outputs": [
    {
     "name": "stdout",
     "output_type": "stream",
     "text": [
      "mean(rand_vec) = 0.559429450288058\n"
     ]
    }
   ],
   "source": [
    "print(\"mean(rand_vec) =\", np.mean(np.random.random((1,30))))"
   ]
  },
  {
   "cell_type": "markdown",
   "id": "3fa0a140",
   "metadata": {},
   "source": [
    "#### 11. Create a 5x5 matrix with values 1,2,3,4 just below the diagonal (★☆☆)"
   ]
  },
  {
   "cell_type": "code",
   "execution_count": 12,
   "id": "99a23086",
   "metadata": {},
   "outputs": [
    {
     "name": "stdout",
     "output_type": "stream",
     "text": [
      "[[0 0 0 0 0]\n",
      " [1 0 0 0 0]\n",
      " [0 2 0 0 0]\n",
      " [0 0 3 0 0]\n",
      " [0 0 0 4 0]]\n"
     ]
    }
   ],
   "source": [
    "print(np.diag([1,2,3,4],k=-1))"
   ]
  },
  {
   "cell_type": "markdown",
   "id": "b8fcb16f",
   "metadata": {},
   "source": [
    "#### 12. Normalize a 5x5 random matrix (★☆☆)"
   ]
  },
  {
   "cell_type": "markdown",
   "id": "a424e28b",
   "metadata": {},
   "source": [
    "<i> The norm of a matrix is defined as </i> $\\mathbf{norm}(X)=(X-\\bar{X})/\\sigma_X$"
   ]
  },
  {
   "cell_type": "code",
   "execution_count": 13,
   "id": "4518e8d7",
   "metadata": {},
   "outputs": [
    {
     "name": "stdout",
     "output_type": "stream",
     "text": [
      "norm(mat) = \n",
      " [[-0.25746858  1.76296911 -0.95317139  0.03132503  0.94066608]\n",
      " [ 0.52410171 -1.218132   -1.49139527 -0.53765116 -1.10907929]\n",
      " [-1.52207457  1.45967879 -1.3740952   1.30491516  0.16562822]\n",
      " [ 0.50557037 -0.14745541  0.71497133 -0.89824721 -0.95393082]\n",
      " [ 1.20736903  1.14743412 -0.58808855  0.71711176  0.56904874]]\n"
     ]
    }
   ],
   "source": [
    "x=np.random.random((5,5)) \n",
    "print(\"norm(mat) = \\n\",(x-np.mean(x))/np.std(x))"
   ]
  },
  {
   "cell_type": "markdown",
   "id": "3e6d26af",
   "metadata": {},
   "source": [
    "#### 13. How to find common values between two arrays? (★☆☆)"
   ]
  },
  {
   "cell_type": "code",
   "execution_count": 14,
   "id": "33c282fb",
   "metadata": {},
   "outputs": [],
   "source": [
    "a1=np.arange(0,10,2)\n",
    "a2=np.array([1,2,5])"
   ]
  },
  {
   "cell_type": "code",
   "execution_count": 15,
   "id": "7757d9e7",
   "metadata": {},
   "outputs": [
    {
     "name": "stdout",
     "output_type": "stream",
     "text": [
      "common values = [2]\n"
     ]
    }
   ],
   "source": [
    "print(\"common values =\", np.intersect1d(a1,a2))"
   ]
  },
  {
   "cell_type": "markdown",
   "id": "acb8b2e6",
   "metadata": {},
   "source": [
    "#### 14. Create a random vector of size 10 and sort it (★★☆)"
   ]
  },
  {
   "cell_type": "code",
   "execution_count": 16,
   "id": "7b3fdaac",
   "metadata": {},
   "outputs": [
    {
     "name": "stdout",
     "output_type": "stream",
     "text": [
      "Sorted vector = [-10 -10  -9  -7  -7  -6  -1   6   8   8]\n"
     ]
    }
   ],
   "source": [
    "print(\"Sorted vector =\", np.sort(np.random.randint(-10,10,(1,10)))[0])"
   ]
  },
  {
   "cell_type": "markdown",
   "id": "cdf4a472",
   "metadata": {},
   "source": [
    "#### 15. Create random vector of size 10 and replace the maximum value by 0 (★★☆)"
   ]
  },
  {
   "cell_type": "code",
   "execution_count": 185,
   "id": "492f97bb",
   "metadata": {},
   "outputs": [
    {
     "name": "stdout",
     "output_type": "stream",
     "text": [
      "Original matrix  [-13  12   0  -7  19   0 -13   4  -1  -5]\n",
      "Substited matrix = [-13  12   0  -7   0   0 -13   4  -1  -5]\n"
     ]
    }
   ],
   "source": [
    "a   = np.random.randint(-22,22,10) # random vec\n",
    "print(\"Original matrix \", a)\n",
    "m   = np.max(a)                # max value \n",
    "idx = np.where(a==m)        # index of max (this is a bug it assumes that it only appears once!)\n",
    "#print(idx)\n",
    "a[idx]=0\n",
    "print(\"Substited matrix =\", a)"
   ]
  },
  {
   "cell_type": "code",
   "execution_count": 183,
   "id": "ab74b54d",
   "metadata": {},
   "outputs": [
    {
     "data": {
      "text/plain": [
       "array([ -3,   8, -22,  10,  -5,   0,  -3,  18,   8,  20])"
      ]
     },
     "execution_count": 183,
     "metadata": {},
     "output_type": "execute_result"
    }
   ],
   "source": [
    "a   = np.random.randint(-22,22,10)\n",
    "a"
   ]
  },
  {
   "cell_type": "code",
   "execution_count": 194,
   "id": "9a21690e",
   "metadata": {},
   "outputs": [
    {
     "name": "stdout",
     "output_type": "stream",
     "text": [
      "[0.61289699 0.37337994 0.98903882 0.09534677 0.66011999 0.33864683\n",
      " 0.58733804 0.10527007 0.24170736 0.83075836]  \n",
      " index of maximum value is 2\n"
     ]
    },
    {
     "data": {
      "text/plain": [
       "array([0.61289699, 0.37337994, 0.        , 0.09534677, 0.66011999,\n",
       "       0.33864683, 0.58733804, 0.10527007, 0.24170736, 0.83075836])"
      ]
     },
     "execution_count": 194,
     "metadata": {},
     "output_type": "execute_result"
    }
   ],
   "source": [
    "a = np.random.random(10)\n",
    "print(a,f' \\n index of maximum value is {a.argmax()}')\n",
    "a[a.argmax()]=0 \n",
    "a"
   ]
  },
  {
   "cell_type": "code",
   "execution_count": 195,
   "id": "48a441f2",
   "metadata": {},
   "outputs": [
    {
     "name": "stdout",
     "output_type": "stream",
     "text": [
      "[[0.59883805 0.53038654 0.01214046 0.83476472 0.67526257 0.68482048\n",
      "  0.00449204 0.6455357  0.20742867 0.04698355]\n",
      " [0.21514517 0.50470743 0.32409895 0.35038862 0.60550337 0.34811257\n",
      "  0.29486102 0.30396138 0.48506106 0.08846618]\n",
      " [0.         0.         0.         0.         0.         0.\n",
      "  0.         0.         0.         0.        ]\n",
      " [0.         0.         0.         0.         0.         0.\n",
      "  0.         0.         0.         0.        ]\n",
      " [0.         0.         0.         0.         0.         0.\n",
      "  0.         0.         0.         0.        ]\n",
      " [0.         0.         0.         0.         0.         0.\n",
      "  0.         0.         0.         0.        ]\n",
      " [0.         0.         0.         0.         0.         0.\n",
      "  0.         0.         0.         0.        ]\n",
      " [0.81098162 0.27393946 0.33374191 0.89676313 0.48040269 0.55567923\n",
      "  0.30532196 0.64195621 0.40957079 0.77326008]\n",
      " [0.         0.         0.         0.         0.         0.\n",
      "  0.         0.         0.         0.        ]\n",
      " [0.         0.         0.         0.         0.         0.\n",
      "  0.         0.         0.         0.        ]]\n"
     ]
    }
   ],
   "source": [
    "Z = np.random.random((10,10))\n",
    "Z[Z.argmax(axis=0)] = 0\n",
    "print(Z)"
   ]
  },
  {
   "cell_type": "markdown",
   "id": "fbfc19a5",
   "metadata": {},
   "source": [
    "#### 16. Subtract the mean of each row of a matrix (★★☆)"
   ]
  },
  {
   "cell_type": "code",
   "execution_count": 18,
   "id": "a6eb5cf4",
   "metadata": {},
   "outputs": [
    {
     "name": "stdout",
     "output_type": "stream",
     "text": [
      "[[-57.    80.    30.    76.  ]\n",
      " [-70.   -56.5   -3.    74.  ]\n",
      " [ 81.    17.   -89.75 -18.  ]\n",
      " [-43.    -6.    78.   -35.  ]]\n"
     ]
    }
   ],
   "source": [
    "rmat = np.random.randint(-100,100,size=(4,4)) # generate a random matrix\n",
    "rmat_subt_mean = rmat-np.diag(np.mean(rmat,axis=1)) # subtract the means (axis=1 gives means of the rows)\n",
    "print(rmat_subt_mean)"
   ]
  },
  {
   "cell_type": "markdown",
   "id": "957c651a",
   "metadata": {},
   "source": [
    "#### 17. How to get the n largest values of an array (★★★)"
   ]
  },
  {
   "cell_type": "code",
   "execution_count": 19,
   "id": "f16e0300",
   "metadata": {},
   "outputs": [
    {
     "name": "stdout",
     "output_type": "stream",
     "text": [
      "[0.28815033 0.43985525 0.55482623 0.06247779 0.75491715 0.10327721\n",
      " 0.65993099 0.87623118 0.7295161  0.2559858 ]\n"
     ]
    }
   ],
   "source": [
    "v = np.random.rand(1,10) # first do it for a vector \n",
    "v = v[0]\n",
    "print(v)"
   ]
  },
  {
   "cell_type": "code",
   "execution_count": 20,
   "id": "d251e14c",
   "metadata": {},
   "outputs": [],
   "source": [
    "def get_n_largest_of_vec(vec,n):\n",
    "    vec.sort()\n",
    "    vrev = v[::-1]\n",
    "    return vrev[0:n]"
   ]
  },
  {
   "cell_type": "code",
   "execution_count": 21,
   "id": "16c5d90d",
   "metadata": {},
   "outputs": [
    {
     "name": "stdout",
     "output_type": "stream",
     "text": [
      "[0.87623118 0.75491715 0.7295161 ]\n"
     ]
    }
   ],
   "source": [
    "print(get_n_largest_of_vec(v,3))"
   ]
  },
  {
   "cell_type": "code",
   "execution_count": 22,
   "id": "0485e10e",
   "metadata": {},
   "outputs": [
    {
     "name": "stdout",
     "output_type": "stream",
     "text": [
      "[[-14  80  30  76]\n",
      " [-70 -75  -3  74]\n",
      " [ 81  17 -93 -18]\n",
      " [-43  -6  78 -37]]\n"
     ]
    }
   ],
   "source": [
    "print(rmat)"
   ]
  },
  {
   "cell_type": "code",
   "execution_count": 23,
   "id": "4d675a9c",
   "metadata": {},
   "outputs": [],
   "source": [
    "def get_n_largest_of_mat(mat,n):\n",
    "    if type(n) != int:\n",
    "        return print(\"Error: n must be an integer\")   \n",
    "    elif n > mat.size:\n",
    "        return print(\"Error: n must be less that the number of elements of the matrix\")\n",
    "    mf = mat.flatten() # change it to a vector\n",
    "    mf.sort() # sort it from low to high\n",
    "    mfrev = mf[::-1] # reverse the order \n",
    "    return mfrev[0:n] # slice the top n values and return as a vector"
   ]
  },
  {
   "cell_type": "code",
   "execution_count": 24,
   "id": "fb4aa946",
   "metadata": {},
   "outputs": [
    {
     "name": "stdout",
     "output_type": "stream",
     "text": [
      "[ 81  80  78  76  74  30  17  -3  -6 -14]\n"
     ]
    }
   ],
   "source": [
    "print(get_n_largest_of_mat(rmat,10))"
   ]
  },
  {
   "cell_type": "markdown",
   "id": "e28997f5",
   "metadata": {},
   "source": [
    "#### 18. Create a random 5*3 matrix and replace items that are larger than 4 by their squares ( Example:  6 --> 36)"
   ]
  },
  {
   "cell_type": "markdown",
   "id": "389733ac",
   "metadata": {},
   "source": [
    "<i> Here we use the where method </i>"
   ]
  },
  {
   "cell_type": "code",
   "execution_count": 25,
   "id": "3d665626",
   "metadata": {},
   "outputs": [
    {
     "name": "stdout",
     "output_type": "stream",
     "text": [
      "[[8 2 2]\n",
      " [3 7 6]\n",
      " [2 1 9]\n",
      " [3 4 1]\n",
      " [8 9 4]]\n",
      "[[64  2  2]\n",
      " [ 3 49 36]\n",
      " [ 2  1 81]\n",
      " [ 3  4  1]\n",
      " [64 81  4]]\n"
     ]
    }
   ],
   "source": [
    "rmat35 = np.random.randint(0,10,size=(5,3))\n",
    "\n",
    "print(rmat35)\n",
    "\n",
    "rmat35=np.where(rmat35 > 4, rmat35 **2, rmat35)\n",
    "\n",
    "print(rmat35)\n",
    "\n"
   ]
  },
  {
   "cell_type": "markdown",
   "id": "4ce82350",
   "metadata": {},
   "source": [
    "### Additional questions"
   ]
  },
  {
   "cell_type": "markdown",
   "id": "356b42f7",
   "metadata": {},
   "source": [
    "#### How to add a border (filled with 0's) around an existing array? (★☆☆)"
   ]
  },
  {
   "cell_type": "code",
   "execution_count": 32,
   "id": "1488a55e",
   "metadata": {},
   "outputs": [
    {
     "data": {
      "text/plain": [
       "array([0, 0, 0, 0, 1, 2, 3, 4, 5, 6, 7, 8, 9, 0, 0, 0])"
      ]
     },
     "execution_count": 32,
     "metadata": {},
     "output_type": "execute_result"
    }
   ],
   "source": [
    "nv = np.arange(10)\n",
    "np.pad(nv,3)"
   ]
  },
  {
   "cell_type": "markdown",
   "id": "fac2eab2",
   "metadata": {},
   "source": [
    "#### Dealing with NaNs"
   ]
  },
  {
   "cell_type": "code",
   "execution_count": 36,
   "id": "2351ddfc",
   "metadata": {},
   "outputs": [
    {
     "data": {
      "text/plain": [
       "[nan, False, False, nan, True, False]"
      ]
     },
     "execution_count": 36,
     "metadata": {},
     "output_type": "execute_result"
    }
   ],
   "source": [
    "[0 * np.nan,\n",
    "np.nan == np.nan,\n",
    "np.inf > np.nan,\n",
    "np.nan - np.nan,\n",
    "np.nan in set([np.nan]),\n",
    "0.3 == 3 * 0.1]"
   ]
  },
  {
   "cell_type": "markdown",
   "id": "8faddb37",
   "metadata": {},
   "source": [
    "####  Create a 8x8 matrix and fill it with a checkerboard pattern (★☆☆)"
   ]
  },
  {
   "cell_type": "markdown",
   "id": "c6e67af5",
   "metadata": {},
   "source": [
    "To Return every other element from the entire array:"
   ]
  },
  {
   "cell_type": "code",
   "execution_count": 53,
   "id": "d0202e8a",
   "metadata": {},
   "outputs": [
    {
     "name": "stdout",
     "output_type": "stream",
     "text": [
      "[1 3 5 7]\n"
     ]
    }
   ],
   "source": [
    "arr = np.array([1, 2, 3, 4, 5, 6, 7])\n",
    "print(arr[::2])"
   ]
  },
  {
   "cell_type": "code",
   "execution_count": 62,
   "id": "b4797e19",
   "metadata": {},
   "outputs": [
    {
     "data": {
      "text/plain": [
       "array([[0, 1, 0, 1, 0, 1, 0, 1],\n",
       "       [1, 0, 1, 0, 1, 0, 1, 0],\n",
       "       [0, 1, 0, 1, 0, 1, 0, 1],\n",
       "       [1, 0, 1, 0, 1, 0, 1, 0],\n",
       "       [0, 1, 0, 1, 0, 1, 0, 1],\n",
       "       [1, 0, 1, 0, 1, 0, 1, 0],\n",
       "       [0, 1, 0, 1, 0, 1, 0, 1],\n",
       "       [1, 0, 1, 0, 1, 0, 1, 0]])"
      ]
     },
     "execution_count": 62,
     "metadata": {},
     "output_type": "execute_result"
    }
   ],
   "source": [
    "Z = np.zeros((8,8),dtype=int)\n",
    "Z[1::2,::2]=1\n",
    "Z[::2,1::2]=1\n",
    "Z"
   ]
  },
  {
   "cell_type": "code",
   "execution_count": 63,
   "id": "3d5922e3",
   "metadata": {},
   "outputs": [],
   "source": [
    "del Z"
   ]
  },
  {
   "cell_type": "markdown",
   "id": "365bf857",
   "metadata": {},
   "source": [
    "#### Consider a (6,7,8) shape array, what is the index (x,y,z) of the 100th element? (★☆☆)"
   ]
  },
  {
   "cell_type": "code",
   "execution_count": 38,
   "id": "5a9b3c7a",
   "metadata": {},
   "outputs": [
    {
     "data": {
      "text/plain": [
       "(1, 5, 3)"
      ]
     },
     "execution_count": 38,
     "metadata": {},
     "output_type": "execute_result"
    }
   ],
   "source": [
    "np.unravel_index(99,(6,7,8))"
   ]
  },
  {
   "cell_type": "markdown",
   "id": "a6a37266",
   "metadata": {},
   "source": [
    "####  Multiply a 5x3 matrix by a 3x2 matrix (real matrix product) (★☆☆)"
   ]
  },
  {
   "cell_type": "code",
   "execution_count": 70,
   "id": "d1aa3729",
   "metadata": {},
   "outputs": [
    {
     "name": "stdout",
     "output_type": "stream",
     "text": [
      "[[3. 3.]\n",
      " [3. 3.]\n",
      " [3. 3.]\n",
      " [3. 3.]\n",
      " [3. 3.]]\n"
     ]
    }
   ],
   "source": [
    "print(np.dot(np.ones((5,3)),np.ones((3,2))))"
   ]
  },
  {
   "cell_type": "markdown",
   "id": "4b849bbd",
   "metadata": {},
   "source": [
    "#### Given a 1D array, negate all elements which are between 3 and 8, in place. (★☆☆)\n"
   ]
  },
  {
   "cell_type": "code",
   "execution_count": 73,
   "id": "31a5adf8",
   "metadata": {},
   "outputs": [
    {
     "name": "stdout",
     "output_type": "stream",
     "text": [
      "[ 0  1  2  3 -4 -5 -6 -7  8  9]\n"
     ]
    }
   ],
   "source": [
    "x = np.arange(10)\n",
    "x[(x>3)&(x<8)] *= -1\n",
    "print(x)"
   ]
  },
  {
   "cell_type": "markdown",
   "id": "6a6bc3bf",
   "metadata": {},
   "source": [
    "#### Legal operations on vectors"
   ]
  },
  {
   "cell_type": "code",
   "execution_count": 164,
   "id": "ed7fe6d9",
   "metadata": {},
   "outputs": [
    {
     "data": {
      "text/plain": [
       "array([0, 1, 2, 3, 4, 5, 6, 7, 8, 9])"
      ]
     },
     "execution_count": 164,
     "metadata": {},
     "output_type": "execute_result"
    }
   ],
   "source": [
    "x = np.arange(10)\n",
    "x"
   ]
  },
  {
   "cell_type": "code",
   "execution_count": 103,
   "id": "1aad8190",
   "metadata": {},
   "outputs": [
    {
     "data": {
      "text/plain": [
       "array([ 0,  1,  4,  9, 16, 25, 36, 49, 64, 81])"
      ]
     },
     "execution_count": 103,
     "metadata": {},
     "output_type": "execute_result"
    }
   ],
   "source": [
    "x*x"
   ]
  },
  {
   "cell_type": "code",
   "execution_count": 104,
   "id": "0ef40b1d",
   "metadata": {},
   "outputs": [
    {
     "data": {
      "text/plain": [
       "array([ 0,  4,  8, 12, 16, 20, 24, 28, 32, 36])"
      ]
     },
     "execution_count": 104,
     "metadata": {},
     "output_type": "execute_result"
    }
   ],
   "source": [
    "x<<2"
   ]
  },
  {
   "cell_type": "code",
   "execution_count": 105,
   "id": "b7c4fb66",
   "metadata": {},
   "outputs": [
    {
     "data": {
      "text/plain": [
       "array([0, 0, 0, 0, 1, 1, 1, 1, 2, 2])"
      ]
     },
     "execution_count": 105,
     "metadata": {},
     "output_type": "execute_result"
    }
   ],
   "source": [
    "x>>2"
   ]
  },
  {
   "cell_type": "code",
   "execution_count": 106,
   "id": "527cbed5",
   "metadata": {},
   "outputs": [
    {
     "data": {
      "text/plain": [
       "array([0.+0.j, 0.+1.j, 0.+2.j, 0.+3.j, 0.+4.j, 0.+5.j, 0.+6.j, 0.+7.j,\n",
       "       0.+8.j, 0.+9.j])"
      ]
     },
     "execution_count": 106,
     "metadata": {},
     "output_type": "execute_result"
    }
   ],
   "source": [
    "1j*x"
   ]
  },
  {
   "cell_type": "code",
   "execution_count": 107,
   "id": "6dc665b8",
   "metadata": {},
   "outputs": [
    {
     "data": {
      "text/plain": [
       "array([0., 1., 2., 3., 4., 5., 6., 7., 8., 9.])"
      ]
     },
     "execution_count": 107,
     "metadata": {},
     "output_type": "execute_result"
    }
   ],
   "source": [
    "x/1/1"
   ]
  },
  {
   "cell_type": "code",
   "execution_count": 114,
   "id": "d5f8df35",
   "metadata": {},
   "outputs": [
    {
     "name": "stderr",
     "output_type": "stream",
     "text": [
      "/var/folders/lj/my6r3k650wl54v5nz5r6x5cm0000gn/T/ipykernel_89736/873513115.py:1: RuntimeWarning: invalid value encountered in true_divide\n",
      "  np.array(0) / np.array(0)\n"
     ]
    },
    {
     "data": {
      "text/plain": [
       "nan"
      ]
     },
     "execution_count": 114,
     "metadata": {},
     "output_type": "execute_result"
    }
   ],
   "source": [
    "np.array(0) / np.array(0)"
   ]
  },
  {
   "cell_type": "code",
   "execution_count": 115,
   "id": "c3164060",
   "metadata": {},
   "outputs": [
    {
     "name": "stderr",
     "output_type": "stream",
     "text": [
      "/var/folders/lj/my6r3k650wl54v5nz5r6x5cm0000gn/T/ipykernel_89736/2018018105.py:1: RuntimeWarning: divide by zero encountered in floor_divide\n",
      "  np.array(0) // np.array(0)\n"
     ]
    },
    {
     "data": {
      "text/plain": [
       "0"
      ]
     },
     "execution_count": 115,
     "metadata": {},
     "output_type": "execute_result"
    }
   ],
   "source": [
    "np.array(0) // np.array(0)"
   ]
  },
  {
   "cell_type": "code",
   "execution_count": 116,
   "id": "ad947069",
   "metadata": {},
   "outputs": [
    {
     "data": {
      "text/plain": [
       "array([0.])"
      ]
     },
     "execution_count": 116,
     "metadata": {},
     "output_type": "execute_result"
    }
   ],
   "source": [
    "np.array([np.nan]).astype(int).astype(float)"
   ]
  },
  {
   "cell_type": "code",
   "execution_count": 143,
   "id": "93a9b002",
   "metadata": {},
   "outputs": [
    {
     "data": {
      "text/plain": [
       "array([-1.5, -1.5, -1.5])"
      ]
     },
     "execution_count": 143,
     "metadata": {},
     "output_type": "execute_result"
    }
   ],
   "source": [
    "A = np.ones(3)*1\n",
    "B = np.ones(3)*2\n",
    "#np.add(A,B,out=B)\n",
    "(A+B)*(-A/2)"
   ]
  },
  {
   "cell_type": "code",
   "execution_count": 140,
   "id": "559c9c82",
   "metadata": {},
   "outputs": [
    {
     "data": {
      "text/plain": [
       "array([-1.5, -1.5, -1.5])"
      ]
     },
     "execution_count": 140,
     "metadata": {},
     "output_type": "execute_result"
    }
   ],
   "source": [
    "np.add(A,B,out=B)\n",
    "np.divide(A,2,out=A)\n",
    "np.negative(A,out=A)\n",
    "np.multiply(A,B,out=A)"
   ]
  },
  {
   "cell_type": "markdown",
   "id": "1a4d8c8b",
   "metadata": {},
   "source": [
    "#### Display four ways of getting the integer part of an array"
   ]
  },
  {
   "cell_type": "code",
   "execution_count": 163,
   "id": "abd8d759",
   "metadata": {},
   "outputs": [
    {
     "data": {
      "text/plain": [
       "array([ True,  True,  True,  True,  True,  True,  True,  True,  True,\n",
       "        True])"
      ]
     },
     "execution_count": 163,
     "metadata": {},
     "output_type": "execute_result"
    }
   ],
   "source": [
    "Z = np.random.uniform(0,10,10)\n",
    "Z//1 == (Z-Z%1)\n",
    "(Z-Z%1) == np.floor(Z)\n",
    "Z.astype(int) == np.floor(Z)"
   ]
  },
  {
   "cell_type": "code",
   "execution_count": 155,
   "id": "605742f4",
   "metadata": {},
   "outputs": [
    {
     "data": {
      "text/plain": [
       "array([8, 2, 2, 9, 2, 0, 0, 6, 4, 0])"
      ]
     },
     "execution_count": 155,
     "metadata": {},
     "output_type": "execute_result"
    }
   ],
   "source": []
  },
  {
   "cell_type": "markdown",
   "id": "5d43a0be",
   "metadata": {},
   "source": [
    "#### Create a 5x5 matrix with row values ranging from 0 to 4 (★★☆)\n"
   ]
  },
  {
   "cell_type": "code",
   "execution_count": 157,
   "id": "0821858d",
   "metadata": {},
   "outputs": [],
   "source": [
    "Z = np.zeros((5,5))\n",
    "Z += np.arange(5)"
   ]
  },
  {
   "cell_type": "code",
   "execution_count": 196,
   "id": "018e8cf4",
   "metadata": {},
   "outputs": [],
   "source": []
  },
  {
   "cell_type": "markdown",
   "id": "77a4af03",
   "metadata": {},
   "source": [
    "#### Inverse of a matrix"
   ]
  },
  {
   "cell_type": "code",
   "execution_count": 210,
   "id": "d7df6d10",
   "metadata": {},
   "outputs": [
    {
     "data": {
      "text/plain": [
       "array([[ 2.19350266,  3.89570489, 16.96419292],\n",
       "       [ 2.82207355,  1.02504115,  4.61806533],\n",
       "       [44.61053515,  2.50709529,  2.21722673]])"
      ]
     },
     "execution_count": 210,
     "metadata": {},
     "output_type": "execute_result"
    }
   ],
   "source": [
    "Z = np.random.random((3,3))\n",
    "1/Z"
   ]
  },
  {
   "cell_type": "code",
   "execution_count": 198,
   "id": "bbd2b77c",
   "metadata": {},
   "outputs": [
    {
     "data": {
      "text/plain": [
       "array([[0.7923353 , 0.80731927, 0.03965707],\n",
       "       [0.59261135, 0.77983771, 0.62036145],\n",
       "       [0.25964474, 0.37475783, 0.89719888]])"
      ]
     },
     "execution_count": 198,
     "metadata": {},
     "output_type": "execute_result"
    }
   ],
   "source": [
    "Z"
   ]
  },
  {
   "cell_type": "code",
   "execution_count": 203,
   "id": "fbb421d6",
   "metadata": {},
   "outputs": [],
   "source": [
    "Zinv=np.linalg.inv(Z)"
   ]
  },
  {
   "cell_type": "code",
   "execution_count": 209,
   "id": "94419f19",
   "metadata": {},
   "outputs": [
    {
     "data": {
      "text/plain": [
       "array([[1, 0, 0],\n",
       "       [0, 1, 0],\n",
       "       [0, 0, 0]])"
      ]
     },
     "execution_count": 209,
     "metadata": {},
     "output_type": "execute_result"
    }
   ],
   "source": [
    "np.dot(Zinv,Z).astype(int)"
   ]
  },
  {
   "cell_type": "markdown",
   "id": "7e06d784",
   "metadata": {},
   "source": [
    "#### 59. How to sort an array by the nth column? (★★☆)"
   ]
  },
  {
   "cell_type": "code",
   "execution_count": 217,
   "id": "802cbb4f",
   "metadata": {},
   "outputs": [
    {
     "data": {
      "text/plain": [
       "array([[ 5, 22, 40,  7, 27, 20,  8, 19, 24, 41],\n",
       "       [10, 39, 45, 42,  4, 25, 16, 21, 13, 21],\n",
       "       [18, 19,  6, 16, 12, 31, 45, 32, 47, 35],\n",
       "       [14,  9,  6, 43, 19, 19,  5, 28, 14, 48],\n",
       "       [12,  7, 32, 42,  3, 27, 16, 26, 32, 32],\n",
       "       [38, 16, 17, 38, 46, 32, 27,  4, 49,  4],\n",
       "       [13, 33, 38, 23, 34, 25, 46, 11,  3, 22],\n",
       "       [35, 17,  9, 35, 28, 19, 13,  4, 18, 35],\n",
       "       [35, 47, 29, 21, 17, 22,  3, 36, 36, 34],\n",
       "       [14,  2, 42, 46, 44, 32, 23, 11, 23, 12]])"
      ]
     },
     "execution_count": 217,
     "metadata": {},
     "output_type": "execute_result"
    }
   ],
   "source": [
    "Z = np.random.randint(0,50,size=(10,10))\n",
    "Z"
   ]
  },
  {
   "cell_type": "code",
   "execution_count": 216,
   "id": "82ea35ea",
   "metadata": {},
   "outputs": [
    {
     "data": {
      "text/plain": [
       "array([[ 6,  0, 24, 15, 45, 15, 31, 25, 24, 32],\n",
       "       [32,  3, 37, 49, 30, 12,  9, 34, 42, 22],\n",
       "       [17, 11, 20, 44, 39, 26, 30, 34,  1, 20],\n",
       "       [30, 12, 20, 44, 24, 16, 47, 34, 15,  6],\n",
       "       [25, 13, 24,  7,  9, 14, 47, 26, 13, 32],\n",
       "       [11, 14, 33,  2, 42, 40,  4,  9, 15, 20],\n",
       "       [ 2, 18, 29, 45, 23,  8, 22, 26,  6, 11],\n",
       "       [45, 33,  7, 23, 46,  7, 30, 25, 32, 39],\n",
       "       [ 7, 37, 22, 14, 34, 43, 15, 31, 16, 39],\n",
       "       [15, 43, 34, 48, 10, 16, 41, 12,  6, 15]])"
      ]
     },
     "execution_count": 216,
     "metadata": {},
     "output_type": "execute_result"
    }
   ],
   "source": [
    "Z[Z[:,1].argsort()]"
   ]
  },
  {
   "cell_type": "code",
   "execution_count": 220,
   "id": "09bc7d59",
   "metadata": {},
   "outputs": [],
   "source": [
    "def arr_col_sort(arr,col):\n",
    "    return arr[arr[:,col].argsort()]"
   ]
  },
  {
   "cell_type": "code",
   "execution_count": 221,
   "id": "e1cbf578",
   "metadata": {},
   "outputs": [
    {
     "data": {
      "text/plain": [
       "array([[14,  2, 42, 46, 44, 32, 23, 11, 23, 12],\n",
       "       [12,  7, 32, 42,  3, 27, 16, 26, 32, 32],\n",
       "       [14,  9,  6, 43, 19, 19,  5, 28, 14, 48],\n",
       "       [38, 16, 17, 38, 46, 32, 27,  4, 49,  4],\n",
       "       [35, 17,  9, 35, 28, 19, 13,  4, 18, 35],\n",
       "       [18, 19,  6, 16, 12, 31, 45, 32, 47, 35],\n",
       "       [ 5, 22, 40,  7, 27, 20,  8, 19, 24, 41],\n",
       "       [13, 33, 38, 23, 34, 25, 46, 11,  3, 22],\n",
       "       [10, 39, 45, 42,  4, 25, 16, 21, 13, 21],\n",
       "       [35, 47, 29, 21, 17, 22,  3, 36, 36, 34]])"
      ]
     },
     "execution_count": 221,
     "metadata": {},
     "output_type": "execute_result"
    }
   ],
   "source": [
    "arr_col_sort(Z,1)"
   ]
  },
  {
   "cell_type": "code",
   "execution_count": null,
   "id": "9a3a3582",
   "metadata": {},
   "outputs": [],
   "source": []
  }
 ],
 "metadata": {
  "kernelspec": {
   "display_name": "Python 3 (ipykernel)",
   "language": "python",
   "name": "python3"
  },
  "language_info": {
   "codemirror_mode": {
    "name": "ipython",
    "version": 3
   },
   "file_extension": ".py",
   "mimetype": "text/x-python",
   "name": "python",
   "nbconvert_exporter": "python",
   "pygments_lexer": "ipython3",
   "version": "3.9.13"
  }
 },
 "nbformat": 4,
 "nbformat_minor": 5
}
