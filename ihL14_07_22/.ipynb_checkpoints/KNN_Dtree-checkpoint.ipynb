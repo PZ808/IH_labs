{
 "cells": [
  {
   "cell_type": "markdown",
   "id": "d627114a",
   "metadata": {},
   "source": [
    "# KNN and DTree"
   ]
  },
  {
   "cell_type": "markdown",
   "id": "e1936c8a",
   "metadata": {},
   "source": [
    "## Import packages and define utility functions"
   ]
  },
  {
   "cell_type": "code",
   "execution_count": 40,
   "id": "ef13dbe1",
   "metadata": {},
   "outputs": [],
   "source": [
    "import pandas as pd\n",
    "import numpy as np;\n",
    "import scipy;\n",
    "## plotting libraries\n",
    "from matplotlib import pyplot as plt\n",
    "import seaborn as sns\n",
    "## stats Libraries\n",
    "from scipy import stats\n",
    "import statsmodels.api as sm\n",
    "## Sklearn libraries\n",
    "from sklearn import model_selection\n",
    "from sklearn import metrics as metrics\n",
    "from sklearn import preprocessing\n",
    "from sklearn import linear_model as lm\n",
    "from sklearn.preprocessing import StandardScaler\n",
    "from sklearn.neighbors import KNeighborsClassifier\n",
    "from sklearn.metrics import plot_confusion_matrix, classification_report\n",
    "from sklearn.metrics import accuracy_score, precision_score, recall_score, confusion_matrix\n",
    "from sklearn.tree import DecisionTreeClassifier\n",
    "from sklearn.tree import plot_tree\n",
    "\n",
    "\n",
    "import warnings\n",
    "warnings.filterwarnings('ignore')\n",
    "\n",
    "%matplotlib inline"
   ]
  },
  {
   "cell_type": "code",
   "execution_count": 2,
   "id": "9e47facd",
   "metadata": {},
   "outputs": [],
   "source": [
    "#!pip install graphviz\n",
    "#conda install -c conda-forge python-graphviz"
   ]
  },
  {
   "cell_type": "code",
   "execution_count": 3,
   "id": "79bcaedf",
   "metadata": {},
   "outputs": [],
   "source": [
    "def model_eval(yt,ypt, yT,ypT):\n",
    "    return pd.DataFrame({'Error_metric': ['Accuracy','Precision','Recall'],\n",
    "                               'Train': [accuracy_score(yt, ypt),\n",
    "                                         precision_score(yt, ypt),\n",
    "                                         recall_score(yt, ypt)],\n",
    "                               'Test': [accuracy_score(yT, ypT),\n",
    "                                        precision_score(yT, ypT),\n",
    "                                        recall_score(yT, ypT)]})"
   ]
  },
  {
   "cell_type": "code",
   "execution_count": 4,
   "id": "65732ee5",
   "metadata": {},
   "outputs": [],
   "source": [
    "def fill_nans_with_means(df,col):\n",
    "    ''' fills nans in column with mean '''\n",
    "    return df[col].fillna(df[col].mean()).round()"
   ]
  },
  {
   "cell_type": "markdown",
   "id": "e7e32b31",
   "metadata": {},
   "source": [
    "## Read and clean data"
   ]
  },
  {
   "cell_type": "code",
   "execution_count": 5,
   "id": "e25238b0",
   "metadata": {},
   "outputs": [],
   "source": [
    "churnData = pd.read_csv('DATA_Customer-Churn.csv') # import data frame "
   ]
  },
  {
   "cell_type": "code",
   "execution_count": 6,
   "id": "53e64f5f",
   "metadata": {},
   "outputs": [
    {
     "data": {
      "text/plain": [
       "gender               object\n",
       "SeniorCitizen         int64\n",
       "Partner              object\n",
       "Dependents           object\n",
       "tenure                int64\n",
       "PhoneService         object\n",
       "OnlineSecurity       object\n",
       "OnlineBackup         object\n",
       "DeviceProtection     object\n",
       "TechSupport          object\n",
       "StreamingTV          object\n",
       "StreamingMovies      object\n",
       "Contract             object\n",
       "MonthlyCharges      float64\n",
       "TotalCharges         object\n",
       "Churn                object\n",
       "dtype: object"
      ]
     },
     "execution_count": 6,
     "metadata": {},
     "output_type": "execute_result"
    }
   ],
   "source": [
    "churnData.dtypes  # explore data types"
   ]
  },
  {
   "cell_type": "code",
   "execution_count": 7,
   "id": "b0cedce5",
   "metadata": {},
   "outputs": [
    {
     "data": {
      "text/plain": [
       "gender              False\n",
       "SeniorCitizen       False\n",
       "Partner             False\n",
       "Dependents          False\n",
       "tenure              False\n",
       "PhoneService        False\n",
       "OnlineSecurity      False\n",
       "OnlineBackup        False\n",
       "DeviceProtection    False\n",
       "TechSupport         False\n",
       "StreamingTV         False\n",
       "StreamingMovies     False\n",
       "Contract            False\n",
       "MonthlyCharges      False\n",
       "TotalCharges        False\n",
       "Churn               False\n",
       "dtype: bool"
      ]
     },
     "execution_count": 7,
     "metadata": {},
     "output_type": "execute_result"
    }
   ],
   "source": [
    "churnData.isnull().any() # check for null values"
   ]
  },
  {
   "cell_type": "code",
   "execution_count": 8,
   "id": "7386a161",
   "metadata": {},
   "outputs": [
    {
     "data": {
      "text/plain": [
       "False"
      ]
     },
     "execution_count": 8,
     "metadata": {},
     "output_type": "execute_result"
    }
   ],
   "source": [
    "churnData.isnull().values.any()"
   ]
  },
  {
   "cell_type": "code",
   "execution_count": 9,
   "id": "a4546a22",
   "metadata": {},
   "outputs": [
    {
     "data": {
      "text/plain": [
       "' '"
      ]
     },
     "execution_count": 9,
     "metadata": {},
     "output_type": "execute_result"
    }
   ],
   "source": [
    "# there are empty values, however. For example \n",
    "churnData['TotalCharges'].loc[488] "
   ]
  },
  {
   "cell_type": "code",
   "execution_count": 10,
   "id": "279e3064",
   "metadata": {},
   "outputs": [
    {
     "data": {
      "text/plain": [
       "gender               0\n",
       "SeniorCitizen        0\n",
       "Partner              0\n",
       "Dependents           0\n",
       "tenure               0\n",
       "PhoneService         0\n",
       "OnlineSecurity       0\n",
       "OnlineBackup         0\n",
       "DeviceProtection     0\n",
       "TechSupport          0\n",
       "StreamingTV          0\n",
       "StreamingMovies      0\n",
       "Contract             0\n",
       "MonthlyCharges       0\n",
       "TotalCharges        11\n",
       "Churn                0\n",
       "dtype: int64"
      ]
     },
     "execution_count": 10,
     "metadata": {},
     "output_type": "execute_result"
    }
   ],
   "source": [
    "# convert to float (nan)\n",
    "churnData.TotalCharges = pd.to_numeric(churnData.TotalCharges, errors='coerce').astype('float64') \n",
    "churnData.isnull().any() # check for null values\n",
    "churnData.isnull().sum()"
   ]
  },
  {
   "cell_type": "markdown",
   "id": "95ca0404",
   "metadata": {},
   "source": [
    "Tenure: time client has been in a contract"
   ]
  },
  {
   "cell_type": "code",
   "execution_count": 11,
   "id": "afb96e45",
   "metadata": {},
   "outputs": [
    {
     "data": {
      "text/plain": [
       "Index(['SeniorCitizen', 'tenure', 'MonthlyCharges', 'TotalCharges', 'Churn'], dtype='object')"
      ]
     },
     "execution_count": 11,
     "metadata": {},
     "output_type": "execute_result"
    }
   ],
   "source": [
    "# feature selection\n",
    "churnData = churnData.drop(labels=['gender','Partner','Dependents','PhoneService','OnlineSecurity','OnlineBackup',\\\n",
    "                              'DeviceProtection', 'Contract','TechSupport','StreamingTV','StreamingMovies'], axis=1) # drop customer label\n",
    "churnData.columns"
   ]
  },
  {
   "cell_type": "code",
   "execution_count": 12,
   "id": "e7070b5c",
   "metadata": {},
   "outputs": [],
   "source": [
    "churnData['TotalCharges']=fill_nans_with_means(churnData,'TotalCharges') # fill nans with means "
   ]
  },
  {
   "cell_type": "code",
   "execution_count": 13,
   "id": "27a2dfcf",
   "metadata": {
    "run_control": {
     "marked": true
    }
   },
   "outputs": [],
   "source": [
    "# X,y split\n",
    "y = churnData.Churn\n",
    "X = churnData.drop(labels=['Churn'],axis=1)"
   ]
  },
  {
   "cell_type": "code",
   "execution_count": 14,
   "id": "e082aeaf",
   "metadata": {},
   "outputs": [
    {
     "data": {
      "text/plain": [
       "0        No\n",
       "1        No\n",
       "2       Yes\n",
       "3        No\n",
       "4       Yes\n",
       "       ... \n",
       "7038     No\n",
       "7039     No\n",
       "7040     No\n",
       "7041    Yes\n",
       "7042     No\n",
       "Name: Churn, Length: 7043, dtype: object"
      ]
     },
     "execution_count": 14,
     "metadata": {},
     "output_type": "execute_result"
    }
   ],
   "source": [
    "y"
   ]
  },
  {
   "cell_type": "code",
   "execution_count": 15,
   "id": "a1e24c42",
   "metadata": {},
   "outputs": [],
   "source": [
    "y.replace({'No': 0, 'Yes': 1},inplace=True)"
   ]
  },
  {
   "cell_type": "code",
   "execution_count": 16,
   "id": "186acc02",
   "metadata": {},
   "outputs": [
    {
     "data": {
      "text/plain": [
       "0    5174\n",
       "1    1869\n",
       "Name: Churn, dtype: int64"
      ]
     },
     "execution_count": 16,
     "metadata": {},
     "output_type": "execute_result"
    }
   ],
   "source": [
    "y.value_counts()"
   ]
  },
  {
   "cell_type": "code",
   "execution_count": 17,
   "id": "da87ad1e",
   "metadata": {},
   "outputs": [
    {
     "data": {
      "text/plain": [
       "SeniorCitizen       int64\n",
       "tenure              int64\n",
       "MonthlyCharges    float64\n",
       "TotalCharges      float64\n",
       "dtype: object"
      ]
     },
     "execution_count": 17,
     "metadata": {},
     "output_type": "execute_result"
    }
   ],
   "source": [
    "X.dtypes"
   ]
  },
  {
   "cell_type": "code",
   "execution_count": 32,
   "id": "f648e370",
   "metadata": {},
   "outputs": [],
   "source": [
    "R_STATE = 32\n",
    "TS = .30"
   ]
  },
  {
   "cell_type": "code",
   "execution_count": 30,
   "id": "1d55afbd",
   "metadata": {},
   "outputs": [],
   "source": [
    "# define the models\n",
    "knnC = KNeighborsClassifier\n",
    "dtC  = DecisionTreeClassifier"
   ]
  },
  {
   "cell_type": "markdown",
   "id": "96ad3cf3",
   "metadata": {},
   "source": [
    "## KNN "
   ]
  },
  {
   "cell_type": "code",
   "execution_count": 33,
   "id": "5cda0371",
   "metadata": {},
   "outputs": [],
   "source": [
    "# select 30% for training\n",
    "X_train, X_test, y_train, y_test = model_selection.train_test_split(X, y, test_size=TS,random_state=R_STATE)"
   ]
  },
  {
   "cell_type": "code",
   "execution_count": 52,
   "id": "f7852c40",
   "metadata": {},
   "outputs": [],
   "source": [
    "# transform the data to have zero mean and unit variance\n",
    "std_scaler = StandardScaler().fit(X_train) \n",
    "X_train_scaled = std_scaler.transform(X_train)\n",
    "X_test_scaled = std_scaler.transform(X_test)"
   ]
  },
  {
   "cell_type": "code",
   "execution_count": 53,
   "id": "ed1acb87",
   "metadata": {},
   "outputs": [
    {
     "data": {
      "text/plain": [
       "0    1498\n",
       "1     615\n",
       "Name: Churn, dtype: int64"
      ]
     },
     "execution_count": 53,
     "metadata": {},
     "output_type": "execute_result"
    }
   ],
   "source": [
    "y_test.value_counts()"
   ]
  },
  {
   "cell_type": "markdown",
   "id": "db6089b0",
   "metadata": {},
   "source": [
    "### Evaluation "
   ]
  },
  {
   "cell_type": "code",
   "execution_count": 54,
   "id": "de26d9b5",
   "metadata": {},
   "outputs": [],
   "source": [
    "N_NEIGHS = 3"
   ]
  },
  {
   "cell_type": "code",
   "execution_count": 55,
   "id": "8c265215",
   "metadata": {},
   "outputs": [],
   "source": [
    "# model with KNN using 2 neighbors for clustering\n",
    "model = knnC(n_neighbors=N_NEIGHS, weights='uniform')\n",
    "model.fit(X_train_scaled, y_train)\n",
    "\n",
    "\n",
    "y_pred_test = model.predict(X_test_scaled)\n",
    "y_pred_train = model.predict(X_train_scaled)"
   ]
  },
  {
   "cell_type": "code",
   "execution_count": 56,
   "id": "5558d3d8",
   "metadata": {},
   "outputs": [
    {
     "data": {
      "text/plain": [
       "0    1751\n",
       "1     362\n",
       "dtype: int64"
      ]
     },
     "execution_count": 56,
     "metadata": {},
     "output_type": "execute_result"
    }
   ],
   "source": [
    "pd.DataFrame(y_pred_test).value_counts()"
   ]
  },
  {
   "cell_type": "code",
   "execution_count": 58,
   "id": "fe211cac",
   "metadata": {},
   "outputs": [
    {
     "data": {
      "text/html": [
       "<div>\n",
       "<style scoped>\n",
       "    .dataframe tbody tr th:only-of-type {\n",
       "        vertical-align: middle;\n",
       "    }\n",
       "\n",
       "    .dataframe tbody tr th {\n",
       "        vertical-align: top;\n",
       "    }\n",
       "\n",
       "    .dataframe thead th {\n",
       "        text-align: right;\n",
       "    }\n",
       "</style>\n",
       "<table border=\"1\" class=\"dataframe\">\n",
       "  <thead>\n",
       "    <tr style=\"text-align: right;\">\n",
       "      <th></th>\n",
       "      <th>Error_metric</th>\n",
       "      <th>Train</th>\n",
       "      <th>Test</th>\n",
       "    </tr>\n",
       "  </thead>\n",
       "  <tbody>\n",
       "    <tr>\n",
       "      <th>0</th>\n",
       "      <td>Accuracy</td>\n",
       "      <td>0.857606</td>\n",
       "      <td>0.691907</td>\n",
       "    </tr>\n",
       "    <tr>\n",
       "      <th>1</th>\n",
       "      <td>Precision</td>\n",
       "      <td>0.754613</td>\n",
       "      <td>0.450276</td>\n",
       "    </tr>\n",
       "    <tr>\n",
       "      <th>2</th>\n",
       "      <td>Recall</td>\n",
       "      <td>0.652313</td>\n",
       "      <td>0.265041</td>\n",
       "    </tr>\n",
       "  </tbody>\n",
       "</table>\n",
       "</div>"
      ],
      "text/plain": [
       "  Error_metric     Train      Test\n",
       "0     Accuracy  0.857606  0.691907\n",
       "1    Precision  0.754613  0.450276\n",
       "2       Recall  0.652313  0.265041"
      ]
     },
     "execution_count": 58,
     "metadata": {},
     "output_type": "execute_result"
    }
   ],
   "source": [
    "model_eval(y_train, y_pred_train, y_test, y_pred_test) # get model errors"
   ]
  },
  {
   "cell_type": "code",
   "execution_count": 59,
   "id": "aad6758d",
   "metadata": {},
   "outputs": [
    {
     "name": "stdout",
     "output_type": "stream",
     "text": [
      "              precision    recall  f1-score   support\n",
      "\n",
      "           0       0.74      0.87      0.80      1498\n",
      "           1       0.45      0.27      0.33       615\n",
      "\n",
      "    accuracy                           0.69      2113\n",
      "   macro avg       0.60      0.57      0.57      2113\n",
      "weighted avg       0.66      0.69      0.66      2113\n",
      "\n"
     ]
    }
   ],
   "source": [
    "print(classification_report(y_test, y_pred_test))"
   ]
  },
  {
   "cell_type": "code",
   "execution_count": 61,
   "id": "19d72128",
   "metadata": {},
   "outputs": [
    {
     "data": {
      "image/png": "[encoded data removed]",
      "text/plain": [
       "<Figure size 1008x576 with 4 Axes>"
      ]
     },
     "metadata": {
      "needs_background": "light"
     },
     "output_type": "display_data"
    }
   ],
   "source": [
    "# plot confusion matrix\n",
    "fig, ax = plt.subplots(1,2, figsize=(14,8))\n",
    "\n",
    "plot_confusion_matrix(model,X_train_scaled,y_train,ax=ax[0], values_format = 'd')\n",
    "ax[0].title.set_text(\"Train Set\")\n",
    "\n",
    "plot_confusion_matrix(model,X_test_scaled,y_test,ax=ax[1],values_format = 'd')\n",
    "ax[1].title.set_text(\"Test Set\")"
   ]
  },
  {
   "cell_type": "code",
   "execution_count": 149,
   "id": "45a57688",
   "metadata": {},
   "outputs": [
    {
     "name": "stdout",
     "output_type": "stream",
     "text": [
      "k=2\tmean_score = 0.718\n",
      "k=3\tmean_score = 0.715\n",
      "k=4\tmean_score = 0.733\n",
      "k=5\tmean_score = 0.726\n",
      "k=6\tmean_score = 0.727\n",
      "k=7\tmean_score = 0.719\n",
      "k=8\tmean_score = 0.726\n",
      "k=9\tmean_score = 0.722\n",
      "k=10\tmean_score = 0.717\n",
      "k=11\tmean_score = 0.717\n",
      "k=12\tmean_score = 0.716\n",
      "k=13\tmean_score = 0.715\n",
      "k=14\tmean_score = 0.716\n",
      "k=15\tmean_score = 0.719\n"
     ]
    },
    {
     "data": {
      "text/plain": [
       "4"
      ]
     },
     "execution_count": 149,
     "metadata": {},
     "output_type": "execute_result"
    }
   ],
   "source": [
    "CV = range(2,16)\n",
    "knn_results = {}\n",
    "for cv_ in CV:\n",
    "    scores = cross_val_score(model, X_train, y_train, cv=cv_)\n",
    "    knn_results[cv_] = scores.mean()\n",
    "    print( \"k=\"+str(cv_) + \"\\t\"  + \"mean_score = \"+str(round(scores.mean(),3)) )\n",
    "\n",
    "knn_results\n",
    "\n"
   ]
  },
  {
   "cell_type": "code",
   "execution_count": null,
   "id": "d79e6a5d",
   "metadata": {},
   "outputs": [],
   "source": [
    "K_VAL = max(knn_results, key=knn_results.get)\n",
    "K_VAL"
   ]
  },
  {
   "cell_type": "markdown",
   "id": "ee7d9978",
   "metadata": {},
   "source": [
    "## Decision Tree"
   ]
  },
  {
   "cell_type": "code",
   "execution_count": 121,
   "id": "eb451cb4",
   "metadata": {},
   "outputs": [],
   "source": [
    "X_train, X_test, y_train, y_test = model_selection.train_test_split(X, y, test_size=TS,random_state=R_STATE)"
   ]
  },
  {
   "cell_type": "code",
   "execution_count": 122,
   "id": "2eaa5b47",
   "metadata": {},
   "outputs": [],
   "source": [
    "from sklearn.model_selection import cross_val_score"
   ]
  },
  {
   "cell_type": "code",
   "execution_count": 123,
   "id": "d8c46b50",
   "metadata": {
    "run_control": {
     "marked": true
    }
   },
   "outputs": [],
   "source": [
    "DEPTH = 4\n",
    "model = DecisionTreeClassifier(max_depth=DEPTH)\n",
    "\n",
    "model.fit(X_train, y_train)\n",
    "\n",
    "y_pred_train_dt = model.predict(X_train)\n",
    "y_pred_test_dt  = model.predict(X_test)"
   ]
  },
  {
   "cell_type": "code",
   "execution_count": 124,
   "id": "37ca4f22",
   "metadata": {},
   "outputs": [
    {
     "data": {
      "text/html": [
       "<div>\n",
       "<style scoped>\n",
       "    .dataframe tbody tr th:only-of-type {\n",
       "        vertical-align: middle;\n",
       "    }\n",
       "\n",
       "    .dataframe tbody tr th {\n",
       "        vertical-align: top;\n",
       "    }\n",
       "\n",
       "    .dataframe thead th {\n",
       "        text-align: right;\n",
       "    }\n",
       "</style>\n",
       "<table border=\"1\" class=\"dataframe\">\n",
       "  <thead>\n",
       "    <tr style=\"text-align: right;\">\n",
       "      <th></th>\n",
       "      <th>Error_metric</th>\n",
       "      <th>Train</th>\n",
       "      <th>Test</th>\n",
       "    </tr>\n",
       "  </thead>\n",
       "  <tbody>\n",
       "    <tr>\n",
       "      <th>0</th>\n",
       "      <td>Accuracy</td>\n",
       "      <td>0.741972</td>\n",
       "      <td>0.729055</td>\n",
       "    </tr>\n",
       "    <tr>\n",
       "      <th>1</th>\n",
       "      <td>Precision</td>\n",
       "      <td>0.773768</td>\n",
       "      <td>0.778008</td>\n",
       "    </tr>\n",
       "    <tr>\n",
       "      <th>2</th>\n",
       "      <td>Recall</td>\n",
       "      <td>0.677718</td>\n",
       "      <td>0.655594</td>\n",
       "    </tr>\n",
       "  </tbody>\n",
       "</table>\n",
       "</div>"
      ],
      "text/plain": [
       "  Error_metric     Train      Test\n",
       "0     Accuracy  0.741972  0.729055\n",
       "1    Precision  0.773768  0.778008\n",
       "2       Recall  0.677718  0.655594"
      ]
     },
     "execution_count": 124,
     "metadata": {},
     "output_type": "execute_result"
    }
   ],
   "source": [
    "model_eval(y_train, y_pred_train_dt, y_test, y_pred_test_dt) # get model errors"
   ]
  },
  {
   "cell_type": "code",
   "execution_count": 125,
   "id": "3783d4e0",
   "metadata": {},
   "outputs": [
    {
     "data": {
      "image/png": "[encoded data removed]",
      "text/plain": [
       "<Figure size 1008x576 with 4 Axes>"
      ]
     },
     "metadata": {
      "needs_background": "light"
     },
     "output_type": "display_data"
    }
   ],
   "source": [
    "# confusion matrix\n",
    "fig, ax = plt.subplots(1,2, figsize=(14,8))\n",
    "plot_confusion_matrix(model,X_train,y_train,ax=ax[0], values_format = 'd')\n",
    "ax[0].title.set_text(\"Train Set\")\n",
    "plot_confusion_matrix(model,X_test,y_test,ax=ax[1],values_format = 'd')\n",
    "ax[1].title.set_text(\"Test Set\")"
   ]
  },
  {
   "cell_type": "code",
   "execution_count": 126,
   "id": "d6d9dee1",
   "metadata": {},
   "outputs": [
    {
     "data": {
      "image/png": "[encoded data removed]",
      "text/plain": [
       "<Figure size 2448x1440 with 1 Axes>"
      ]
     },
     "metadata": {
      "needs_background": "light"
     },
     "output_type": "display_data"
    }
   ],
   "source": [
    "fig, axes = plt.subplots(nrows = 1,ncols = 1,figsize = (34,20))\n",
    "\n",
    "plot_tree(model,filled = True, rounded=True,feature_names=X.columns)\n",
    "plt.show() "
   ]
  },
  {
   "cell_type": "code",
   "execution_count": 127,
   "id": "fa5c4cc9",
   "metadata": {},
   "outputs": [
    {
     "data": {
      "text/plain": [
       "0.7270642201834862"
      ]
     },
     "execution_count": 127,
     "metadata": {},
     "output_type": "execute_result"
    }
   ],
   "source": [
    "scores=cross_val_score(model, X_train, y_train, cv=6)\n",
    "scores.mean()\n"
   ]
  },
  {
   "cell_type": "markdown",
   "id": "48620b2a",
   "metadata": {},
   "source": [
    "## Data downsampling"
   ]
  },
  {
   "cell_type": "code",
   "execution_count": 140,
   "id": "21f2c1c3",
   "metadata": {},
   "outputs": [
    {
     "name": "stdout",
     "output_type": "stream",
     "text": [
      "(5174, 5) (1869, 5)\n"
     ]
    }
   ],
   "source": [
    "churn_0 = churnData[churnData['Churn'] == 0]\n",
    "churn_1 = churnData[churnData['Churn'] == 1]\n",
    "print(churn_0.shape,churn_1.shape)"
   ]
  },
  {
   "cell_type": "code",
   "execution_count": 141,
   "id": "b8221793",
   "metadata": {},
   "outputs": [
    {
     "data": {
      "text/html": [
       "<div>\n",
       "<style scoped>\n",
       "    .dataframe tbody tr th:only-of-type {\n",
       "        vertical-align: middle;\n",
       "    }\n",
       "\n",
       "    .dataframe tbody tr th {\n",
       "        vertical-align: top;\n",
       "    }\n",
       "\n",
       "    .dataframe thead th {\n",
       "        text-align: right;\n",
       "    }\n",
       "</style>\n",
       "<table border=\"1\" class=\"dataframe\">\n",
       "  <thead>\n",
       "    <tr style=\"text-align: right;\">\n",
       "      <th></th>\n",
       "      <th>SeniorCitizen</th>\n",
       "      <th>tenure</th>\n",
       "      <th>MonthlyCharges</th>\n",
       "      <th>TotalCharges</th>\n",
       "      <th>Churn</th>\n",
       "    </tr>\n",
       "  </thead>\n",
       "  <tbody>\n",
       "    <tr>\n",
       "      <th>0</th>\n",
       "      <td>0</td>\n",
       "      <td>1</td>\n",
       "      <td>29.85</td>\n",
       "      <td>30.0</td>\n",
       "      <td>0</td>\n",
       "    </tr>\n",
       "    <tr>\n",
       "      <th>1</th>\n",
       "      <td>0</td>\n",
       "      <td>34</td>\n",
       "      <td>56.95</td>\n",
       "      <td>1890.0</td>\n",
       "      <td>0</td>\n",
       "    </tr>\n",
       "    <tr>\n",
       "      <th>3</th>\n",
       "      <td>0</td>\n",
       "      <td>45</td>\n",
       "      <td>42.30</td>\n",
       "      <td>1841.0</td>\n",
       "      <td>0</td>\n",
       "    </tr>\n",
       "    <tr>\n",
       "      <th>6</th>\n",
       "      <td>0</td>\n",
       "      <td>22</td>\n",
       "      <td>89.10</td>\n",
       "      <td>1949.0</td>\n",
       "      <td>0</td>\n",
       "    </tr>\n",
       "    <tr>\n",
       "      <th>7</th>\n",
       "      <td>0</td>\n",
       "      <td>10</td>\n",
       "      <td>29.75</td>\n",
       "      <td>302.0</td>\n",
       "      <td>0</td>\n",
       "    </tr>\n",
       "  </tbody>\n",
       "</table>\n",
       "</div>"
      ],
      "text/plain": [
       "   SeniorCitizen  tenure  MonthlyCharges  TotalCharges  Churn\n",
       "0              0       1           29.85          30.0      0\n",
       "1              0      34           56.95        1890.0      0\n",
       "3              0      45           42.30        1841.0      0\n",
       "6              0      22           89.10        1949.0      0\n",
       "7              0      10           29.75         302.0      0"
      ]
     },
     "execution_count": 141,
     "metadata": {},
     "output_type": "execute_result"
    }
   ],
   "source": [
    "churn_0.head()"
   ]
  },
  {
   "cell_type": "code",
   "execution_count": 142,
   "id": "fab15b78",
   "metadata": {},
   "outputs": [
    {
     "name": "stdout",
     "output_type": "stream",
     "text": [
      "(1869, 5) (1869, 5)\n"
     ]
    }
   ],
   "source": [
    "# down sampling: get a random sampling from churn_0 matching the length of churn_1  \n",
    "churn_0_down = churn_0.sample(len(churn_1)) \n",
    "print(churn_0_down.shape,churn_1.shape) # check they're the same size"
   ]
  },
  {
   "cell_type": "code",
   "execution_count": 143,
   "id": "c8ebdbe2",
   "metadata": {},
   "outputs": [
    {
     "data": {
      "text/plain": [
       "1    1869\n",
       "0    1869\n",
       "Name: Churn, dtype: int64"
      ]
     },
     "execution_count": 143,
     "metadata": {},
     "output_type": "execute_result"
    }
   ],
   "source": [
    "data = pd.concat([churn_0_down, churn_1], axis=0)\n",
    "# shuffling the data\n",
    "data = data.sample(frac=1) \n",
    "data['Churn'].value_counts()"
   ]
  },
  {
   "cell_type": "code",
   "execution_count": 144,
   "id": "7982bcfb",
   "metadata": {},
   "outputs": [
    {
     "data": {
      "text/html": [
       "<div>\n",
       "<style scoped>\n",
       "    .dataframe tbody tr th:only-of-type {\n",
       "        vertical-align: middle;\n",
       "    }\n",
       "\n",
       "    .dataframe tbody tr th {\n",
       "        vertical-align: top;\n",
       "    }\n",
       "\n",
       "    .dataframe thead th {\n",
       "        text-align: right;\n",
       "    }\n",
       "</style>\n",
       "<table border=\"1\" class=\"dataframe\">\n",
       "  <thead>\n",
       "    <tr style=\"text-align: right;\">\n",
       "      <th></th>\n",
       "      <th>SeniorCitizen</th>\n",
       "      <th>tenure</th>\n",
       "      <th>MonthlyCharges</th>\n",
       "      <th>TotalCharges</th>\n",
       "      <th>Churn</th>\n",
       "    </tr>\n",
       "  </thead>\n",
       "  <tbody>\n",
       "    <tr>\n",
       "      <th>4721</th>\n",
       "      <td>0</td>\n",
       "      <td>1</td>\n",
       "      <td>20.25</td>\n",
       "      <td>20.0</td>\n",
       "      <td>1</td>\n",
       "    </tr>\n",
       "    <tr>\n",
       "      <th>879</th>\n",
       "      <td>0</td>\n",
       "      <td>33</td>\n",
       "      <td>54.65</td>\n",
       "      <td>1665.0</td>\n",
       "      <td>0</td>\n",
       "    </tr>\n",
       "    <tr>\n",
       "      <th>1644</th>\n",
       "      <td>0</td>\n",
       "      <td>34</td>\n",
       "      <td>109.80</td>\n",
       "      <td>3587.0</td>\n",
       "      <td>1</td>\n",
       "    </tr>\n",
       "    <tr>\n",
       "      <th>4386</th>\n",
       "      <td>0</td>\n",
       "      <td>55</td>\n",
       "      <td>57.55</td>\n",
       "      <td>3046.0</td>\n",
       "      <td>1</td>\n",
       "    </tr>\n",
       "    <tr>\n",
       "      <th>1987</th>\n",
       "      <td>0</td>\n",
       "      <td>25</td>\n",
       "      <td>89.15</td>\n",
       "      <td>2258.0</td>\n",
       "      <td>1</td>\n",
       "    </tr>\n",
       "    <tr>\n",
       "      <th>...</th>\n",
       "      <td>...</td>\n",
       "      <td>...</td>\n",
       "      <td>...</td>\n",
       "      <td>...</td>\n",
       "      <td>...</td>\n",
       "    </tr>\n",
       "    <tr>\n",
       "      <th>2089</th>\n",
       "      <td>0</td>\n",
       "      <td>50</td>\n",
       "      <td>39.70</td>\n",
       "      <td>1933.0</td>\n",
       "      <td>0</td>\n",
       "    </tr>\n",
       "    <tr>\n",
       "      <th>3682</th>\n",
       "      <td>0</td>\n",
       "      <td>1</td>\n",
       "      <td>69.10</td>\n",
       "      <td>69.0</td>\n",
       "      <td>1</td>\n",
       "    </tr>\n",
       "    <tr>\n",
       "      <th>6554</th>\n",
       "      <td>0</td>\n",
       "      <td>1</td>\n",
       "      <td>68.65</td>\n",
       "      <td>69.0</td>\n",
       "      <td>1</td>\n",
       "    </tr>\n",
       "    <tr>\n",
       "      <th>1854</th>\n",
       "      <td>1</td>\n",
       "      <td>1</td>\n",
       "      <td>43.30</td>\n",
       "      <td>43.0</td>\n",
       "      <td>1</td>\n",
       "    </tr>\n",
       "    <tr>\n",
       "      <th>3524</th>\n",
       "      <td>1</td>\n",
       "      <td>11</td>\n",
       "      <td>84.80</td>\n",
       "      <td>907.0</td>\n",
       "      <td>1</td>\n",
       "    </tr>\n",
       "  </tbody>\n",
       "</table>\n",
       "<p>3738 rows × 5 columns</p>\n",
       "</div>"
      ],
      "text/plain": [
       "      SeniorCitizen  tenure  MonthlyCharges  TotalCharges  Churn\n",
       "4721              0       1           20.25          20.0      1\n",
       "879               0      33           54.65        1665.0      0\n",
       "1644              0      34          109.80        3587.0      1\n",
       "4386              0      55           57.55        3046.0      1\n",
       "1987              0      25           89.15        2258.0      1\n",
       "...             ...     ...             ...           ...    ...\n",
       "2089              0      50           39.70        1933.0      0\n",
       "3682              0       1           69.10          69.0      1\n",
       "6554              0       1           68.65          69.0      1\n",
       "1854              1       1           43.30          43.0      1\n",
       "3524              1      11           84.80         907.0      1\n",
       "\n",
       "[3738 rows x 5 columns]"
      ]
     },
     "execution_count": 144,
     "metadata": {},
     "output_type": "execute_result"
    }
   ],
   "source": [
    "data"
   ]
  },
  {
   "cell_type": "code",
   "execution_count": 145,
   "id": "294b400c",
   "metadata": {},
   "outputs": [],
   "source": []
  },
  {
   "cell_type": "code",
   "execution_count": 156,
   "id": "8551feb2",
   "metadata": {},
   "outputs": [
    {
     "data": {
      "text/html": [
       "<div>\n",
       "<style scoped>\n",
       "    .dataframe tbody tr th:only-of-type {\n",
       "        vertical-align: middle;\n",
       "    }\n",
       "\n",
       "    .dataframe tbody tr th {\n",
       "        vertical-align: top;\n",
       "    }\n",
       "\n",
       "    .dataframe thead th {\n",
       "        text-align: right;\n",
       "    }\n",
       "</style>\n",
       "<table border=\"1\" class=\"dataframe\">\n",
       "  <thead>\n",
       "    <tr style=\"text-align: right;\">\n",
       "      <th></th>\n",
       "      <th>Error_metric</th>\n",
       "      <th>Train</th>\n",
       "      <th>Test</th>\n",
       "    </tr>\n",
       "  </thead>\n",
       "  <tbody>\n",
       "    <tr>\n",
       "      <th>0</th>\n",
       "      <td>Accuracy</td>\n",
       "      <td>0.753555</td>\n",
       "      <td>0.735910</td>\n",
       "    </tr>\n",
       "    <tr>\n",
       "      <th>1</th>\n",
       "      <td>Precision</td>\n",
       "      <td>0.776580</td>\n",
       "      <td>0.751743</td>\n",
       "    </tr>\n",
       "    <tr>\n",
       "      <th>2</th>\n",
       "      <td>Recall</td>\n",
       "      <td>0.713932</td>\n",
       "      <td>0.699092</td>\n",
       "    </tr>\n",
       "  </tbody>\n",
       "</table>\n",
       "</div>"
      ],
      "text/plain": [
       "  Error_metric     Train      Test\n",
       "0     Accuracy  0.753555  0.735910\n",
       "1    Precision  0.776580  0.751743\n",
       "2       Recall  0.713932  0.699092"
      ]
     },
     "execution_count": 156,
     "metadata": {},
     "output_type": "execute_result"
    }
   ],
   "source": [
    "# X,y split\n",
    "y = data.Churn\n",
    "X = data.drop(labels=['Churn'],axis=1)\n",
    "\n",
    "X_train, X_test, y_train, y_test = model_selection.train_test_split(X, y, test_size=TS,random_state=R_STATE)\n",
    "\n",
    "model = DecisionTreeClassifier(max_depth=DEPTH)\n",
    "model.fit(X_train, y_train)\n",
    "\n",
    "y_pred_train_dt = model.predict(X_train)\n",
    "y_pred_test_dt  = model.predict(X_test)\n",
    "\n",
    "model_eval(y_train, y_pred_train_dt, y_test, y_pred_test_dt) # get model errors"
   ]
  },
  {
   "cell_type": "markdown",
   "id": "a222abee",
   "metadata": {},
   "source": [
    "## Decision Tree Classification with Upsampled Data "
   ]
  },
  {
   "cell_type": "code",
   "execution_count": 150,
   "id": "0b71fb9d",
   "metadata": {},
   "outputs": [
    {
     "name": "stdout",
     "output_type": "stream",
     "text": [
      "(5174, 5) (1869, 5)\n"
     ]
    }
   ],
   "source": [
    "churn_0 = churnData[churnData['Churn'] == 0]\n",
    "churn_1 = churnData[churnData['Churn'] == 1]\n",
    "print(churn_0.shape,churn_1.shape)"
   ]
  },
  {
   "cell_type": "markdown",
   "id": "cffc9e4b",
   "metadata": {},
   "source": [
    "### upsampling churn=1"
   ]
  },
  {
   "cell_type": "code",
   "execution_count": 151,
   "id": "7429a7f3",
   "metadata": {},
   "outputs": [
    {
     "name": "stdout",
     "output_type": "stream",
     "text": [
      "(5174, 5)\n"
     ]
    }
   ],
   "source": [
    "churn_1_up = churn_1.sample(len(churn_0), replace=True)\n",
    "print(churn_1_up.shape)"
   ]
  },
  {
   "cell_type": "code",
   "execution_count": 152,
   "id": "01c8d7ef",
   "metadata": {},
   "outputs": [
    {
     "data": {
      "text/plain": [
       "0    5174\n",
       "1    5174\n",
       "Name: Churn, dtype: int64"
      ]
     },
     "execution_count": 152,
     "metadata": {},
     "output_type": "execute_result"
    }
   ],
   "source": [
    "data = pd.concat([churn_0, churn_1_up], axis=0)\n",
    "#shuffling the data\n",
    "data = data.sample(frac=1)\n",
    "data['Churn'].value_counts()"
   ]
  },
  {
   "cell_type": "code",
   "execution_count": 153,
   "id": "16703041",
   "metadata": {},
   "outputs": [
    {
     "data": {
      "text/html": [
       "<div>\n",
       "<style scoped>\n",
       "    .dataframe tbody tr th:only-of-type {\n",
       "        vertical-align: middle;\n",
       "    }\n",
       "\n",
       "    .dataframe tbody tr th {\n",
       "        vertical-align: top;\n",
       "    }\n",
       "\n",
       "    .dataframe thead th {\n",
       "        text-align: right;\n",
       "    }\n",
       "</style>\n",
       "<table border=\"1\" class=\"dataframe\">\n",
       "  <thead>\n",
       "    <tr style=\"text-align: right;\">\n",
       "      <th></th>\n",
       "      <th>Error_metric</th>\n",
       "      <th>Train</th>\n",
       "      <th>Test</th>\n",
       "    </tr>\n",
       "  </thead>\n",
       "  <tbody>\n",
       "    <tr>\n",
       "      <th>0</th>\n",
       "      <td>Accuracy</td>\n",
       "      <td>0.753555</td>\n",
       "      <td>0.735910</td>\n",
       "    </tr>\n",
       "    <tr>\n",
       "      <th>1</th>\n",
       "      <td>Precision</td>\n",
       "      <td>0.776580</td>\n",
       "      <td>0.751743</td>\n",
       "    </tr>\n",
       "    <tr>\n",
       "      <th>2</th>\n",
       "      <td>Recall</td>\n",
       "      <td>0.713932</td>\n",
       "      <td>0.699092</td>\n",
       "    </tr>\n",
       "  </tbody>\n",
       "</table>\n",
       "</div>"
      ],
      "text/plain": [
       "  Error_metric     Train      Test\n",
       "0     Accuracy  0.753555  0.735910\n",
       "1    Precision  0.776580  0.751743\n",
       "2       Recall  0.713932  0.699092"
      ]
     },
     "execution_count": 153,
     "metadata": {},
     "output_type": "execute_result"
    }
   ],
   "source": [
    "# X,y split\n",
    "y = data.Churn\n",
    "X = data.drop(labels=['Churn'],axis=1)\n",
    "\n",
    "X_train, X_test, y_train, y_test = model_selection.train_test_split(X, y, test_size=TS,random_state=R_STATE)\n",
    "\n",
    "model = DecisionTreeClassifier(max_depth=DEPTH)\n",
    "model.fit(X_train, y_train)\n",
    "\n",
    "y_pred_train_dt = model.predict(X_train)\n",
    "y_pred_test_dt  = model.predict(X_test)\n",
    "\n",
    "model_eval(y_train, y_pred_train_dt, y_test, y_pred_test_dt) # get model errors"
   ]
  },
  {
   "cell_type": "code",
   "execution_count": 154,
   "id": "84101c5e",
   "metadata": {},
   "outputs": [
    {
     "data": {
      "text/plain": [
       "0.7469270868175807"
      ]
     },
     "execution_count": 154,
     "metadata": {},
     "output_type": "execute_result"
    }
   ],
   "source": [
    "scores=cross_val_score(model, X_train, y_train, cv=3)\n",
    "scores.mean()"
   ]
  },
  {
   "cell_type": "code",
   "execution_count": 155,
   "id": "34625d87",
   "metadata": {},
   "outputs": [
    {
     "data": {
      "text/plain": [
       "array([0.75403727, 0.74689312, 0.73985087])"
      ]
     },
     "execution_count": 155,
     "metadata": {},
     "output_type": "execute_result"
    }
   ],
   "source": [
    "scores"
   ]
  },
  {
   "cell_type": "code",
   "execution_count": null,
   "id": "b91076df",
   "metadata": {},
   "outputs": [],
   "source": []
  }
 ],
 "metadata": {
  "kernelspec": {
   "display_name": "Python 3 (ipykernel)",
   "language": "python",
   "name": "python3"
  },
  "language_info": {
   "codemirror_mode": {
    "name": "ipython",
    "version": 3
   },
   "file_extension": ".py",
   "mimetype": "text/x-python",
   "name": "python",
   "nbconvert_exporter": "python",
   "pygments_lexer": "ipython3",
   "version": "3.9.0"
  },
  "toc": {
   "base_numbering": 1,
   "nav_menu": {},
   "number_sections": true,
   "sideBar": true,
   "skip_h1_title": false,
   "title_cell": "Table of Contents",
   "title_sidebar": "Contents",
   "toc_cell": false,
   "toc_position": {},
   "toc_section_display": true,
   "toc_window_display": false
  },
  "varInspector": {
   "cols": {
    "lenName": 16,
    "lenType": 16,
    "lenVar": 40
   },
   "kernels_config": {
    "python": {
     "delete_cmd_postfix": "",
     "delete_cmd_prefix": "del ",
     "library": "var_list.py",
     "varRefreshCmd": "print(var_dic_list())"
    },
    "r": {
     "delete_cmd_postfix": ") ",
     "delete_cmd_prefix": "rm(",
     "library": "var_list.r",
     "varRefreshCmd": "cat(var_dic_list()) "
    }
   },
   "types_to_exclude": [
    "module",
    "function",
    "builtin_function_or_method",
    "instance",
    "_Feature"
   ],
   "window_display": false
  }
 },
 "nbformat": 4,
 "nbformat_minor": 5
}
