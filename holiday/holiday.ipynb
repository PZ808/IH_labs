{
 "cells": [
  {
   "cell_type": "markdown",
   "id": "b8c8a20a",
   "metadata": {},
   "source": [
    "# Linda Z's Vacation preferences"
   ]
  },
  {
   "cell_type": "markdown",
   "id": "43ed879b",
   "metadata": {},
   "source": [
    "This notebook describes the holiday preferences of my mother Linda Zimmerman. She likes to travel to Florida where my grandmother lives."
   ]
  },
  {
   "cell_type": "markdown",
   "id": "91455a93",
   "metadata": {},
   "source": [
    "We use the input() function to get text. The input() function allows user input.\n"
   ]
  },
  {
   "cell_type": "markdown",
   "id": "5679ee87",
   "metadata": {},
   "source": [
    "* [First Bullet Header](#first-bullet)\n",
    "* [Second Bullet Header](#second-bullet)"
   ]
  },
  {
   "cell_type": "code",
   "execution_count": 1,
   "id": "f062a85e",
   "metadata": {},
   "outputs": [
    {
     "name": "stdout",
     "output_type": "stream",
     "text": [
      "Name of the vactioner: Linda Zimmerman\n"
     ]
    }
   ],
   "source": [
    "n = input(\"Name of the vactioner: \")"
   ]
  },
  {
   "cell_type": "markdown",
   "id": "8a8d9e1c",
   "metadata": {},
   "source": [
    "## Photo of my mother"
   ]
  },
  {
   "cell_type": "markdown",
   "id": "a6fbf47b",
   "metadata": {},
   "source": [
    "![alt_text](https://ivcusa.org/wp-content/uploads/2020/09/Linda-IVC-pic-scaled.jpg)"
   ]
  },
  {
   "cell_type": "markdown",
   "id": "430bbc68",
   "metadata": {},
   "source": [
    "## Favorite destination: Florida"
   ]
  },
  {
   "cell_type": "code",
   "execution_count": 2,
   "id": "762bfab0",
   "metadata": {},
   "outputs": [
    {
     "name": "stdout",
     "output_type": "stream",
     "text": [
      "Where does Linda like to go: Florida\n"
     ]
    }
   ],
   "source": [
    "dest = input(\"Where does Linda like to go: \")"
   ]
  },
  {
   "cell_type": "markdown",
   "id": "3938862f",
   "metadata": {},
   "source": [
    "### Photo of Florida beach"
   ]
  },
  {
   "cell_type": "markdown",
   "id": "c3511804",
   "metadata": {},
   "source": [
    "![alt_text](https://external-content.duckduckgo.com/iu/?u=https%3A%2F%2Fwww.fodors.com%2Fwp-content%2Fuploads%2F2020%2F06%2FWhereToWeekend__HERO_PalmBeaches_shutterstock_1238259865.jpg&f=1&nofb=1)"
   ]
  },
  {
   "cell_type": "markdown",
   "id": "1393a5c6",
   "metadata": {},
   "source": [
    "## Linda's vacation activities"
   ]
  },
  {
   "cell_type": "markdown",
   "id": "72372d7d",
   "metadata": {},
   "source": [
    "### On vacation Linda likes to:"
   ]
  },
  {
   "cell_type": "markdown",
   "id": "e86d33d0",
   "metadata": {},
   "source": [
    "- Go <b>swimming\n",
    "- Read on the <b>beach\n",
    "- Eat <b>seafood"
   ]
  },
  {
   "cell_type": "markdown",
   "id": "44c8c2a0",
   "metadata": {},
   "source": [
    "The <b>Florida Keys</b> are a favorite spot  for [beaches](https://www.youtube.com/watch?v=1EnyZ9zcWys)."
   ]
  }
 ],
 "metadata": {
  "kernelspec": {
   "display_name": "Python 3 (ipykernel)",
   "language": "python",
   "name": "python3"
  },
  "language_info": {
   "codemirror_mode": {
    "name": "ipython",
    "version": 3
   },
   "file_extension": ".py",
   "mimetype": "text/x-python",
   "name": "python",
   "nbconvert_exporter": "python",
   "pygments_lexer": "ipython3",
   "version": "3.8.13"
  }
 },
 "nbformat": 4,
 "nbformat_minor": 5
}
