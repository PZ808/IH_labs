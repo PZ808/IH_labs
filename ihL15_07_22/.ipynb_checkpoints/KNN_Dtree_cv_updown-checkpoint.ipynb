{
 "cells": [
  {
   "cell_type": "markdown",
   "id": "d627114a",
   "metadata": {},
   "source": [
    "# KNN, Decision Tree Classification, and Random Forest  (with validation and up/down sampling)"
   ]
  },
  {
   "cell_type": "markdown",
   "id": "e1936c8a",
   "metadata": {},
   "source": [
    "## Import packages and define utility functions"
   ]
  },
  {
   "cell_type": "code",
   "execution_count": 131,
   "id": "ef13dbe1",
   "metadata": {},
   "outputs": [],
   "source": [
    "import pandas as pd\n",
    "\n",
    "#import numpy as np;\n",
    "#import scipy;\n",
    "\n",
    "## plotting libraries\n",
    "from matplotlib import pyplot as plt\n",
    "\n",
    "## Sklearn libraries\n",
    "\n",
    "from sklearn import model_selection\n",
    "from sklearn.model_selection import train_test_split\n",
    "\n",
    "from sklearn import metrics as metrics\n",
    "from sklearn import preprocessing\n",
    "from sklearn.model_selection import cross_val_score\n",
    "from sklearn.preprocessing import StandardScaler\n",
    "from sklearn.neighbors import KNeighborsClassifier\n",
    "from sklearn.metrics import plot_confusion_matrix, classification_report\n",
    "from sklearn.metrics import accuracy_score, precision_score, recall_score, confusion_matrix\n",
    "from sklearn.tree import DecisionTreeClassifier\n",
    "from sklearn.tree import plot_tree\n",
    "from sklearn.ensemble import RandomForestClassifier\n",
    "\n",
    "import warnings\n",
    "warnings.filterwarnings('ignore')\n",
    "\n",
    "%matplotlib inline"
   ]
  },
  {
   "cell_type": "code",
   "execution_count": 132,
   "id": "79bcaedf",
   "metadata": {},
   "outputs": [],
   "source": [
    "def model_eval(yt,ypt, yT,ypT):\n",
    "    return pd.DataFrame({'Error_metric': ['Accuracy','Precision','Recall'],\n",
    "                               'Train': [accuracy_score(yt, ypt),\n",
    "                                         precision_score(yt, ypt),\n",
    "                                         recall_score(yt, ypt)],\n",
    "                               'Test': [accuracy_score(yT, ypT),\n",
    "                                        precision_score(yT, ypT),\n",
    "                                        recall_score(yT, ypT)]})"
   ]
  },
  {
   "cell_type": "code",
   "execution_count": 133,
   "id": "65732ee5",
   "metadata": {},
   "outputs": [],
   "source": [
    "def fill_nans_with_means(df,col):\n",
    "    ''' fills nans in column with mean '''\n",
    "    return df[col].fillna(df[col].mean()).round()"
   ]
  },
  {
   "cell_type": "markdown",
   "id": "e7e32b31",
   "metadata": {},
   "source": [
    "## Read and clean data"
   ]
  },
  {
   "cell_type": "code",
   "execution_count": 134,
   "id": "e25238b0",
   "metadata": {},
   "outputs": [],
   "source": [
    "churnData = pd.read_csv('DATA_Customer-Churn.csv') # import data frame "
   ]
  },
  {
   "cell_type": "code",
   "execution_count": 135,
   "id": "53e64f5f",
   "metadata": {},
   "outputs": [
    {
     "data": {
      "text/plain": [
       "gender               object\n",
       "SeniorCitizen         int64\n",
       "Partner              object\n",
       "Dependents           object\n",
       "tenure                int64\n",
       "PhoneService         object\n",
       "OnlineSecurity       object\n",
       "OnlineBackup         object\n",
       "DeviceProtection     object\n",
       "TechSupport          object\n",
       "StreamingTV          object\n",
       "StreamingMovies      object\n",
       "Contract             object\n",
       "MonthlyCharges      float64\n",
       "TotalCharges         object\n",
       "Churn                object\n",
       "dtype: object"
      ]
     },
     "execution_count": 135,
     "metadata": {},
     "output_type": "execute_result"
    }
   ],
   "source": [
    "churnData.dtypes  # explore data types"
   ]
  },
  {
   "cell_type": "code",
   "execution_count": 136,
   "id": "b0cedce5",
   "metadata": {},
   "outputs": [
    {
     "data": {
      "text/plain": [
       "gender              False\n",
       "SeniorCitizen       False\n",
       "Partner             False\n",
       "Dependents          False\n",
       "tenure              False\n",
       "PhoneService        False\n",
       "OnlineSecurity      False\n",
       "OnlineBackup        False\n",
       "DeviceProtection    False\n",
       "TechSupport         False\n",
       "StreamingTV         False\n",
       "StreamingMovies     False\n",
       "Contract            False\n",
       "MonthlyCharges      False\n",
       "TotalCharges        False\n",
       "Churn               False\n",
       "dtype: bool"
      ]
     },
     "execution_count": 136,
     "metadata": {},
     "output_type": "execute_result"
    }
   ],
   "source": [
    "churnData.isnull().any() # check for null values"
   ]
  },
  {
   "cell_type": "code",
   "execution_count": 137,
   "id": "f29c0782",
   "metadata": {},
   "outputs": [
    {
     "data": {
      "text/plain": [
       "False"
      ]
     },
     "execution_count": 137,
     "metadata": {},
     "output_type": "execute_result"
    }
   ],
   "source": [
    "churnData.empty"
   ]
  },
  {
   "cell_type": "code",
   "execution_count": 138,
   "id": "7386a161",
   "metadata": {},
   "outputs": [
    {
     "data": {
      "text/plain": [
       "False"
      ]
     },
     "execution_count": 138,
     "metadata": {},
     "output_type": "execute_result"
    }
   ],
   "source": [
    "churnData.isnull().values.any()"
   ]
  },
  {
   "cell_type": "code",
   "execution_count": 139,
   "id": "a4546a22",
   "metadata": {},
   "outputs": [
    {
     "data": {
      "text/plain": [
       "' '"
      ]
     },
     "execution_count": 139,
     "metadata": {},
     "output_type": "execute_result"
    }
   ],
   "source": [
    "# there are empty values, however. For example \n",
    "churnData['TotalCharges'].loc[488] "
   ]
  },
  {
   "cell_type": "code",
   "execution_count": 140,
   "id": "279e3064",
   "metadata": {},
   "outputs": [
    {
     "data": {
      "text/plain": [
       "gender               0\n",
       "SeniorCitizen        0\n",
       "Partner              0\n",
       "Dependents           0\n",
       "tenure               0\n",
       "PhoneService         0\n",
       "OnlineSecurity       0\n",
       "OnlineBackup         0\n",
       "DeviceProtection     0\n",
       "TechSupport          0\n",
       "StreamingTV          0\n",
       "StreamingMovies      0\n",
       "Contract             0\n",
       "MonthlyCharges       0\n",
       "TotalCharges        11\n",
       "Churn                0\n",
       "dtype: int64"
      ]
     },
     "execution_count": 140,
     "metadata": {},
     "output_type": "execute_result"
    }
   ],
   "source": [
    "# convert to float (nan)\n",
    "churnData.TotalCharges = pd.to_numeric(churnData.TotalCharges, errors='coerce').astype('float64') \n",
    "churnData.isnull().any() # check for null values\n",
    "churnData.isnull().sum()"
   ]
  },
  {
   "cell_type": "markdown",
   "id": "95ca0404",
   "metadata": {},
   "source": [
    "Tenure: time client has been in a contract"
   ]
  },
  {
   "cell_type": "code",
   "execution_count": 141,
   "id": "afb96e45",
   "metadata": {},
   "outputs": [
    {
     "data": {
      "text/plain": [
       "Index(['SeniorCitizen', 'tenure', 'MonthlyCharges', 'TotalCharges', 'Churn'], dtype='object')"
      ]
     },
     "execution_count": 141,
     "metadata": {},
     "output_type": "execute_result"
    }
   ],
   "source": [
    "# feature selection\n",
    "churnData = churnData.drop(labels=['gender','Partner','Dependents','PhoneService','OnlineSecurity','OnlineBackup',\\\n",
    "                              'DeviceProtection', 'Contract','TechSupport','StreamingTV','StreamingMovies'], axis=1) # drop customer label\n",
    "churnData.columns"
   ]
  },
  {
   "cell_type": "code",
   "execution_count": 142,
   "id": "7d84b80f",
   "metadata": {},
   "outputs": [],
   "source": [
    "churnData['TotalCharges']=fill_nans_with_means(churnData,'TotalCharges') # fill nans with means "
   ]
  },
  {
   "cell_type": "code",
   "execution_count": 143,
   "id": "27a2dfcf",
   "metadata": {
    "run_control": {
     "marked": true
    }
   },
   "outputs": [],
   "source": [
    "# X,y split\n",
    "y = churnData.Churn\n",
    "X = churnData.drop(labels=['Churn'],axis=1)"
   ]
  },
  {
   "cell_type": "code",
   "execution_count": 144,
   "id": "e082aeaf",
   "metadata": {},
   "outputs": [
    {
     "data": {
      "text/plain": [
       "0        No\n",
       "1        No\n",
       "2       Yes\n",
       "3        No\n",
       "4       Yes\n",
       "       ... \n",
       "7038     No\n",
       "7039     No\n",
       "7040     No\n",
       "7041    Yes\n",
       "7042     No\n",
       "Name: Churn, Length: 7043, dtype: object"
      ]
     },
     "execution_count": 144,
     "metadata": {},
     "output_type": "execute_result"
    }
   ],
   "source": [
    "y"
   ]
  },
  {
   "cell_type": "code",
   "execution_count": 145,
   "id": "a1e24c42",
   "metadata": {},
   "outputs": [],
   "source": [
    "y.replace({'No': 0, 'Yes': 1},inplace=True)"
   ]
  },
  {
   "cell_type": "code",
   "execution_count": 146,
   "id": "186acc02",
   "metadata": {},
   "outputs": [
    {
     "data": {
      "text/plain": [
       "0    5174\n",
       "1    1869\n",
       "Name: Churn, dtype: int64"
      ]
     },
     "execution_count": 146,
     "metadata": {},
     "output_type": "execute_result"
    }
   ],
   "source": [
    "y.value_counts()"
   ]
  },
  {
   "cell_type": "code",
   "execution_count": 147,
   "id": "da87ad1e",
   "metadata": {},
   "outputs": [
    {
     "data": {
      "text/plain": [
       "SeniorCitizen       int64\n",
       "tenure              int64\n",
       "MonthlyCharges    float64\n",
       "TotalCharges      float64\n",
       "dtype: object"
      ]
     },
     "execution_count": 147,
     "metadata": {},
     "output_type": "execute_result"
    }
   ],
   "source": [
    "X.dtypes"
   ]
  },
  {
   "cell_type": "code",
   "execution_count": 148,
   "id": "a103a71a",
   "metadata": {},
   "outputs": [],
   "source": [
    "R_STATE = 32\n",
    "TS = .30"
   ]
  },
  {
   "cell_type": "code",
   "execution_count": 149,
   "id": "dc027398",
   "metadata": {},
   "outputs": [],
   "source": [
    "# define the models\n",
    "knnC = KNeighborsClassifier\n",
    "dtC  = DecisionTreeClassifier"
   ]
  },
  {
   "cell_type": "markdown",
   "id": "96ad3cf3",
   "metadata": {},
   "source": [
    "## KNN "
   ]
  },
  {
   "cell_type": "code",
   "execution_count": 67,
   "id": "5cda0371",
   "metadata": {},
   "outputs": [],
   "source": [
    "# select 30% for training\n",
    "X_train, X_test, y_train, y_test = model_selection.train_test_split(X, y, test_size=TS,random_state=R_STATE)"
   ]
  },
  {
   "cell_type": "code",
   "execution_count": 68,
   "id": "f7852c40",
   "metadata": {},
   "outputs": [],
   "source": [
    "# transform the data to have zero mean and unit variance\n",
    "std_scaler = StandardScaler().fit(X_train) \n",
    "X_train_scaled = std_scaler.transform(X_train)\n",
    "X_test_scaled = std_scaler.transform(X_test)"
   ]
  },
  {
   "cell_type": "code",
   "execution_count": 69,
   "id": "ed1acb87",
   "metadata": {},
   "outputs": [
    {
     "data": {
      "text/plain": [
       "0    1498\n",
       "1     615\n",
       "Name: Churn, dtype: int64"
      ]
     },
     "execution_count": 69,
     "metadata": {},
     "output_type": "execute_result"
    }
   ],
   "source": [
    "y_test.value_counts()"
   ]
  },
  {
   "cell_type": "markdown",
   "id": "db6089b0",
   "metadata": {},
   "source": [
    "### Evaluation "
   ]
  },
  {
   "cell_type": "code",
   "execution_count": 70,
   "id": "de26d9b5",
   "metadata": {},
   "outputs": [],
   "source": [
    "N_NEIGHS = 3"
   ]
  },
  {
   "cell_type": "code",
   "execution_count": 71,
   "id": "8c265215",
   "metadata": {},
   "outputs": [],
   "source": [
    "# model with KNN using 2 neighbors for clustering\n",
    "model = knnC(n_neighbors=N_NEIGHS, weights='uniform')\n",
    "model.fit(X_train_scaled, y_train)\n",
    "\n",
    "\n",
    "y_pred_test = model.predict(X_test_scaled)\n",
    "y_pred_train = model.predict(X_train_scaled)"
   ]
  },
  {
   "cell_type": "code",
   "execution_count": 72,
   "id": "5558d3d8",
   "metadata": {},
   "outputs": [
    {
     "data": {
      "text/plain": [
       "0    1594\n",
       "1     519\n",
       "dtype: int64"
      ]
     },
     "execution_count": 72,
     "metadata": {},
     "output_type": "execute_result"
    }
   ],
   "source": [
    "pd.DataFrame(y_pred_test).value_counts()"
   ]
  },
  {
   "cell_type": "code",
   "execution_count": 73,
   "id": "fe211cac",
   "metadata": {},
   "outputs": [
    {
     "data": {
      "text/html": [
       "<div>\n",
       "<style scoped>\n",
       "    .dataframe tbody tr th:only-of-type {\n",
       "        vertical-align: middle;\n",
       "    }\n",
       "\n",
       "    .dataframe tbody tr th {\n",
       "        vertical-align: top;\n",
       "    }\n",
       "\n",
       "    .dataframe thead th {\n",
       "        text-align: right;\n",
       "    }\n",
       "</style>\n",
       "<table border=\"1\" class=\"dataframe\">\n",
       "  <thead>\n",
       "    <tr style=\"text-align: right;\">\n",
       "      <th></th>\n",
       "      <th>Error_metric</th>\n",
       "      <th>Train</th>\n",
       "      <th>Test</th>\n",
       "    </tr>\n",
       "  </thead>\n",
       "  <tbody>\n",
       "    <tr>\n",
       "      <th>0</th>\n",
       "      <td>Accuracy</td>\n",
       "      <td>0.857606</td>\n",
       "      <td>0.747279</td>\n",
       "    </tr>\n",
       "    <tr>\n",
       "      <th>1</th>\n",
       "      <td>Precision</td>\n",
       "      <td>0.754613</td>\n",
       "      <td>0.578035</td>\n",
       "    </tr>\n",
       "    <tr>\n",
       "      <th>2</th>\n",
       "      <td>Recall</td>\n",
       "      <td>0.652313</td>\n",
       "      <td>0.487805</td>\n",
       "    </tr>\n",
       "  </tbody>\n",
       "</table>\n",
       "</div>"
      ],
      "text/plain": [
       "  Error_metric     Train      Test\n",
       "0     Accuracy  0.857606  0.747279\n",
       "1    Precision  0.754613  0.578035\n",
       "2       Recall  0.652313  0.487805"
      ]
     },
     "execution_count": 73,
     "metadata": {},
     "output_type": "execute_result"
    }
   ],
   "source": [
    "model_eval(y_train, y_pred_train, y_test, y_pred_test) # get model errors"
   ]
  },
  {
   "cell_type": "code",
   "execution_count": 74,
   "id": "6ca84828",
   "metadata": {},
   "outputs": [
    {
     "name": "stdout",
     "output_type": "stream",
     "text": [
      "              precision    recall  f1-score   support\n",
      "\n",
      "           0       0.80      0.85      0.83      1498\n",
      "           1       0.58      0.49      0.53       615\n",
      "\n",
      "    accuracy                           0.75      2113\n",
      "   macro avg       0.69      0.67      0.68      2113\n",
      "weighted avg       0.74      0.75      0.74      2113\n",
      "\n"
     ]
    }
   ],
   "source": [
    "print(classification_report(y_test, y_pred_test))"
   ]
  },
  {
   "cell_type": "code",
   "execution_count": 75,
   "id": "19d72128",
   "metadata": {},
   "outputs": [
    {
     "data": {
      "image/png": "[encoded data removed]",
      "text/plain": [
       "<Figure size 1008x576 with 4 Axes>"
      ]
     },
     "metadata": {
      "needs_background": "light"
     },
     "output_type": "display_data"
    }
   ],
   "source": [
    "# plot confusion matrix\n",
    "fig, ax = plt.subplots(1,2, figsize=(14,8))\n",
    "\n",
    "plot_confusion_matrix(model,X_train_scaled,y_train,ax=ax[0], values_format = 'd')\n",
    "ax[0].title.set_text(\"Train Set\")\n",
    "\n",
    "plot_confusion_matrix(model,X_test_scaled,y_test,ax=ax[1],values_format = 'd')\n",
    "ax[1].title.set_text(\"Test Set\")"
   ]
  },
  {
   "cell_type": "code",
   "execution_count": 76,
   "id": "01db864c",
   "metadata": {},
   "outputs": [
    {
     "name": "stdout",
     "output_type": "stream",
     "text": [
      "k=2\tmean_score = 0.757\n",
      "k=3\tmean_score = 0.753\n",
      "k=4\tmean_score = 0.759\n",
      "k=5\tmean_score = 0.756\n",
      "k=6\tmean_score = 0.757\n",
      "k=7\tmean_score = 0.759\n",
      "k=8\tmean_score = 0.759\n",
      "k=9\tmean_score = 0.758\n",
      "k=10\tmean_score = 0.757\n",
      "k=11\tmean_score = 0.756\n",
      "k=12\tmean_score = 0.757\n",
      "k=13\tmean_score = 0.758\n",
      "k=14\tmean_score = 0.759\n",
      "k=15\tmean_score = 0.756\n"
     ]
    },
    {
     "data": {
      "text/plain": [
       "{2: 0.7565922920892495,\n",
       " 3: 0.7529415263653861,\n",
       " 4: 0.7588242303114566,\n",
       " 5: 0.7561866125760649,\n",
       " 6: 0.7569964921223401,\n",
       " 7: 0.7590247075619416,\n",
       " 8: 0.7586200772485213,\n",
       " 9: 0.7576039623338092,\n",
       " 10: 0.7572008113590264,\n",
       " 11: 0.755571092326382,\n",
       " 12: 0.7569976064724152,\n",
       " 13: 0.7582120004700201,\n",
       " 14: 0.7590216971413855,\n",
       " 15: 0.7557756937751747}"
      ]
     },
     "execution_count": 76,
     "metadata": {},
     "output_type": "execute_result"
    }
   ],
   "source": [
    "CV = range(2,16)\n",
    "knn_results = {}\n",
    "for cv_ in CV:\n",
    "    scores = cross_val_score(model, X_train, y_train, cv=cv_)\n",
    "    knn_results[cv_] = scores.mean()\n",
    "    print( \"k=\"+str(cv_) + \"\\t\"  + \"mean_score = \"+str(round(scores.mean(),3)) )\n",
    "\n",
    "knn_results\n",
    "\n"
   ]
  },
  {
   "cell_type": "code",
   "execution_count": 77,
   "id": "2a529ae4",
   "metadata": {},
   "outputs": [
    {
     "data": {
      "text/plain": [
       "7"
      ]
     },
     "execution_count": 77,
     "metadata": {},
     "output_type": "execute_result"
    }
   ],
   "source": [
    "K_VAL = max(knn_results, key=knn_results.get)\n",
    "K_VAL"
   ]
  },
  {
   "cell_type": "markdown",
   "id": "ee7d9978",
   "metadata": {},
   "source": [
    "## Decision Tree"
   ]
  },
  {
   "cell_type": "code",
   "execution_count": 78,
   "id": "eb451cb4",
   "metadata": {},
   "outputs": [],
   "source": [
    "X_train, X_test, y_train, y_test = model_selection.train_test_split(X, y, test_size=TS,random_state=R_STATE)"
   ]
  },
  {
   "cell_type": "code",
   "execution_count": 79,
   "id": "d8c46b50",
   "metadata": {
    "run_control": {
     "marked": true
    }
   },
   "outputs": [],
   "source": [
    "DEPTH = 3\n",
    "model = DecisionTreeClassifier(max_depth=DEPTH)\n",
    "\n",
    "model.fit(X_train, y_train)\n",
    "\n",
    "y_pred_train_dt = model.predict(X_train)\n",
    "y_pred_test_dt  = model.predict(X_test)"
   ]
  },
  {
   "cell_type": "code",
   "execution_count": 80,
   "id": "37ca4f22",
   "metadata": {},
   "outputs": [
    {
     "data": {
      "text/html": [
       "<div>\n",
       "<style scoped>\n",
       "    .dataframe tbody tr th:only-of-type {\n",
       "        vertical-align: middle;\n",
       "    }\n",
       "\n",
       "    .dataframe tbody tr th {\n",
       "        vertical-align: top;\n",
       "    }\n",
       "\n",
       "    .dataframe thead th {\n",
       "        text-align: right;\n",
       "    }\n",
       "</style>\n",
       "<table border=\"1\" class=\"dataframe\">\n",
       "  <thead>\n",
       "    <tr style=\"text-align: right;\">\n",
       "      <th></th>\n",
       "      <th>Error_metric</th>\n",
       "      <th>Train</th>\n",
       "      <th>Test</th>\n",
       "    </tr>\n",
       "  </thead>\n",
       "  <tbody>\n",
       "    <tr>\n",
       "      <th>0</th>\n",
       "      <td>Accuracy</td>\n",
       "      <td>0.787627</td>\n",
       "      <td>0.776621</td>\n",
       "    </tr>\n",
       "    <tr>\n",
       "      <th>1</th>\n",
       "      <td>Precision</td>\n",
       "      <td>0.631512</td>\n",
       "      <td>0.692722</td>\n",
       "    </tr>\n",
       "    <tr>\n",
       "      <th>2</th>\n",
       "      <td>Recall</td>\n",
       "      <td>0.396332</td>\n",
       "      <td>0.417886</td>\n",
       "    </tr>\n",
       "  </tbody>\n",
       "</table>\n",
       "</div>"
      ],
      "text/plain": [
       "  Error_metric     Train      Test\n",
       "0     Accuracy  0.787627  0.776621\n",
       "1    Precision  0.631512  0.692722\n",
       "2       Recall  0.396332  0.417886"
      ]
     },
     "execution_count": 80,
     "metadata": {},
     "output_type": "execute_result"
    }
   ],
   "source": [
    "model_eval(y_train, y_pred_train_dt, y_test, y_pred_test_dt) # get model errors"
   ]
  },
  {
   "cell_type": "code",
   "execution_count": 81,
   "id": "3783d4e0",
   "metadata": {},
   "outputs": [
    {
     "data": {
      "image/png": "[encoded data removed]",
      "text/plain": [
       "<Figure size 1008x576 with 4 Axes>"
      ]
     },
     "metadata": {
      "needs_background": "light"
     },
     "output_type": "display_data"
    }
   ],
   "source": [
    "# confusion matrix\n",
    "fig, ax = plt.subplots(1,2, figsize=(14,8))\n",
    "plot_confusion_matrix(model,X_train,y_train,ax=ax[0], values_format = 'd')\n",
    "ax[0].title.set_text(\"Train Set\")\n",
    "plot_confusion_matrix(model,X_test,y_test,ax=ax[1],values_format = 'd')\n",
    "ax[1].title.set_text(\"Test Set\")"
   ]
  },
  {
   "cell_type": "code",
   "execution_count": 82,
   "id": "d6d9dee1",
   "metadata": {},
   "outputs": [
    {
     "data": {
      "image/png": "[encoded data removed]",
      "text/plain": [
       "<Figure size 2448x1440 with 1 Axes>"
      ]
     },
     "metadata": {
      "needs_background": "light"
     },
     "output_type": "display_data"
    }
   ],
   "source": [
    "fig, axes = plt.subplots(nrows = 1,ncols = 1,figsize = (34,20))\n",
    "\n",
    "plot_tree(model,filled = True, rounded=True,feature_names=X.columns)\n",
    "plt.show() "
   ]
  },
  {
   "cell_type": "code",
   "execution_count": 83,
   "id": "fa5c4cc9",
   "metadata": {},
   "outputs": [
    {
     "data": {
      "text/plain": [
       "0.7847905695287828"
      ]
     },
     "execution_count": 83,
     "metadata": {},
     "output_type": "execute_result"
    }
   ],
   "source": [
    "scores=cross_val_score(model, X_train, y_train, cv=6)\n",
    "scores.mean()\n"
   ]
  },
  {
   "cell_type": "markdown",
   "id": "4b4ad852",
   "metadata": {},
   "source": [
    "## Decision Tree Classification with Downsampled Data "
   ]
  },
  {
   "cell_type": "code",
   "execution_count": 150,
   "id": "96e70a48",
   "metadata": {},
   "outputs": [
    {
     "name": "stdout",
     "output_type": "stream",
     "text": [
      "(5174, 5) (1869, 5)\n"
     ]
    }
   ],
   "source": [
    "churn_0 = churnData[churnData['Churn'] == 0]\n",
    "churn_1 = churnData[churnData['Churn'] == 1]\n",
    "print(churn_0.shape,churn_1.shape)"
   ]
  },
  {
   "cell_type": "code",
   "execution_count": 151,
   "id": "d50fa5a9",
   "metadata": {},
   "outputs": [
    {
     "data": {
      "text/html": [
       "<div>\n",
       "<style scoped>\n",
       "    .dataframe tbody tr th:only-of-type {\n",
       "        vertical-align: middle;\n",
       "    }\n",
       "\n",
       "    .dataframe tbody tr th {\n",
       "        vertical-align: top;\n",
       "    }\n",
       "\n",
       "    .dataframe thead th {\n",
       "        text-align: right;\n",
       "    }\n",
       "</style>\n",
       "<table border=\"1\" class=\"dataframe\">\n",
       "  <thead>\n",
       "    <tr style=\"text-align: right;\">\n",
       "      <th></th>\n",
       "      <th>SeniorCitizen</th>\n",
       "      <th>tenure</th>\n",
       "      <th>MonthlyCharges</th>\n",
       "      <th>TotalCharges</th>\n",
       "      <th>Churn</th>\n",
       "    </tr>\n",
       "  </thead>\n",
       "  <tbody>\n",
       "    <tr>\n",
       "      <th>0</th>\n",
       "      <td>0</td>\n",
       "      <td>1</td>\n",
       "      <td>29.85</td>\n",
       "      <td>30.0</td>\n",
       "      <td>0</td>\n",
       "    </tr>\n",
       "    <tr>\n",
       "      <th>1</th>\n",
       "      <td>0</td>\n",
       "      <td>34</td>\n",
       "      <td>56.95</td>\n",
       "      <td>1890.0</td>\n",
       "      <td>0</td>\n",
       "    </tr>\n",
       "    <tr>\n",
       "      <th>3</th>\n",
       "      <td>0</td>\n",
       "      <td>45</td>\n",
       "      <td>42.30</td>\n",
       "      <td>1841.0</td>\n",
       "      <td>0</td>\n",
       "    </tr>\n",
       "    <tr>\n",
       "      <th>6</th>\n",
       "      <td>0</td>\n",
       "      <td>22</td>\n",
       "      <td>89.10</td>\n",
       "      <td>1949.0</td>\n",
       "      <td>0</td>\n",
       "    </tr>\n",
       "    <tr>\n",
       "      <th>7</th>\n",
       "      <td>0</td>\n",
       "      <td>10</td>\n",
       "      <td>29.75</td>\n",
       "      <td>302.0</td>\n",
       "      <td>0</td>\n",
       "    </tr>\n",
       "  </tbody>\n",
       "</table>\n",
       "</div>"
      ],
      "text/plain": [
       "   SeniorCitizen  tenure  MonthlyCharges  TotalCharges  Churn\n",
       "0              0       1           29.85          30.0      0\n",
       "1              0      34           56.95        1890.0      0\n",
       "3              0      45           42.30        1841.0      0\n",
       "6              0      22           89.10        1949.0      0\n",
       "7              0      10           29.75         302.0      0"
      ]
     },
     "execution_count": 151,
     "metadata": {},
     "output_type": "execute_result"
    }
   ],
   "source": [
    "churn_0.head()"
   ]
  },
  {
   "cell_type": "markdown",
   "id": "bac9b916",
   "metadata": {},
   "source": [
    "### down sampling churn=0"
   ]
  },
  {
   "cell_type": "code",
   "execution_count": 152,
   "id": "1772f4f2",
   "metadata": {},
   "outputs": [
    {
     "name": "stdout",
     "output_type": "stream",
     "text": [
      "(1869, 5) (1869, 5)\n"
     ]
    }
   ],
   "source": [
    "# down sampling: get a random sampling from churn_0 matching the length of churn_1  \n",
    "churn_0_down = churn_0.sample(len(churn_1)) \n",
    "print(churn_0_down.shape,churn_1.shape) # check they're the same size"
   ]
  },
  {
   "cell_type": "code",
   "execution_count": 153,
   "id": "19917200",
   "metadata": {},
   "outputs": [
    {
     "data": {
      "text/plain": [
       "1    1869\n",
       "0    1869\n",
       "Name: Churn, dtype: int64"
      ]
     },
     "execution_count": 153,
     "metadata": {},
     "output_type": "execute_result"
    }
   ],
   "source": [
    "data = pd.concat([churn_0_down, churn_1], axis=0)\n",
    "# shuffling the data\n",
    "data = data.sample(frac=1) \n",
    "data['Churn'].value_counts()"
   ]
  },
  {
   "cell_type": "code",
   "execution_count": 154,
   "id": "80516f4e",
   "metadata": {},
   "outputs": [
    {
     "data": {
      "text/html": [
       "<div>\n",
       "<style scoped>\n",
       "    .dataframe tbody tr th:only-of-type {\n",
       "        vertical-align: middle;\n",
       "    }\n",
       "\n",
       "    .dataframe tbody tr th {\n",
       "        vertical-align: top;\n",
       "    }\n",
       "\n",
       "    .dataframe thead th {\n",
       "        text-align: right;\n",
       "    }\n",
       "</style>\n",
       "<table border=\"1\" class=\"dataframe\">\n",
       "  <thead>\n",
       "    <tr style=\"text-align: right;\">\n",
       "      <th></th>\n",
       "      <th>SeniorCitizen</th>\n",
       "      <th>tenure</th>\n",
       "      <th>MonthlyCharges</th>\n",
       "      <th>TotalCharges</th>\n",
       "      <th>Churn</th>\n",
       "    </tr>\n",
       "  </thead>\n",
       "  <tbody>\n",
       "    <tr>\n",
       "      <th>3527</th>\n",
       "      <td>0</td>\n",
       "      <td>1</td>\n",
       "      <td>74.60</td>\n",
       "      <td>75.0</td>\n",
       "      <td>1</td>\n",
       "    </tr>\n",
       "    <tr>\n",
       "      <th>6446</th>\n",
       "      <td>1</td>\n",
       "      <td>58</td>\n",
       "      <td>89.85</td>\n",
       "      <td>5126.0</td>\n",
       "      <td>0</td>\n",
       "    </tr>\n",
       "    <tr>\n",
       "      <th>529</th>\n",
       "      <td>1</td>\n",
       "      <td>56</td>\n",
       "      <td>99.90</td>\n",
       "      <td>5706.0</td>\n",
       "      <td>0</td>\n",
       "    </tr>\n",
       "    <tr>\n",
       "      <th>6580</th>\n",
       "      <td>0</td>\n",
       "      <td>49</td>\n",
       "      <td>78.00</td>\n",
       "      <td>3824.0</td>\n",
       "      <td>0</td>\n",
       "    </tr>\n",
       "    <tr>\n",
       "      <th>6048</th>\n",
       "      <td>1</td>\n",
       "      <td>29</td>\n",
       "      <td>94.45</td>\n",
       "      <td>2654.0</td>\n",
       "      <td>1</td>\n",
       "    </tr>\n",
       "    <tr>\n",
       "      <th>...</th>\n",
       "      <td>...</td>\n",
       "      <td>...</td>\n",
       "      <td>...</td>\n",
       "      <td>...</td>\n",
       "      <td>...</td>\n",
       "    </tr>\n",
       "    <tr>\n",
       "      <th>1575</th>\n",
       "      <td>0</td>\n",
       "      <td>66</td>\n",
       "      <td>99.50</td>\n",
       "      <td>6710.0</td>\n",
       "      <td>1</td>\n",
       "    </tr>\n",
       "    <tr>\n",
       "      <th>2175</th>\n",
       "      <td>0</td>\n",
       "      <td>30</td>\n",
       "      <td>85.15</td>\n",
       "      <td>2556.0</td>\n",
       "      <td>1</td>\n",
       "    </tr>\n",
       "    <tr>\n",
       "      <th>35</th>\n",
       "      <td>0</td>\n",
       "      <td>72</td>\n",
       "      <td>99.90</td>\n",
       "      <td>7252.0</td>\n",
       "      <td>0</td>\n",
       "    </tr>\n",
       "    <tr>\n",
       "      <th>171</th>\n",
       "      <td>0</td>\n",
       "      <td>2</td>\n",
       "      <td>104.40</td>\n",
       "      <td>243.0</td>\n",
       "      <td>1</td>\n",
       "    </tr>\n",
       "    <tr>\n",
       "      <th>1518</th>\n",
       "      <td>0</td>\n",
       "      <td>5</td>\n",
       "      <td>20.55</td>\n",
       "      <td>96.0</td>\n",
       "      <td>0</td>\n",
       "    </tr>\n",
       "  </tbody>\n",
       "</table>\n",
       "<p>3738 rows × 5 columns</p>\n",
       "</div>"
      ],
      "text/plain": [
       "      SeniorCitizen  tenure  MonthlyCharges  TotalCharges  Churn\n",
       "3527              0       1           74.60          75.0      1\n",
       "6446              1      58           89.85        5126.0      0\n",
       "529               1      56           99.90        5706.0      0\n",
       "6580              0      49           78.00        3824.0      0\n",
       "6048              1      29           94.45        2654.0      1\n",
       "...             ...     ...             ...           ...    ...\n",
       "1575              0      66           99.50        6710.0      1\n",
       "2175              0      30           85.15        2556.0      1\n",
       "35                0      72           99.90        7252.0      0\n",
       "171               0       2          104.40         243.0      1\n",
       "1518              0       5           20.55          96.0      0\n",
       "\n",
       "[3738 rows x 5 columns]"
      ]
     },
     "execution_count": 154,
     "metadata": {},
     "output_type": "execute_result"
    }
   ],
   "source": [
    "data"
   ]
  },
  {
   "cell_type": "markdown",
   "id": "98595c63",
   "metadata": {},
   "source": [
    "### Modeling"
   ]
  },
  {
   "cell_type": "code",
   "execution_count": 155,
   "id": "981a8ceb",
   "metadata": {},
   "outputs": [
    {
     "data": {
      "text/html": [
       "<div>\n",
       "<style scoped>\n",
       "    .dataframe tbody tr th:only-of-type {\n",
       "        vertical-align: middle;\n",
       "    }\n",
       "\n",
       "    .dataframe tbody tr th {\n",
       "        vertical-align: top;\n",
       "    }\n",
       "\n",
       "    .dataframe thead th {\n",
       "        text-align: right;\n",
       "    }\n",
       "</style>\n",
       "<table border=\"1\" class=\"dataframe\">\n",
       "  <thead>\n",
       "    <tr style=\"text-align: right;\">\n",
       "      <th></th>\n",
       "      <th>Error_metric</th>\n",
       "      <th>Train</th>\n",
       "      <th>Test</th>\n",
       "    </tr>\n",
       "  </thead>\n",
       "  <tbody>\n",
       "    <tr>\n",
       "      <th>0</th>\n",
       "      <td>Accuracy</td>\n",
       "      <td>0.734327</td>\n",
       "      <td>0.708556</td>\n",
       "    </tr>\n",
       "    <tr>\n",
       "      <th>1</th>\n",
       "      <td>Precision</td>\n",
       "      <td>0.738132</td>\n",
       "      <td>0.707182</td>\n",
       "    </tr>\n",
       "    <tr>\n",
       "      <th>2</th>\n",
       "      <td>Recall</td>\n",
       "      <td>0.731967</td>\n",
       "      <td>0.695652</td>\n",
       "    </tr>\n",
       "  </tbody>\n",
       "</table>\n",
       "</div>"
      ],
      "text/plain": [
       "  Error_metric     Train      Test\n",
       "0     Accuracy  0.734327  0.708556\n",
       "1    Precision  0.738132  0.707182\n",
       "2       Recall  0.731967  0.695652"
      ]
     },
     "execution_count": 155,
     "metadata": {},
     "output_type": "execute_result"
    }
   ],
   "source": [
    "# X,y split\n",
    "y = data.Churn\n",
    "X = data.drop(labels=['Churn'],axis=1)\n",
    "\n",
    "X_train, X_test, y_train, y_test = model_selection.train_test_split(X, y, test_size=TS,random_state=R_STATE)\n",
    "\n",
    "model = DecisionTreeClassifier(max_depth=DEPTH)\n",
    "model.fit(X_train, y_train)\n",
    "\n",
    "y_pred_train_dt = model.predict(X_train)\n",
    "y_pred_test_dt  = model.predict(X_test)\n",
    "\n",
    "model_eval(y_train, y_pred_train_dt, y_test, y_pred_test_dt) # get model errors"
   ]
  },
  {
   "cell_type": "code",
   "execution_count": 156,
   "id": "9ca43a21",
   "metadata": {},
   "outputs": [
    {
     "name": "stdout",
     "output_type": "stream",
     "text": [
      "0.7706422018348624\n",
      "0.7290552584670231\n"
     ]
    },
    {
     "data": {
      "text/plain": [
       "array([0.73854962, 0.75717017, 0.73804971, 0.74378585, 0.75143403])"
      ]
     },
     "execution_count": 156,
     "metadata": {},
     "output_type": "execute_result"
    }
   ],
   "source": [
    "from sklearn.model_selection import train_test_split\n",
    "X_train, X_test, y_train, y_test = train_test_split(X, y, test_size=TS, random_state=R_STATE)\n",
    "\n",
    "clf = RandomForestClassifier(max_depth=6,min_samples_leaf=20,max_features=None,n_estimators=100,\n",
    "                             bootstrap=True,oob_score=True, random_state=R_STATE)\n",
    "clf.fit(X_train, y_train)\n",
    "print(clf.score(X_train, y_train))\n",
    "print(clf.score(X_test, y_test))\n",
    "\n",
    "cross_val_scores = cross_val_score(clf, X_train, y_train, cv=5)\n",
    "cross_val_scores\n"
   ]
  },
  {
   "cell_type": "code",
   "execution_count": 158,
   "id": "e1d71a5d",
   "metadata": {},
   "outputs": [],
   "source": [
    "from imblearn.over_sampling import SMOTE\n",
    "smote = SMOTE()"
   ]
  },
  {
   "cell_type": "code",
   "execution_count": 159,
   "id": "c8f44f31",
   "metadata": {},
   "outputs": [
    {
     "data": {
      "text/plain": [
       "1    1869\n",
       "0    1869\n",
       "Name: Churn, dtype: int64"
      ]
     },
     "execution_count": 159,
     "metadata": {},
     "output_type": "execute_result"
    }
   ],
   "source": [
    "y = data.Churn\n",
    "X = data.drop(labels=['Churn'],axis=1)\n",
    "X_sm, y_sm = smote.fit_resample(X, y)\n",
    "y_sm.value_counts()"
   ]
  },
  {
   "cell_type": "code",
   "execution_count": null,
   "id": "7bb3c7f4",
   "metadata": {},
   "outputs": [],
   "source": []
  },
  {
   "cell_type": "code",
   "execution_count": 160,
   "id": "316dc8fe",
   "metadata": {},
   "outputs": [],
   "source": [
    "X_train, X_test, y_train, y_test = train_test_split(X_sm, y_sm, test_size=TS, random_state=R_STATE)\n",
    "X_train = pd.DataFrame(X_train)\n",
    "X_test = pd.DataFrame(X_test)\n"
   ]
  },
  {
   "cell_type": "code",
   "execution_count": 161,
   "id": "f2036cbc",
   "metadata": {},
   "outputs": [
    {
     "name": "stdout",
     "output_type": "stream",
     "text": [
      "0.7786697247706422\n",
      "0.7254901960784313\n"
     ]
    }
   ],
   "source": [
    "clf = RandomForestClassifier(max_depth=6, random_state=R_STATE)\n",
    "clf.fit(X_train, y_train)\n",
    "print(clf.score(X_train, y_train))\n",
    "print(clf.score(X_test, y_test))"
   ]
  },
  {
   "cell_type": "code",
   "execution_count": 162,
   "id": "37ac80ba",
   "metadata": {},
   "outputs": [],
   "source": [
    "from sklearn.model_selection import GridSearchCV\n",
    "\n",
    "param_grid = {\n",
    "    'n_estimators': [50, 100, 500],\n",
    "    'min_samples_split': [2, 4,6],\n",
    "    'min_samples_leaf' : [5, 10, 20,30],\n",
    "    'max_features': ['sqrt'],\n",
    "    ##'max_samples' : ['None', 0.5],\n",
    "    'max_depth':[3,6,9,12],\n",
    "    ## 'bootstrap':[True,False] \n",
    "    }\n",
    "clf = RandomForestClassifier(random_state=R_STATE)"
   ]
  },
  {
   "cell_type": "code",
   "execution_count": 163,
   "id": "a8236a2e",
   "metadata": {},
   "outputs": [],
   "source": [
    "grid_search = GridSearchCV(clf, param_grid, cv=5,return_train_score=True,n_jobs=-1,)"
   ]
  },
  {
   "cell_type": "code",
   "execution_count": 164,
   "id": "51862c96",
   "metadata": {},
   "outputs": [
    {
     "data": {
      "text/html": [
       "<style>#sk-container-id-5 {color: black;background-color: white;}#sk-container-id-5 pre{padding: 0;}#sk-container-id-5 div.sk-toggleable {background-color: white;}#sk-container-id-5 label.sk-toggleable__label {cursor: pointer;display: block;width: 100%;margin-bottom: 0;padding: 0.3em;box-sizing: border-box;text-align: center;}#sk-container-id-5 label.sk-toggleable__label-arrow:before {content: \"▸\";float: left;margin-right: 0.25em;color: #696969;}#sk-container-id-5 label.sk-toggleable__label-arrow:hover:before {color: black;}#sk-container-id-5 div.sk-estimator:hover label.sk-toggleable__label-arrow:before {color: black;}#sk-container-id-5 div.sk-toggleable__content {max-height: 0;max-width: 0;overflow: hidden;text-align: left;background-color: #f0f8ff;}#sk-container-id-5 div.sk-toggleable__content pre {margin: 0.2em;color: black;border-radius: 0.25em;background-color: #f0f8ff;}#sk-container-id-5 input.sk-toggleable__control:checked~div.sk-toggleable__content {max-height: 200px;max-width: 100%;overflow: auto;}#sk-container-id-5 input.sk-toggleable__control:checked~label.sk-toggleable__label-arrow:before {content: \"▾\";}#sk-container-id-5 div.sk-estimator input.sk-toggleable__control:checked~label.sk-toggleable__label {background-color: #d4ebff;}#sk-container-id-5 div.sk-label input.sk-toggleable__control:checked~label.sk-toggleable__label {background-color: #d4ebff;}#sk-container-id-5 input.sk-hidden--visually {border: 0;clip: rect(1px 1px 1px 1px);clip: rect(1px, 1px, 1px, 1px);height: 1px;margin: -1px;overflow: hidden;padding: 0;position: absolute;width: 1px;}#sk-container-id-5 div.sk-estimator {font-family: monospace;background-color: #f0f8ff;border: 1px dotted black;border-radius: 0.25em;box-sizing: border-box;margin-bottom: 0.5em;}#sk-container-id-5 div.sk-estimator:hover {background-color: #d4ebff;}#sk-container-id-5 div.sk-parallel-item::after {content: \"\";width: 100%;border-bottom: 1px solid gray;flex-grow: 1;}#sk-container-id-5 div.sk-label:hover label.sk-toggleable__label {background-color: #d4ebff;}#sk-container-id-5 div.sk-serial::before {content: \"\";position: absolute;border-left: 1px solid gray;box-sizing: border-box;top: 0;bottom: 0;left: 50%;z-index: 0;}#sk-container-id-5 div.sk-serial {display: flex;flex-direction: column;align-items: center;background-color: white;padding-right: 0.2em;padding-left: 0.2em;position: relative;}#sk-container-id-5 div.sk-item {position: relative;z-index: 1;}#sk-container-id-5 div.sk-parallel {display: flex;align-items: stretch;justify-content: center;background-color: white;position: relative;}#sk-container-id-5 div.sk-item::before, #sk-container-id-5 div.sk-parallel-item::before {content: \"\";position: absolute;border-left: 1px solid gray;box-sizing: border-box;top: 0;bottom: 0;left: 50%;z-index: -1;}#sk-container-id-5 div.sk-parallel-item {display: flex;flex-direction: column;z-index: 1;position: relative;background-color: white;}#sk-container-id-5 div.sk-parallel-item:first-child::after {align-self: flex-end;width: 50%;}#sk-container-id-5 div.sk-parallel-item:last-child::after {align-self: flex-start;width: 50%;}#sk-container-id-5 div.sk-parallel-item:only-child::after {width: 0;}#sk-container-id-5 div.sk-dashed-wrapped {border: 1px dashed gray;margin: 0 0.4em 0.5em 0.4em;box-sizing: border-box;padding-bottom: 0.4em;background-color: white;}#sk-container-id-5 div.sk-label label {font-family: monospace;font-weight: bold;display: inline-block;line-height: 1.2em;}#sk-container-id-5 div.sk-label-container {text-align: center;}#sk-container-id-5 div.sk-container {/* jupyter's `normalize.less` sets `[hidden] { display: none; }` but bootstrap.min.css set `[hidden] { display: none !important; }` so we also need the `!important` here to be able to override the default hidden behavior on the sphinx rendered scikit-learn.org. See: https://github.com/scikit-learn/scikit-learn/issues/21755 */display: inline-block !important;position: relative;}#sk-container-id-5 div.sk-text-repr-fallback {display: none;}</style><div id=\"sk-container-id-5\" class=\"sk-top-container\"><div class=\"sk-text-repr-fallback\"><pre>GridSearchCV(cv=5, estimator=RandomForestClassifier(random_state=32), n_jobs=-1,\n",
       "             param_grid={&#x27;max_depth&#x27;: [3, 6, 9, 12], &#x27;max_features&#x27;: [&#x27;sqrt&#x27;],\n",
       "                         &#x27;min_samples_leaf&#x27;: [5, 10, 20, 30],\n",
       "                         &#x27;min_samples_split&#x27;: [2, 4, 6],\n",
       "                         &#x27;n_estimators&#x27;: [50, 100, 500]},\n",
       "             return_train_score=True)</pre><b>In a Jupyter environment, please rerun this cell to show the HTML representation or trust the notebook. <br />On GitHub, the HTML representation is unable to render, please try loading this page with nbviewer.org.</b></div><div class=\"sk-container\" hidden><div class=\"sk-item sk-dashed-wrapped\"><div class=\"sk-label-container\"><div class=\"sk-label sk-toggleable\"><input class=\"sk-toggleable__control sk-hidden--visually\" id=\"sk-estimator-id-13\" type=\"checkbox\" ><label for=\"sk-estimator-id-13\" class=\"sk-toggleable__label sk-toggleable__label-arrow\">GridSearchCV</label><div class=\"sk-toggleable__content\"><pre>GridSearchCV(cv=5, estimator=RandomForestClassifier(random_state=32), n_jobs=-1,\n",
       "             param_grid={&#x27;max_depth&#x27;: [3, 6, 9, 12], &#x27;max_features&#x27;: [&#x27;sqrt&#x27;],\n",
       "                         &#x27;min_samples_leaf&#x27;: [5, 10, 20, 30],\n",
       "                         &#x27;min_samples_split&#x27;: [2, 4, 6],\n",
       "                         &#x27;n_estimators&#x27;: [50, 100, 500]},\n",
       "             return_train_score=True)</pre></div></div></div><div class=\"sk-parallel\"><div class=\"sk-parallel-item\"><div class=\"sk-item\"><div class=\"sk-label-container\"><div class=\"sk-label sk-toggleable\"><input class=\"sk-toggleable__control sk-hidden--visually\" id=\"sk-estimator-id-14\" type=\"checkbox\" ><label for=\"sk-estimator-id-14\" class=\"sk-toggleable__label sk-toggleable__label-arrow\">estimator: RandomForestClassifier</label><div class=\"sk-toggleable__content\"><pre>RandomForestClassifier(random_state=32)</pre></div></div></div><div class=\"sk-serial\"><div class=\"sk-item\"><div class=\"sk-estimator sk-toggleable\"><input class=\"sk-toggleable__control sk-hidden--visually\" id=\"sk-estimator-id-15\" type=\"checkbox\" ><label for=\"sk-estimator-id-15\" class=\"sk-toggleable__label sk-toggleable__label-arrow\">RandomForestClassifier</label><div class=\"sk-toggleable__content\"><pre>RandomForestClassifier(random_state=32)</pre></div></div></div></div></div></div></div></div></div></div>"
      ],
      "text/plain": [
       "GridSearchCV(cv=5, estimator=RandomForestClassifier(random_state=32), n_jobs=-1,\n",
       "             param_grid={'max_depth': [3, 6, 9, 12], 'max_features': ['sqrt'],\n",
       "                         'min_samples_leaf': [5, 10, 20, 30],\n",
       "                         'min_samples_split': [2, 4, 6],\n",
       "                         'n_estimators': [50, 100, 500]},\n",
       "             return_train_score=True)"
      ]
     },
     "execution_count": 164,
     "metadata": {},
     "output_type": "execute_result"
    }
   ],
   "source": [
    "grid_search.fit(X_train,y_train)"
   ]
  },
  {
   "cell_type": "code",
   "execution_count": null,
   "id": "3e5dbccd",
   "metadata": {},
   "outputs": [],
   "source": []
  },
  {
   "cell_type": "code",
   "execution_count": 128,
   "id": "4e028bdc",
   "metadata": {},
   "outputs": [
    {
     "data": {
      "text/html": [
       "<div>\n",
       "<style scoped>\n",
       "    .dataframe tbody tr th:only-of-type {\n",
       "        vertical-align: middle;\n",
       "    }\n",
       "\n",
       "    .dataframe tbody tr th {\n",
       "        vertical-align: top;\n",
       "    }\n",
       "\n",
       "    .dataframe thead th {\n",
       "        text-align: right;\n",
       "    }\n",
       "</style>\n",
       "<table border=\"1\" class=\"dataframe\">\n",
       "  <thead>\n",
       "    <tr style=\"text-align: right;\">\n",
       "      <th></th>\n",
       "      <th>mean_fit_time</th>\n",
       "      <th>std_fit_time</th>\n",
       "      <th>mean_score_time</th>\n",
       "      <th>std_score_time</th>\n",
       "      <th>param_max_depth</th>\n",
       "      <th>param_max_features</th>\n",
       "      <th>param_min_samples_leaf</th>\n",
       "      <th>param_min_samples_split</th>\n",
       "      <th>param_n_estimators</th>\n",
       "      <th>params</th>\n",
       "      <th>...</th>\n",
       "      <th>mean_test_score</th>\n",
       "      <th>std_test_score</th>\n",
       "      <th>rank_test_score</th>\n",
       "      <th>split0_train_score</th>\n",
       "      <th>split1_train_score</th>\n",
       "      <th>split2_train_score</th>\n",
       "      <th>split3_train_score</th>\n",
       "      <th>split4_train_score</th>\n",
       "      <th>mean_train_score</th>\n",
       "      <th>std_train_score</th>\n",
       "    </tr>\n",
       "  </thead>\n",
       "  <tbody>\n",
       "    <tr>\n",
       "      <th>0</th>\n",
       "      <td>0.062317</td>\n",
       "      <td>0.006758</td>\n",
       "      <td>0.004380</td>\n",
       "      <td>0.002393</td>\n",
       "      <td>3</td>\n",
       "      <td>sqrt</td>\n",
       "      <td>5</td>\n",
       "      <td>2</td>\n",
       "      <td>50</td>\n",
       "      <td>{'max_depth': 3, 'max_features': 'sqrt', 'min_...</td>\n",
       "      <td>...</td>\n",
       "      <td>0.721330</td>\n",
       "      <td>0.012547</td>\n",
       "      <td>121</td>\n",
       "      <td>0.740440</td>\n",
       "      <td>0.733875</td>\n",
       "      <td>0.737219</td>\n",
       "      <td>0.736742</td>\n",
       "      <td>0.741997</td>\n",
       "      <td>0.738055</td>\n",
       "      <td>0.002868</td>\n",
       "    </tr>\n",
       "    <tr>\n",
       "      <th>1</th>\n",
       "      <td>0.131986</td>\n",
       "      <td>0.023619</td>\n",
       "      <td>0.008877</td>\n",
       "      <td>0.003357</td>\n",
       "      <td>3</td>\n",
       "      <td>sqrt</td>\n",
       "      <td>5</td>\n",
       "      <td>2</td>\n",
       "      <td>100</td>\n",
       "      <td>{'max_depth': 3, 'max_features': 'sqrt', 'min_...</td>\n",
       "      <td>...</td>\n",
       "      <td>0.723244</td>\n",
       "      <td>0.011118</td>\n",
       "      <td>109</td>\n",
       "      <td>0.738528</td>\n",
       "      <td>0.731964</td>\n",
       "      <td>0.732441</td>\n",
       "      <td>0.734830</td>\n",
       "      <td>0.741997</td>\n",
       "      <td>0.735952</td>\n",
       "      <td>0.003812</td>\n",
       "    </tr>\n",
       "    <tr>\n",
       "      <th>2</th>\n",
       "      <td>0.678274</td>\n",
       "      <td>0.037991</td>\n",
       "      <td>0.032690</td>\n",
       "      <td>0.008023</td>\n",
       "      <td>3</td>\n",
       "      <td>sqrt</td>\n",
       "      <td>5</td>\n",
       "      <td>2</td>\n",
       "      <td>500</td>\n",
       "      <td>{'max_depth': 3, 'max_features': 'sqrt', 'min_...</td>\n",
       "      <td>...</td>\n",
       "      <td>0.724009</td>\n",
       "      <td>0.013768</td>\n",
       "      <td>91</td>\n",
       "      <td>0.737572</td>\n",
       "      <td>0.736264</td>\n",
       "      <td>0.731486</td>\n",
       "      <td>0.736264</td>\n",
       "      <td>0.747253</td>\n",
       "      <td>0.737768</td>\n",
       "      <td>0.005177</td>\n",
       "    </tr>\n",
       "    <tr>\n",
       "      <th>3</th>\n",
       "      <td>0.061445</td>\n",
       "      <td>0.005816</td>\n",
       "      <td>0.004647</td>\n",
       "      <td>0.002251</td>\n",
       "      <td>3</td>\n",
       "      <td>sqrt</td>\n",
       "      <td>5</td>\n",
       "      <td>4</td>\n",
       "      <td>50</td>\n",
       "      <td>{'max_depth': 3, 'max_features': 'sqrt', 'min_...</td>\n",
       "      <td>...</td>\n",
       "      <td>0.721330</td>\n",
       "      <td>0.012547</td>\n",
       "      <td>121</td>\n",
       "      <td>0.740440</td>\n",
       "      <td>0.733875</td>\n",
       "      <td>0.737219</td>\n",
       "      <td>0.736742</td>\n",
       "      <td>0.741997</td>\n",
       "      <td>0.738055</td>\n",
       "      <td>0.002868</td>\n",
       "    </tr>\n",
       "    <tr>\n",
       "      <th>4</th>\n",
       "      <td>0.135607</td>\n",
       "      <td>0.012323</td>\n",
       "      <td>0.006668</td>\n",
       "      <td>0.002139</td>\n",
       "      <td>3</td>\n",
       "      <td>sqrt</td>\n",
       "      <td>5</td>\n",
       "      <td>4</td>\n",
       "      <td>100</td>\n",
       "      <td>{'max_depth': 3, 'max_features': 'sqrt', 'min_...</td>\n",
       "      <td>...</td>\n",
       "      <td>0.723244</td>\n",
       "      <td>0.011118</td>\n",
       "      <td>109</td>\n",
       "      <td>0.738528</td>\n",
       "      <td>0.731964</td>\n",
       "      <td>0.732441</td>\n",
       "      <td>0.734830</td>\n",
       "      <td>0.741997</td>\n",
       "      <td>0.735952</td>\n",
       "      <td>0.003812</td>\n",
       "    </tr>\n",
       "    <tr>\n",
       "      <th>...</th>\n",
       "      <td>...</td>\n",
       "      <td>...</td>\n",
       "      <td>...</td>\n",
       "      <td>...</td>\n",
       "      <td>...</td>\n",
       "      <td>...</td>\n",
       "      <td>...</td>\n",
       "      <td>...</td>\n",
       "      <td>...</td>\n",
       "      <td>...</td>\n",
       "      <td>...</td>\n",
       "      <td>...</td>\n",
       "      <td>...</td>\n",
       "      <td>...</td>\n",
       "      <td>...</td>\n",
       "      <td>...</td>\n",
       "      <td>...</td>\n",
       "      <td>...</td>\n",
       "      <td>...</td>\n",
       "      <td>...</td>\n",
       "      <td>...</td>\n",
       "    </tr>\n",
       "    <tr>\n",
       "      <th>139</th>\n",
       "      <td>0.168266</td>\n",
       "      <td>0.011838</td>\n",
       "      <td>0.010002</td>\n",
       "      <td>0.004466</td>\n",
       "      <td>12</td>\n",
       "      <td>sqrt</td>\n",
       "      <td>30</td>\n",
       "      <td>4</td>\n",
       "      <td>100</td>\n",
       "      <td>{'max_depth': 12, 'max_features': 'sqrt', 'min...</td>\n",
       "      <td>...</td>\n",
       "      <td>0.733570</td>\n",
       "      <td>0.014491</td>\n",
       "      <td>10</td>\n",
       "      <td>0.755736</td>\n",
       "      <td>0.759675</td>\n",
       "      <td>0.753942</td>\n",
       "      <td>0.750597</td>\n",
       "      <td>0.755853</td>\n",
       "      <td>0.755161</td>\n",
       "      <td>0.002950</td>\n",
       "    </tr>\n",
       "    <tr>\n",
       "      <th>140</th>\n",
       "      <td>0.791382</td>\n",
       "      <td>0.014578</td>\n",
       "      <td>0.038980</td>\n",
       "      <td>0.007339</td>\n",
       "      <td>12</td>\n",
       "      <td>sqrt</td>\n",
       "      <td>30</td>\n",
       "      <td>4</td>\n",
       "      <td>500</td>\n",
       "      <td>{'max_depth': 12, 'max_features': 'sqrt', 'min...</td>\n",
       "      <td>...</td>\n",
       "      <td>0.734334</td>\n",
       "      <td>0.014318</td>\n",
       "      <td>1</td>\n",
       "      <td>0.757648</td>\n",
       "      <td>0.758720</td>\n",
       "      <td>0.754897</td>\n",
       "      <td>0.752031</td>\n",
       "      <td>0.760153</td>\n",
       "      <td>0.756690</td>\n",
       "      <td>0.002897</td>\n",
       "    </tr>\n",
       "    <tr>\n",
       "      <th>141</th>\n",
       "      <td>0.080101</td>\n",
       "      <td>0.007482</td>\n",
       "      <td>0.005358</td>\n",
       "      <td>0.002446</td>\n",
       "      <td>12</td>\n",
       "      <td>sqrt</td>\n",
       "      <td>30</td>\n",
       "      <td>6</td>\n",
       "      <td>50</td>\n",
       "      <td>{'max_depth': 12, 'max_features': 'sqrt', 'min...</td>\n",
       "      <td>...</td>\n",
       "      <td>0.728600</td>\n",
       "      <td>0.014618</td>\n",
       "      <td>64</td>\n",
       "      <td>0.756692</td>\n",
       "      <td>0.757286</td>\n",
       "      <td>0.751075</td>\n",
       "      <td>0.748686</td>\n",
       "      <td>0.763020</td>\n",
       "      <td>0.755352</td>\n",
       "      <td>0.005041</td>\n",
       "    </tr>\n",
       "    <tr>\n",
       "      <th>142</th>\n",
       "      <td>0.167789</td>\n",
       "      <td>0.010990</td>\n",
       "      <td>0.010212</td>\n",
       "      <td>0.003934</td>\n",
       "      <td>12</td>\n",
       "      <td>sqrt</td>\n",
       "      <td>30</td>\n",
       "      <td>6</td>\n",
       "      <td>100</td>\n",
       "      <td>{'max_depth': 12, 'max_features': 'sqrt', 'min...</td>\n",
       "      <td>...</td>\n",
       "      <td>0.733570</td>\n",
       "      <td>0.014491</td>\n",
       "      <td>10</td>\n",
       "      <td>0.755736</td>\n",
       "      <td>0.759675</td>\n",
       "      <td>0.753942</td>\n",
       "      <td>0.750597</td>\n",
       "      <td>0.755853</td>\n",
       "      <td>0.755161</td>\n",
       "      <td>0.002950</td>\n",
       "    </tr>\n",
       "    <tr>\n",
       "      <th>143</th>\n",
       "      <td>0.684156</td>\n",
       "      <td>0.043724</td>\n",
       "      <td>0.033571</td>\n",
       "      <td>0.006152</td>\n",
       "      <td>12</td>\n",
       "      <td>sqrt</td>\n",
       "      <td>30</td>\n",
       "      <td>6</td>\n",
       "      <td>500</td>\n",
       "      <td>{'max_depth': 12, 'max_features': 'sqrt', 'min...</td>\n",
       "      <td>...</td>\n",
       "      <td>0.734334</td>\n",
       "      <td>0.014318</td>\n",
       "      <td>1</td>\n",
       "      <td>0.757648</td>\n",
       "      <td>0.758720</td>\n",
       "      <td>0.754897</td>\n",
       "      <td>0.752031</td>\n",
       "      <td>0.760153</td>\n",
       "      <td>0.756690</td>\n",
       "      <td>0.002897</td>\n",
       "    </tr>\n",
       "  </tbody>\n",
       "</table>\n",
       "<p>144 rows × 25 columns</p>\n",
       "</div>"
      ],
      "text/plain": [
       "     mean_fit_time  std_fit_time  mean_score_time  std_score_time  \\\n",
       "0         0.062317      0.006758         0.004380        0.002393   \n",
       "1         0.131986      0.023619         0.008877        0.003357   \n",
       "2         0.678274      0.037991         0.032690        0.008023   \n",
       "3         0.061445      0.005816         0.004647        0.002251   \n",
       "4         0.135607      0.012323         0.006668        0.002139   \n",
       "..             ...           ...              ...             ...   \n",
       "139       0.168266      0.011838         0.010002        0.004466   \n",
       "140       0.791382      0.014578         0.038980        0.007339   \n",
       "141       0.080101      0.007482         0.005358        0.002446   \n",
       "142       0.167789      0.010990         0.010212        0.003934   \n",
       "143       0.684156      0.043724         0.033571        0.006152   \n",
       "\n",
       "    param_max_depth param_max_features param_min_samples_leaf  \\\n",
       "0                 3               sqrt                      5   \n",
       "1                 3               sqrt                      5   \n",
       "2                 3               sqrt                      5   \n",
       "3                 3               sqrt                      5   \n",
       "4                 3               sqrt                      5   \n",
       "..              ...                ...                    ...   \n",
       "139              12               sqrt                     30   \n",
       "140              12               sqrt                     30   \n",
       "141              12               sqrt                     30   \n",
       "142              12               sqrt                     30   \n",
       "143              12               sqrt                     30   \n",
       "\n",
       "    param_min_samples_split param_n_estimators  \\\n",
       "0                         2                 50   \n",
       "1                         2                100   \n",
       "2                         2                500   \n",
       "3                         4                 50   \n",
       "4                         4                100   \n",
       "..                      ...                ...   \n",
       "139                       4                100   \n",
       "140                       4                500   \n",
       "141                       6                 50   \n",
       "142                       6                100   \n",
       "143                       6                500   \n",
       "\n",
       "                                                params  ...  mean_test_score  \\\n",
       "0    {'max_depth': 3, 'max_features': 'sqrt', 'min_...  ...         0.721330   \n",
       "1    {'max_depth': 3, 'max_features': 'sqrt', 'min_...  ...         0.723244   \n",
       "2    {'max_depth': 3, 'max_features': 'sqrt', 'min_...  ...         0.724009   \n",
       "3    {'max_depth': 3, 'max_features': 'sqrt', 'min_...  ...         0.721330   \n",
       "4    {'max_depth': 3, 'max_features': 'sqrt', 'min_...  ...         0.723244   \n",
       "..                                                 ...  ...              ...   \n",
       "139  {'max_depth': 12, 'max_features': 'sqrt', 'min...  ...         0.733570   \n",
       "140  {'max_depth': 12, 'max_features': 'sqrt', 'min...  ...         0.734334   \n",
       "141  {'max_depth': 12, 'max_features': 'sqrt', 'min...  ...         0.728600   \n",
       "142  {'max_depth': 12, 'max_features': 'sqrt', 'min...  ...         0.733570   \n",
       "143  {'max_depth': 12, 'max_features': 'sqrt', 'min...  ...         0.734334   \n",
       "\n",
       "     std_test_score  rank_test_score  split0_train_score  split1_train_score  \\\n",
       "0          0.012547              121            0.740440            0.733875   \n",
       "1          0.011118              109            0.738528            0.731964   \n",
       "2          0.013768               91            0.737572            0.736264   \n",
       "3          0.012547              121            0.740440            0.733875   \n",
       "4          0.011118              109            0.738528            0.731964   \n",
       "..              ...              ...                 ...                 ...   \n",
       "139        0.014491               10            0.755736            0.759675   \n",
       "140        0.014318                1            0.757648            0.758720   \n",
       "141        0.014618               64            0.756692            0.757286   \n",
       "142        0.014491               10            0.755736            0.759675   \n",
       "143        0.014318                1            0.757648            0.758720   \n",
       "\n",
       "     split2_train_score  split3_train_score  split4_train_score  \\\n",
       "0              0.737219            0.736742            0.741997   \n",
       "1              0.732441            0.734830            0.741997   \n",
       "2              0.731486            0.736264            0.747253   \n",
       "3              0.737219            0.736742            0.741997   \n",
       "4              0.732441            0.734830            0.741997   \n",
       "..                  ...                 ...                 ...   \n",
       "139            0.753942            0.750597            0.755853   \n",
       "140            0.754897            0.752031            0.760153   \n",
       "141            0.751075            0.748686            0.763020   \n",
       "142            0.753942            0.750597            0.755853   \n",
       "143            0.754897            0.752031            0.760153   \n",
       "\n",
       "     mean_train_score  std_train_score  \n",
       "0            0.738055         0.002868  \n",
       "1            0.735952         0.003812  \n",
       "2            0.737768         0.005177  \n",
       "3            0.738055         0.002868  \n",
       "4            0.735952         0.003812  \n",
       "..                ...              ...  \n",
       "139          0.755161         0.002950  \n",
       "140          0.756690         0.002897  \n",
       "141          0.755352         0.005041  \n",
       "142          0.755161         0.002950  \n",
       "143          0.756690         0.002897  \n",
       "\n",
       "[144 rows x 25 columns]"
      ]
     },
     "execution_count": 128,
     "metadata": {},
     "output_type": "execute_result"
    }
   ],
   "source": [
    "pd.DataFrame(grid_search.cv_results_)"
   ]
  },
  {
   "cell_type": "code",
   "execution_count": 129,
   "id": "fb880135",
   "metadata": {},
   "outputs": [
    {
     "data": {
      "text/plain": [
       "{'max_depth': 9,\n",
       " 'max_features': 'sqrt',\n",
       " 'min_samples_leaf': 30,\n",
       " 'min_samples_split': 2,\n",
       " 'n_estimators': 500}"
      ]
     },
     "execution_count": 129,
     "metadata": {},
     "output_type": "execute_result"
    }
   ],
   "source": [
    "grd_params = grid_search.best_params_ #To check the best set of parameters returned\n",
    "grd_params"
   ]
  },
  {
   "cell_type": "code",
   "execution_count": 130,
   "id": "f03f1a74",
   "metadata": {},
   "outputs": [
    {
     "data": {
      "text/plain": [
       "0.7327951800181334"
      ]
     },
     "execution_count": 130,
     "metadata": {},
     "output_type": "execute_result"
    }
   ],
   "source": [
    "from sklearn.model_selection import cross_val_score\n",
    "clf = RandomForestClassifier(random_state=R_STATE, max_features='sqrt', max_depth=9,\n",
    "                             min_samples_leaf=30, min_samples_split=2, n_estimators=500)\n",
    "cross_val_scores = cross_val_score(clf, X_train, y_train, cv=10)\n",
    "np.mean(cross_val_scores)\n",
    "\n"
   ]
  },
  {
   "cell_type": "markdown",
   "id": "580b1ce3",
   "metadata": {},
   "source": [
    "## Decision Tree Classification with Upsampled Data "
   ]
  },
  {
   "cell_type": "code",
   "execution_count": 43,
   "id": "18e2f724",
   "metadata": {},
   "outputs": [
    {
     "name": "stdout",
     "output_type": "stream",
     "text": [
      "(5174, 5) (1869, 5)\n"
     ]
    }
   ],
   "source": [
    "churn_0 = churnData[churnData['Churn'] == 0]\n",
    "churn_1 = churnData[churnData['Churn'] == 1]\n",
    "print(churn_0.shape,churn_1.shape)"
   ]
  },
  {
   "cell_type": "markdown",
   "id": "3b35c243",
   "metadata": {},
   "source": [
    "### upsampling churn=1"
   ]
  },
  {
   "cell_type": "code",
   "execution_count": 44,
   "id": "055e2946",
   "metadata": {},
   "outputs": [
    {
     "name": "stdout",
     "output_type": "stream",
     "text": [
      "(5174, 5)\n"
     ]
    }
   ],
   "source": [
    "churn_1_up = churn_1.sample(len(churn_0), replace=True)\n",
    "print(churn_1_up.shape)"
   ]
  },
  {
   "cell_type": "code",
   "execution_count": 45,
   "id": "25d6a547",
   "metadata": {},
   "outputs": [
    {
     "data": {
      "text/plain": [
       "0    5174\n",
       "1    5174\n",
       "Name: Churn, dtype: int64"
      ]
     },
     "execution_count": 45,
     "metadata": {},
     "output_type": "execute_result"
    }
   ],
   "source": [
    "data = pd.concat([churn_0, churn_1_up], axis=0)\n",
    "#shuffling the data\n",
    "data = data.sample(frac=1)\n",
    "data['Churn'].value_counts()"
   ]
  },
  {
   "cell_type": "markdown",
   "id": "7076d8be",
   "metadata": {},
   "source": [
    "### Modeling"
   ]
  },
  {
   "cell_type": "code",
   "execution_count": null,
   "id": "4877f315",
   "metadata": {},
   "outputs": [],
   "source": []
  },
  {
   "cell_type": "code",
   "execution_count": 46,
   "id": "78a18a96",
   "metadata": {},
   "outputs": [
    {
     "data": {
      "text/html": [
       "<div>\n",
       "<style scoped>\n",
       "    .dataframe tbody tr th:only-of-type {\n",
       "        vertical-align: middle;\n",
       "    }\n",
       "\n",
       "    .dataframe tbody tr th {\n",
       "        vertical-align: top;\n",
       "    }\n",
       "\n",
       "    .dataframe thead th {\n",
       "        text-align: right;\n",
       "    }\n",
       "</style>\n",
       "<table border=\"1\" class=\"dataframe\">\n",
       "  <thead>\n",
       "    <tr style=\"text-align: right;\">\n",
       "      <th></th>\n",
       "      <th>Error_metric</th>\n",
       "      <th>Train</th>\n",
       "      <th>Test</th>\n",
       "    </tr>\n",
       "  </thead>\n",
       "  <tbody>\n",
       "    <tr>\n",
       "      <th>0</th>\n",
       "      <td>Accuracy</td>\n",
       "      <td>0.730222</td>\n",
       "      <td>0.729147</td>\n",
       "    </tr>\n",
       "    <tr>\n",
       "      <th>1</th>\n",
       "      <td>Precision</td>\n",
       "      <td>0.696656</td>\n",
       "      <td>0.699944</td>\n",
       "    </tr>\n",
       "    <tr>\n",
       "      <th>2</th>\n",
       "      <td>Recall</td>\n",
       "      <td>0.816225</td>\n",
       "      <td>0.800645</td>\n",
       "    </tr>\n",
       "  </tbody>\n",
       "</table>\n",
       "</div>"
      ],
      "text/plain": [
       "  Error_metric     Train      Test\n",
       "0     Accuracy  0.730222  0.729147\n",
       "1    Precision  0.696656  0.699944\n",
       "2       Recall  0.816225  0.800645"
      ]
     },
     "execution_count": 46,
     "metadata": {},
     "output_type": "execute_result"
    }
   ],
   "source": [
    "# X,y split\n",
    "y = data.Churn\n",
    "X = data.drop(labels=['Churn'],axis=1)\n",
    "\n",
    "X_train, X_test, y_train, y_test = model_selection.train_test_split(X, y, test_size=TS,random_state=R_STATE)\n",
    "\n",
    "model = DecisionTreeClassifier(max_depth=DEPTH)\n",
    "model.fit(X_train, y_train)\n",
    "\n",
    "y_pred_train_dt = model.predict(X_train)\n",
    "y_pred_test_dt  = model.predict(X_test)\n",
    "\n",
    "model_eval(y_train, y_pred_train_dt, y_test, y_pred_test_dt) # get model errors"
   ]
  },
  {
   "cell_type": "code",
   "execution_count": 47,
   "id": "3b826fac",
   "metadata": {},
   "outputs": [
    {
     "data": {
      "text/plain": [
       "[0.7264946365539628,\n",
       " 0.7255283333990873,\n",
       " 0.7277352794921155,\n",
       " 0.7280115072692541,\n",
       " 0.727321858694042,\n",
       " 0.7285628853621453,\n",
       " 0.7273235215201297,\n",
       " 0.7274572616558339]"
      ]
     },
     "execution_count": 47,
     "metadata": {},
     "output_type": "execute_result"
    }
   ],
   "source": [
    "[cross_val_score(model, X_train, y_train, cv=c).mean() for c in range(2,10)]\n"
   ]
  }
 ],
 "metadata": {
  "kernelspec": {
   "display_name": "Python 3 (ipykernel)",
   "language": "python",
   "name": "python3"
  },
  "language_info": {
   "codemirror_mode": {
    "name": "ipython",
    "version": 3
   },
   "file_extension": ".py",
   "mimetype": "text/x-python",
   "name": "python",
   "nbconvert_exporter": "python",
   "pygments_lexer": "ipython3",
   "version": "3.9.0"
  },
  "toc": {
   "base_numbering": 1,
   "nav_menu": {},
   "number_sections": true,
   "sideBar": true,
   "skip_h1_title": false,
   "title_cell": "Table of Contents",
   "title_sidebar": "Contents",
   "toc_cell": false,
   "toc_position": {},
   "toc_section_display": true,
   "toc_window_display": false
  },
  "varInspector": {
   "cols": {
    "lenName": 16,
    "lenType": 16,
    "lenVar": 40
   },
   "kernels_config": {
    "python": {
     "delete_cmd_postfix": "",
     "delete_cmd_prefix": "del ",
     "library": "var_list.py",
     "varRefreshCmd": "print(var_dic_list())"
    },
    "r": {
     "delete_cmd_postfix": ") ",
     "delete_cmd_prefix": "rm(",
     "library": "var_list.r",
     "varRefreshCmd": "cat(var_dic_list()) "
    }
   },
   "types_to_exclude": [
    "module",
    "function",
    "builtin_function_or_method",
    "instance",
    "_Feature"
   ],
   "window_display": false
  }
 },
 "nbformat": 4,
 "nbformat_minor": 5
}
