{
 "cells": [
  {
   "cell_type": "markdown",
   "id": "75976091",
   "metadata": {},
   "source": [
    "# Linda Z's Vacation preferences"
   ]
  },
  {
   "cell_type": "markdown",
   "id": "1ee26ce3",
   "metadata": {},
   "source": [
    "This notebook describes the holiday preferences of my mother Linda Zimmerman. She likes to travel to Florida where my grandmother lives."
   ]
  },
  {
   "cell_type": "markdown",
   "id": "25cbc4b7",
   "metadata": {},
   "source": [
    "We use the input() function to get text. The input() function allows user input.\n"
   ]
  },
  {
   "cell_type": "markdown",
   "id": "6037c867",
   "metadata": {},
   "source": [
    "The subject is my mother."
   ]
  },
  {
   "cell_type": "code",
   "execution_count": 1,
   "id": "ccbbbbc7",
   "metadata": {},
   "outputs": [
    {
     "name": "stdout",
     "output_type": "stream",
     "text": [
      "Name of the vactioner: Linda Zimmerman\n"
     ]
    }
   ],
   "source": [
    "n = input(\"Name of the vactioner: \")"
   ]
  },
  {
   "cell_type": "markdown",
   "id": "cb16ad82",
   "metadata": {},
   "source": [
    "## Photo of my mother"
   ]
  },
  {
   "cell_type": "markdown",
   "id": "8c0008c1",
   "metadata": {},
   "source": [
    "![alt_text](https://ivcusa.org/wp-content/uploads/2020/09/Linda-IVC-pic-scaled.jpg)"
   ]
  },
  {
   "cell_type": "markdown",
   "id": "b48d6add",
   "metadata": {},
   "source": [
    "## Favorite destination: Florida"
   ]
  },
  {
   "cell_type": "code",
   "execution_count": 2,
   "id": "ee544abf",
   "metadata": {},
   "outputs": [
    {
     "name": "stdout",
     "output_type": "stream",
     "text": [
      "Where does Linda like to go: Florida\n"
     ]
    }
   ],
   "source": [
    "dest = input(\"Where does Linda like to go: \")"
   ]
  },
  {
   "cell_type": "markdown",
   "id": "835db18e",
   "metadata": {},
   "source": [
    "### Photo of Florida beach"
   ]
  },
  {
   "cell_type": "markdown",
   "id": "00614a19",
   "metadata": {},
   "source": [
    "![alt_text](https://external-content.duckduckgo.com/iu/?u=https%3A%2F%2Fwww.fodors.com%2Fwp-content%2Fuploads%2F2020%2F06%2FWhereToWeekend__HERO_PalmBeaches_shutterstock_1238259865.jpg&f=1&nofb=1)"
   ]
  },
  {
   "cell_type": "markdown",
   "id": "ea0df707",
   "metadata": {},
   "source": [
    "## Linda's vacation activities"
   ]
  },
  {
   "cell_type": "markdown",
   "id": "95f394a0",
   "metadata": {},
   "source": [
    "### On vacation Linda likes to:"
   ]
  },
  {
   "cell_type": "markdown",
   "id": "38cb6020",
   "metadata": {},
   "source": [
    "- Go <b>swimming\n",
    "- Read on the <b>beach\n",
    "- Eat <b>seafood"
   ]
  },
  {
   "cell_type": "markdown",
   "id": "b6fe0881",
   "metadata": {},
   "source": [
    "The <b>Florida Keys</b> are a favorite spot  for [beaches](https://www.youtube.com/watch?v=1EnyZ9zcWys)."
   ]
  }
 ],
 "metadata": {
  "kernelspec": {
   "display_name": "Python 3 (ipykernel)",
   "language": "python",
   "name": "python3"
  },
  "language_info": {
   "codemirror_mode": {
    "name": "ipython",
    "version": 3
   },
   "file_extension": ".py",
   "mimetype": "text/x-python",
   "name": "python",
   "nbconvert_exporter": "python",
   "pygments_lexer": "ipython3",
   "version": "3.8.13"
  }
 },
 "nbformat": 4,
 "nbformat_minor": 5
}
