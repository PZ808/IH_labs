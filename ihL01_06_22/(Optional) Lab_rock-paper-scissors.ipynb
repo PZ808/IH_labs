{
 "cells": [
  {
   "cell_type": "markdown",
   "metadata": {},
   "source": [
    "<img src=\"https://bit.ly/2VnXWr2\" width=\"100\" align=\"left\">"
   ]
  },
  {
   "cell_type": "markdown",
   "metadata": {},
   "source": [
    "# Rock, Paper & Scissors\n",
    "\n",
    "Let's play the famous game against our computer. You can check the rules [here](https://en.wikipedia.org/wiki/Rock%E2%80%93paper%E2%80%93scissors). \n",
    "\n",
    "## Task\n",
    "Create a program that imitates the playability of the well known game of rock, paper, scissors. Follow the guidelines provided.\n",
    "\n",
    "## Tools\n",
    "1. Loop: **for/while**\n",
    "2. Functions: **input(), print()...**\n",
    "3. Conditional statements: **if, elif, else**\n",
    "4. Definition of functions. Modular programming\n",
    "5. Import modules\n",
    "\n",
    "**To solve this challenge, the use of functions is recommended.**\n",
    "\n",
    "#### 1. Import the choice function of the random module."
   ]
  },
  {
   "cell_type": "code",
   "execution_count": 1,
   "metadata": {},
   "outputs": [],
   "source": [
    "from random import choice"
   ]
  },
  {
   "cell_type": "markdown",
   "metadata": {},
   "source": [
    "#### 2. Create a list that includes the 3 possible gesture options of the game: 'rock', 'paper' or 'scissors'. Store the list in a variable called `gestures`."
   ]
  },
  {
   "cell_type": "code",
   "execution_count": 2,
   "metadata": {},
   "outputs": [],
   "source": [
    "gestures = ['rock', 'paper', 'scissors']"
   ]
  },
  {
   "cell_type": "markdown",
   "metadata": {},
   "source": [
    "#### 3. Create a variable called `n_rounds` to store the maximum number of rounds to play in a game. \n",
    "Remember that the number of rounds must be odd: 1, 3, 5, ..."
   ]
  },
  {
   "cell_type": "code",
   "execution_count": 3,
   "metadata": {},
   "outputs": [],
   "source": [
    "n_rounds= 3"
   ]
  },
  {
   "cell_type": "markdown",
   "metadata": {},
   "source": [
    "#### 4. Create a variable called `rounds_to_win` to store the number of rounds that a player must win to win the game.\n",
    "**Hint**: the value stored in `rounds_to_win` depends on the value of `n_rounds`. "
   ]
  },
  {
   "cell_type": "code",
   "execution_count": 4,
   "metadata": {},
   "outputs": [
    {
     "data": {
      "text/plain": [
       "2"
      ]
     },
     "execution_count": 4,
     "metadata": {},
     "output_type": "execute_result"
    }
   ],
   "source": [
    "rounds_to_win = int((n_rounds-1)/2+1)\n",
    "rounds_to_win"
   ]
  },
  {
   "cell_type": "markdown",
   "metadata": {},
   "source": [
    "#### 5. Create two variables to store the number of rounds that the computer and the player have won. Call these variables `cpu_score` and `player_score`."
   ]
  },
  {
   "cell_type": "code",
   "execution_count": 5,
   "metadata": {},
   "outputs": [],
   "source": [
    "cpu_score = 0\n",
    "player_score = 0"
   ]
  },
  {
   "cell_type": "markdown",
   "metadata": {},
   "source": [
    "#### 6. Define a function that randomly returns one of the 3 gesture options.\n",
    "You will use this function to simulate the gesture choice of the computer. "
   ]
  },
  {
   "cell_type": "code",
   "execution_count": 6,
   "metadata": {},
   "outputs": [],
   "source": [
    "def cpu_choice():\n",
    "    return choice(gestures)"
   ]
  },
  {
   "cell_type": "markdown",
   "metadata": {},
   "source": [
    "#### 7. Define a function that asks the player which is the gesture he or she wants to show: 'rock', 'paper' or 'scissors'.\n",
    "The player should only be allowed to choose one of the 3 gesture options. If the player's choice is not rock, paper or scissors, keep asking until it is."
   ]
  },
  {
   "cell_type": "code",
   "execution_count": 47,
   "metadata": {},
   "outputs": [],
   "source": [
    "def player_choice():\n",
    "    while True:    \n",
    "        gest = input('Enter a move (rock, paper, or scissors): ')\n",
    "        if gest in set(gestures):\n",
    "            print('You have selected ' + gest)\n",
    "            return gest\n",
    "        else:\n",
    "            print('You must choose a valid move!')        "
   ]
  },
  {
   "cell_type": "code",
   "execution_count": 48,
   "metadata": {},
   "outputs": [
    {
     "name": "stdout",
     "output_type": "stream",
     "text": [
      "Enter a move (rock, paper, or scissors): paper\n",
      "You have selected paper\n"
     ]
    },
    {
     "data": {
      "text/plain": [
       "'paper'"
      ]
     },
     "execution_count": 48,
     "metadata": {},
     "output_type": "execute_result"
    }
   ],
   "source": [
    "player_choice()"
   ]
  },
  {
   "cell_type": "markdown",
   "metadata": {},
   "source": [
    "#### 8. Define a function that checks who won a round. \n",
    "The function should return 0 if there is a tie, 1 if the computer wins and 2 if the player wins."
   ]
  },
  {
   "cell_type": "code",
   "execution_count": 50,
   "metadata": {},
   "outputs": [],
   "source": [
    "def player1_wins(player1, player2):\n",
    "    if player1 == 'rock':\n",
    "        if player2 == 'paper':\n",
    "            return False\n",
    "        else:\n",
    "            return True\n",
    "    if player1 == 'scissors':\n",
    "        if player2 == 'rock':\n",
    "            return False\n",
    "        else:\n",
    "            return True\n",
    "    if player1 == 'rock':\n",
    "        if player2 == 'paper':\n",
    "            return False\n",
    "        else:\n",
    "            return True"
   ]
  },
  {
   "cell_type": "code",
   "execution_count": 51,
   "metadata": {},
   "outputs": [
    {
     "data": {
      "text/plain": [
       "True"
      ]
     },
     "execution_count": 51,
     "metadata": {},
     "output_type": "execute_result"
    }
   ],
   "source": [
    "player1_wins('scissors','paper')"
   ]
  },
  {
   "cell_type": "code",
   "execution_count": 52,
   "metadata": {},
   "outputs": [],
   "source": [
    "def round_winner():\n",
    "    ''' evaluate the winner of a round a rock, paper, scissors '''\n",
    "    plr_c = player_choice()\n",
    "    cpu_c = cpu_choice()\n",
    "    print(\"Computer has chosen \" + cpu_c)\n",
    "    if cpu_c == plr_c:\n",
    "        return 0\n",
    "    #\n",
    "    cpu_wins = player1_wins(cpu_c,plr_c)\n",
    "    #\n",
    "    if cpu_wins == True:\n",
    "        return 1\n",
    "    if cpu_wins == False:\n",
    "        return 2\n",
    "    "
   ]
  },
  {
   "cell_type": "code",
   "execution_count": 53,
   "metadata": {},
   "outputs": [
    {
     "name": "stdout",
     "output_type": "stream",
     "text": [
      "Enter a move (rock, paper, or scissors): scissors\n",
      "You have selected scissors\n",
      "Computer has chosen rock\n"
     ]
    },
    {
     "data": {
      "text/plain": [
       "1"
      ]
     },
     "execution_count": 53,
     "metadata": {},
     "output_type": "execute_result"
    }
   ],
   "source": [
    "round_winner()"
   ]
  },
  {
   "cell_type": "markdown",
   "metadata": {},
   "source": [
    "#### 9. Define a function that prints the choice of the computer, the choice of the player and a message that announces who won the current round. \n",
    "You should also use this function to update the variables that count the number of rounds that the computer and the player have won. The score of the winner increases by one point. If there is a tie, the score does not increase."
   ]
  },
  {
   "cell_type": "code",
   "execution_count": 54,
   "metadata": {},
   "outputs": [],
   "source": [
    "def round_result_verbose(score_player, score_cpu):\n",
    "    ''' prints the winner of a round a rock, paper, scissors. increments score '''\n",
    "    plr_c = player_choice()\n",
    "    cpu_c = cpu_choice()\n",
    "    print(\"Computer has chosen \" + cpu_c)\n",
    "    if cpu_c == plr_c:\n",
    "        print(\"Tie!\")\n",
    "        return score_player, score_cpu\n",
    "    # \n",
    "    cpu_wins = player1_wins(cpu_c,plr_c)\n",
    "    #\n",
    "    if cpu_wins == True:\n",
    "        print (\"Computer wins!\")\n",
    "        score_cpu += 1\n",
    "        return score_player, score_cpu\n",
    "    if cpu_wins == False:\n",
    "        print (\"Player wins!\")\n",
    "        score_player += 1\n",
    "        return score_player, score_cpu"
   ]
  },
  {
   "cell_type": "code",
   "execution_count": 92,
   "metadata": {},
   "outputs": [
    {
     "name": "stdout",
     "output_type": "stream",
     "text": [
      "Enter a move (rock, paper, or scissors): rock\n",
      "You have selected rock\n",
      "Computer has chosen scissors\n",
      "Player wins!\n"
     ]
    },
    {
     "data": {
      "text/plain": [
       "(1, 1)"
      ]
     },
     "execution_count": 92,
     "metadata": {},
     "output_type": "execute_result"
    }
   ],
   "source": [
    "round_result_verbose(0,1)"
   ]
  },
  {
   "cell_type": "code",
   "execution_count": 69,
   "metadata": {},
   "outputs": [],
   "source": [
    "def round_result(score_player, score_cpu):\n",
    "    plr_c = player_choice()\n",
    "    cpu_c = cpu_choice()\n",
    "    if cpu_c == plr_c:\n",
    "        return (score_player, score_cpu)\n",
    "    # \n",
    "    cpu_wins = player1_wins(cpu_c,plr_c)\n",
    "    #\n",
    "    if cpu_wins == True:\n",
    "        score_cpu += 1\n",
    "        return (score_player, score_cpu)\n",
    "    if cpu_wins == False:\n",
    "        score_player += 1\n",
    "        return (score_player, score_cpu)"
   ]
  },
  {
   "cell_type": "code",
   "execution_count": 57,
   "metadata": {},
   "outputs": [
    {
     "name": "stdout",
     "output_type": "stream",
     "text": [
      "Enter a move (rock, paper, or scissors): scissors\n",
      "You have selected scissors\n"
     ]
    },
    {
     "data": {
      "text/plain": [
       "(0, 1)"
      ]
     },
     "execution_count": 57,
     "metadata": {},
     "output_type": "execute_result"
    }
   ],
   "source": [
    "round_result(0,1)"
   ]
  },
  {
   "cell_type": "code",
   "execution_count": null,
   "metadata": {},
   "outputs": [],
   "source": []
  },
  {
   "cell_type": "markdown",
   "metadata": {},
   "source": [
    "#### 10. Now it's time to code the execution of the game using the functions and variables you defined above. \n",
    "\n",
    "First, create a loop structure that repeats while no player reaches the minimum score necessary to win and the number of rounds is less than the maximum number of rounds to play in a game.  \n",
    "\n",
    "Inside the loop, use the functions and variables above to create the execution of a round: ask for the player's choice, generate the random choice of the computer, show the round results, update the scores, etc. "
   ]
  },
  {
   "cell_type": "code",
   "execution_count": 76,
   "metadata": {},
   "outputs": [],
   "source": [
    "def game():\n",
    "    round = 1\n",
    "    cpu_s = 0\n",
    "    plr_s = 0\n",
    "    while round <= n_rounds:\n",
    "        print(\"\\n\"+\"Round: \" + str(round) + \"\\n\")\n",
    "        # get the result of a round and update the scores\n",
    "        plr_s, cpu_s = round_result_verbose(int(plr_s), int(cpu_s))\n",
    "        # check if the game is over and who wins\n",
    "        if plr_s >= rounds_to_win:\n",
    "            print(\"\\n\" + \"Player has won the game\")\n",
    "            break\n",
    "        elif cpu_s >= rounds_to_win:\n",
    "            print(\"\\n\" + \"Computer has won the game\")\n",
    "            break\n",
    "        if round == n_rounds:\n",
    "            print(\"\\n\" + \"Game is a tie\")\n",
    "        round += 1\n",
    "        "
   ]
  },
  {
   "cell_type": "code",
   "execution_count": 89,
   "metadata": {},
   "outputs": [
    {
     "name": "stdout",
     "output_type": "stream",
     "text": [
      "\n",
      "Round: 1\n",
      "\n",
      "Enter a move (rock, paper, or scissors): scissors\n",
      "You have selected scissors\n",
      "Computer has chosen paper\n"
     ]
    },
    {
     "ename": "TypeError",
     "evalue": "cannot unpack non-iterable NoneType object",
     "output_type": "error",
     "traceback": [
      "\u001b[0;31m---------------------------------------------------------------------------\u001b[0m",
      "\u001b[0;31mTypeError\u001b[0m                                 Traceback (most recent call last)",
      "Input \u001b[0;32mIn [89]\u001b[0m, in \u001b[0;36m<cell line: 1>\u001b[0;34m()\u001b[0m\n\u001b[0;32m----> 1\u001b[0m \u001b[43mgame\u001b[49m\u001b[43m(\u001b[49m\u001b[43m)\u001b[49m\n",
      "Input \u001b[0;32mIn [76]\u001b[0m, in \u001b[0;36mgame\u001b[0;34m()\u001b[0m\n\u001b[1;32m      6\u001b[0m \u001b[38;5;28mprint\u001b[39m(\u001b[38;5;124m\"\u001b[39m\u001b[38;5;130;01m\\n\u001b[39;00m\u001b[38;5;124m\"\u001b[39m\u001b[38;5;241m+\u001b[39m\u001b[38;5;124m\"\u001b[39m\u001b[38;5;124mRound: \u001b[39m\u001b[38;5;124m\"\u001b[39m \u001b[38;5;241m+\u001b[39m \u001b[38;5;28mstr\u001b[39m(\u001b[38;5;28mround\u001b[39m) \u001b[38;5;241m+\u001b[39m \u001b[38;5;124m\"\u001b[39m\u001b[38;5;130;01m\\n\u001b[39;00m\u001b[38;5;124m\"\u001b[39m)\n\u001b[1;32m      7\u001b[0m \u001b[38;5;66;03m# get the result of a round and update the scores\u001b[39;00m\n\u001b[0;32m----> 8\u001b[0m plr_s, cpu_s \u001b[38;5;241m=\u001b[39m round_result_verbose(\u001b[38;5;28mint\u001b[39m(plr_s), \u001b[38;5;28mint\u001b[39m(cpu_s))\n\u001b[1;32m      9\u001b[0m \u001b[38;5;66;03m# check if the game is over and who wins\u001b[39;00m\n\u001b[1;32m     10\u001b[0m \u001b[38;5;28;01mif\u001b[39;00m plr_s \u001b[38;5;241m>\u001b[39m\u001b[38;5;241m=\u001b[39m rounds_to_win:\n",
      "\u001b[0;31mTypeError\u001b[0m: cannot unpack non-iterable NoneType object"
     ]
    }
   ],
   "source": [
    "game()"
   ]
  },
  {
   "cell_type": "markdown",
   "metadata": {},
   "source": [
    "#### 11. Print the winner of the game based on who won more rounds.\n",
    "Remember that the game might be tied. "
   ]
  },
  {
   "cell_type": "code",
   "execution_count": 78,
   "metadata": {},
   "outputs": [],
   "source": [
    "def game_verbose():\n",
    "    round = 1\n",
    "    cpu_s = 0\n",
    "    plr_s = 0\n",
    "    while round <= n_rounds:\n",
    "        print(\"\\n\"+\"Round:\" + str(round) + \"\\n\")\n",
    "        plr_s, cpu_s = round_result_verbose(int(plr_s), int(cpu_s))\n",
    "        \n",
    "        #print(plr_s,cpu_s)\n",
    "        if plr_s >= rounds_to_win:\n",
    "            print(\"\\n\" + \"Player has won the game\")\n",
    "            break\n",
    "        elif cpu_s >= rounds_to_win:\n",
    "            print(\"\\n\" + \"Computer has won the game\")\n",
    "            break\n",
    "        if round == n_rounds:\n",
    "            print(\"\\n\" + \"Game is a tie\")\n",
    "        round += 1"
   ]
  },
  {
   "cell_type": "markdown",
   "metadata": {},
   "source": [
    "# Bonus: Rock, Paper, Scissors, Lizard & Spock\n",
    "![](images/rpsls.jpg)\n",
    "\n",
    "In this challenge, you need to improve the previous game by adding two new options. To know more about the rules of the improved version of rock, paper, scissors, check this [link](http://www.samkass.com/theories/RPSSL.html). \n",
    "\n",
    "In addition, you will also need to improve how the game interacts with the player: the number of rounds to play, which must be an odd number, will be requested to the user until a valid number is entered. Define a new function to make that request.\n",
    "\n",
    "**Hint**: Try to reuse the code that you already coded in the previous challenge. If your code is efficient, this bonus will only consist of simple modifications to the original game."
   ]
  },
  {
   "cell_type": "code",
   "execution_count": 84,
   "metadata": {},
   "outputs": [],
   "source": [
    "def game_variation(tot_rnds):\n",
    "    if tot_rnds%2 == 0:\n",
    "        print(\"You must enter an odd number of total rounds\")\n",
    "        return 0\n",
    "    rnds_to_win = int((tot_rnds-1)/2+1)\n",
    "    round = 1\n",
    "    cpu_s = 0\n",
    "    plr_s = 0\n",
    "    while round <= n_rounds:\n",
    "        print(\"\\n\"+\"Round: \" + str(round) + \"\\n\")\n",
    "        # get the result of a round and update the scores\n",
    "        plr_s, cpu_s = round_result(int(plr_s), int(cpu_s))\n",
    "        # check if the game is over and who wins\n",
    "        if plr_s >= rnds_to_win:\n",
    "            print(\"\\n\" + \"Player has won the game\")\n",
    "            break\n",
    "        elif cpu_s >= rnds_to_win:\n",
    "            print(\"\\n\" + \"Computer has won the game\")\n",
    "            break\n",
    "        if round == rnds_to_win:\n",
    "            print(\"\\n\" + \"Game is a tie\")\n",
    "        round += 1"
   ]
  },
  {
   "cell_type": "code",
   "execution_count": null,
   "metadata": {},
   "outputs": [
    {
     "name": "stdout",
     "output_type": "stream",
     "text": [
      "\n",
      "Round: 1\n",
      "\n",
      "Enter a move (rock, paper, or scissors): rock\n",
      "You have selected rock\n",
      "\n",
      "Round: 2\n",
      "\n"
     ]
    }
   ],
   "source": [
    "game_variation(3)"
   ]
  },
  {
   "cell_type": "code",
   "execution_count": null,
   "metadata": {},
   "outputs": [],
   "source": []
  }
 ],
 "metadata": {
  "kernelspec": {
   "display_name": "Python 3 (ipykernel)",
   "language": "python",
   "name": "python3"
  },
  "language_info": {
   "codemirror_mode": {
    "name": "ipython",
    "version": 3
   },
   "file_extension": ".py",
   "mimetype": "text/x-python",
   "name": "python",
   "nbconvert_exporter": "python",
   "pygments_lexer": "ipython3",
   "version": "3.9.13"
  }
 },
 "nbformat": 4,
 "nbformat_minor": 2
}
