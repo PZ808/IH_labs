{
 "cells": [
  {
   "cell_type": "markdown",
   "id": "e7842771",
   "metadata": {},
   "source": [
    "# Numpy Lab exercises (02.06.22)"
   ]
  },
  {
   "cell_type": "markdown",
   "id": "088244e2",
   "metadata": {},
   "source": [
    "### A collections of matrix operations using the numpy library"
   ]
  },
  {
   "cell_type": "markdown",
   "id": "addc64e0",
   "metadata": {},
   "source": [
    "#### 1. Import the numpy package under the name `np` (★☆☆)"
   ]
  },
  {
   "cell_type": "code",
   "execution_count": 1,
   "id": "3eec75fa",
   "metadata": {},
   "outputs": [],
   "source": [
    "import numpy as np"
   ]
  },
  {
   "cell_type": "markdown",
   "id": "c2f433a7",
   "metadata": {},
   "source": [
    "#### 2. Create a null vector of size 10 (★☆☆)"
   ]
  },
  {
   "cell_type": "code",
   "execution_count": 42,
   "id": "d33da318",
   "metadata": {},
   "outputs": [
    {
     "name": "stdout",
     "output_type": "stream",
     "text": [
      "Null vector = [0. 0. 0. 0. 0. 0. 0. 0. 0. 0.]\n"
     ]
    }
   ],
   "source": [
    "nvec = np.zeros(10)\n",
    "print(\"Null vector =\", nvec)"
   ]
  },
  {
   "cell_type": "markdown",
   "id": "02f06ed1",
   "metadata": {},
   "source": [
    "#### 3. Create a null vector of size 10 but the fifth value which is 1 (★☆☆)"
   ]
  },
  {
   "cell_type": "code",
   "execution_count": 3,
   "id": "c8542f72",
   "metadata": {},
   "outputs": [
    {
     "name": "stdout",
     "output_type": "stream",
     "text": [
      "[0. 0. 0. 0. 1. 0. 0. 0. 0. 0.]\n"
     ]
    }
   ],
   "source": [
    "nvec[4] = 1\n",
    "print(nvec)"
   ]
  },
  {
   "cell_type": "markdown",
   "id": "0e6a9e15",
   "metadata": {},
   "source": [
    "#### 4. Create a vector with values ranging from 10 to 49 (★☆☆)"
   ]
  },
  {
   "cell_type": "code",
   "execution_count": 47,
   "id": "6ca694a2",
   "metadata": {},
   "outputs": [
    {
     "name": "stdout",
     "output_type": "stream",
     "text": [
      "Vector with values in range(10,50) : \n",
      " [10 11 12 13 14 15 16 17 18 19 20 21 22 23 24 25 26 27 28 29 30 31 32 33\n",
      " 34 35 36 37 38 39 40 41 42 43 44 45 46 47 48 49]\n"
     ]
    }
   ],
   "source": [
    "print(\"Vector with values in range(10,50) : \\n\", np.arange(10,50))"
   ]
  },
  {
   "cell_type": "markdown",
   "id": "4a90f8a4",
   "metadata": {},
   "source": [
    "#### 5. Create a 3x3 matrix with values ranging from 0 to 8 (★☆☆)"
   ]
  },
  {
   "cell_type": "code",
   "execution_count": 48,
   "id": "03bebfb9",
   "metadata": {},
   "outputs": [
    {
     "name": "stdout",
     "output_type": "stream",
     "text": [
      "[[0 1 2]\n",
      " [3 4 5]\n",
      " [6 7 8]]\n"
     ]
    }
   ],
   "source": [
    "print(np.reshape(np.arange(0,9),(3,3)))"
   ]
  },
  {
   "cell_type": "markdown",
   "id": "eacb02b6",
   "metadata": {},
   "source": [
    "#### 6. Find indices of non-zero elements from [1,2,0,0,4,0] (★☆☆)"
   ]
  },
  {
   "cell_type": "code",
   "execution_count": 49,
   "id": "79e29704",
   "metadata": {
    "scrolled": true
   },
   "outputs": [
    {
     "name": "stdout",
     "output_type": "stream",
     "text": [
      "indices of nonzero elements are:  [0 1 4]\n"
     ]
    }
   ],
   "source": [
    "print(\"indices of nonzero elements are: \", np.nonzero(np.array([1,2,0,0,4,0]))[0])"
   ]
  },
  {
   "cell_type": "markdown",
   "id": "0d3e3020",
   "metadata": {},
   "source": [
    "#### 7. Create a 3x3 identity matrix (★☆☆)"
   ]
  },
  {
   "cell_type": "code",
   "execution_count": 54,
   "id": "40823d52",
   "metadata": {},
   "outputs": [
    {
     "name": "stdout",
     "output_type": "stream",
     "text": [
      "I3x3 = \n",
      " [[1. 0. 0.]\n",
      " [0. 1. 0.]\n",
      " [0. 0. 1.]]\n"
     ]
    }
   ],
   "source": [
    "print(\"I3x3 = \\n\",np.eye(3))"
   ]
  },
  {
   "cell_type": "markdown",
   "id": "bbaebdf7",
   "metadata": {},
   "source": [
    "#### 8. Create a 3x3x3 array with random values (★☆☆)"
   ]
  },
  {
   "cell_type": "code",
   "execution_count": 58,
   "id": "7dcbc06c",
   "metadata": {},
   "outputs": [
    {
     "name": "stdout",
     "output_type": "stream",
     "text": [
      "A 3x3x3 random matrix is \n",
      " \n",
      " [[[-40 -88 -36]\n",
      "  [ 92  37  38]\n",
      "  [ 84  49 -56]]\n",
      "\n",
      " [[-66  43 -88]\n",
      "  [-97 -67 -93]\n",
      "  [ -8 -37  -2]]\n",
      "\n",
      " [[ 43 -46  81]\n",
      "  [ 41  12  75]\n",
      "  [-15 -26  31]]]\n"
     ]
    }
   ],
   "source": [
    "print(\"A 3x3x3 random matrix is \\n \\n\", np.random.randint(-100,100,(3,3,3)))"
   ]
  },
  {
   "cell_type": "markdown",
   "id": "c7ea2250",
   "metadata": {},
   "source": [
    "#### 9. Create a 10x10 array with random values and find the minimum and maximum values (★☆☆)"
   ]
  },
  {
   "cell_type": "code",
   "execution_count": 59,
   "id": "baf56ac4",
   "metadata": {
    "scrolled": true
   },
   "outputs": [
    {
     "name": "stdout",
     "output_type": "stream",
     "text": [
      "min = -98\n",
      "max = 95\n"
     ]
    }
   ],
   "source": [
    "print(\"min =\", np.random.randint(-100,100,(10,10)).min())\n",
    "print(\"max =\", np.random.randint(-100,100,(10,10)).max())"
   ]
  },
  {
   "cell_type": "markdown",
   "id": "85b18476",
   "metadata": {},
   "source": [
    "#### 10. Create a random vector of size 30 and find the mean value (★☆☆)"
   ]
  },
  {
   "cell_type": "code",
   "execution_count": 63,
   "id": "8487a3ea",
   "metadata": {},
   "outputs": [
    {
     "name": "stdout",
     "output_type": "stream",
     "text": [
      "mean(rand_vec) = 0.39411836138717943\n"
     ]
    }
   ],
   "source": [
    "print(\"mean(rand_vec) =\", np.mean(np.random.random((1,30))))"
   ]
  },
  {
   "cell_type": "markdown",
   "id": "3fa0a140",
   "metadata": {},
   "source": [
    "#### 11. Create a 5x5 matrix with values 1,2,3,4 just below the diagonal (★☆☆)"
   ]
  },
  {
   "cell_type": "code",
   "execution_count": 11,
   "id": "99a23086",
   "metadata": {},
   "outputs": [
    {
     "name": "stdout",
     "output_type": "stream",
     "text": [
      "[[0 0 0 0 0]\n",
      " [1 0 0 0 0]\n",
      " [0 2 0 0 0]\n",
      " [0 0 3 0 0]\n",
      " [0 0 0 4 0]]\n"
     ]
    }
   ],
   "source": [
    "print(np.diag([1,2,3,4],k=-1))"
   ]
  },
  {
   "cell_type": "markdown",
   "id": "b8fcb16f",
   "metadata": {},
   "source": [
    "#### 12. Normalize a 5x5 random matrix (★☆☆)"
   ]
  },
  {
   "cell_type": "markdown",
   "id": "a424e28b",
   "metadata": {},
   "source": [
    "<i> The norm of a matrix is defined as </i> $\\mathbf{norm}(X)=(X-\\bar{X})/\\sigma_X$"
   ]
  },
  {
   "cell_type": "code",
   "execution_count": 66,
   "id": "4518e8d7",
   "metadata": {},
   "outputs": [
    {
     "name": "stdout",
     "output_type": "stream",
     "text": [
      "norm(mat) = \n",
      " [[ 0.15486796 -1.92416019  0.38737422 -0.64914662  0.73327989]\n",
      " [ 1.33066202 -0.85470388  0.91686993  1.10356418  0.96567571]\n",
      " [ 0.27398893  1.00362447 -1.54235033 -1.15012194  0.46869965]\n",
      " [-0.08638807 -0.34624789 -0.59076252  1.20438144  0.25606374]\n",
      " [-0.01824011 -0.08111274 -1.46353895 -1.70792365  1.61564475]]\n"
     ]
    }
   ],
   "source": [
    "x=np.random.random((5,5)) \n",
    "print(\"norm(mat) = \\n\",(x-np.mean(x))/np.std(x))"
   ]
  },
  {
   "cell_type": "markdown",
   "id": "3e6d26af",
   "metadata": {},
   "source": [
    "#### 13. How to find common values between two arrays? (★☆☆)"
   ]
  },
  {
   "cell_type": "code",
   "execution_count": 13,
   "id": "33c282fb",
   "metadata": {},
   "outputs": [],
   "source": [
    "a1=np.arange(0,10,2)\n",
    "a2=np.array([1,2,5])"
   ]
  },
  {
   "cell_type": "code",
   "execution_count": 69,
   "id": "7757d9e7",
   "metadata": {},
   "outputs": [
    {
     "name": "stdout",
     "output_type": "stream",
     "text": [
      "common values = [2]\n"
     ]
    }
   ],
   "source": [
    "print(\"common values =\", np.intersect1d(a1,a2))"
   ]
  },
  {
   "cell_type": "markdown",
   "id": "acb8b2e6",
   "metadata": {},
   "source": [
    "#### 14. Create a random vector of size 10 and sort it (★★☆)"
   ]
  },
  {
   "cell_type": "code",
   "execution_count": 70,
   "id": "7b3fdaac",
   "metadata": {},
   "outputs": [
    {
     "name": "stdout",
     "output_type": "stream",
     "text": [
      "Sorted vector = [-10  -5  -4  -2  -1  -1   0   1   5   7]\n"
     ]
    }
   ],
   "source": [
    "print(\"Sorted vector =\", np.sort(np.random.randint(-10,10,(1,10)))[0])"
   ]
  },
  {
   "cell_type": "markdown",
   "id": "cdf4a472",
   "metadata": {},
   "source": [
    "#### 15. Create random vector of size 10 and replace the maximum value by 0 (★★☆)"
   ]
  },
  {
   "cell_type": "code",
   "execution_count": 75,
   "id": "492f97bb",
   "metadata": {},
   "outputs": [
    {
     "name": "stdout",
     "output_type": "stream",
     "text": [
      "Original matrix  [ 15  -6 -11 -15  -9   4  -6  17  -2   1]\n",
      "[7]\n",
      "Substited matrix = [ 15  -6 -11 -15  -9   4  -6   0  -2   1]\n"
     ]
    }
   ],
   "source": [
    "a   = np.random.randint(-22,22,(1,10)) # random vec\n",
    "print(\"Original matrix \", a[0])\n",
    "m   = np.max(a)                # max value \n",
    "idx = np.where(a==m)[1]        # index of max (this is a bug it assumes that it only appears once!)\n",
    "#print(idx)\n",
    "a[0][idx]=0\n",
    "print(\"Substited matrix =\", a[0])"
   ]
  },
  {
   "cell_type": "markdown",
   "id": "fbfc19a5",
   "metadata": {},
   "source": [
    "#### 16. Subtract the mean of each row of a matrix (★★☆)"
   ]
  },
  {
   "cell_type": "code",
   "execution_count": 17,
   "id": "a6eb5cf4",
   "metadata": {},
   "outputs": [
    {
     "name": "stdout",
     "output_type": "stream",
     "text": [
      "[[ 46.    19.    -1.   -13.  ]\n",
      " [-97.    30.75 -69.    16.  ]\n",
      " [ 85.    42.    -9.25  36.  ]\n",
      " [-37.   -28.   -54.    91.25]]\n"
     ]
    }
   ],
   "source": [
    "rmat = np.random.randint(-100,100,size=(4,4)) # generate a random matrix\n",
    "rmat_subt_mean = rmat-np.diag(np.mean(rmat,axis=1)) # subtract the means (axis=1 gives means of the rows)\n",
    "print(rmat_subt_mean)"
   ]
  },
  {
   "cell_type": "markdown",
   "id": "957c651a",
   "metadata": {},
   "source": [
    "#### 17. How to get the n largest values of an array (★★★)"
   ]
  },
  {
   "cell_type": "code",
   "execution_count": 18,
   "id": "f16e0300",
   "metadata": {},
   "outputs": [
    {
     "name": "stdout",
     "output_type": "stream",
     "text": [
      "[0.77123284 0.04357365 0.63647624 0.45620314 0.25824047 0.6568753\n",
      " 0.90945232 0.15731388 0.87085329 0.42433403]\n"
     ]
    }
   ],
   "source": [
    "v = np.random.rand(1,10) # first do it for a vector \n",
    "v = v[0]\n",
    "print(v)"
   ]
  },
  {
   "cell_type": "code",
   "execution_count": 19,
   "id": "d251e14c",
   "metadata": {},
   "outputs": [],
   "source": [
    "def get_n_largest_of_vec(vec,n):\n",
    "    vec.sort()\n",
    "    vrev = v[::-1]\n",
    "    return vrev[0:n]"
   ]
  },
  {
   "cell_type": "code",
   "execution_count": 20,
   "id": "16c5d90d",
   "metadata": {},
   "outputs": [
    {
     "name": "stdout",
     "output_type": "stream",
     "text": [
      "[0.90945232 0.87085329 0.77123284]\n"
     ]
    }
   ],
   "source": [
    "print(get_n_largest_of_vec(v,3))"
   ]
  },
  {
   "cell_type": "code",
   "execution_count": 21,
   "id": "0485e10e",
   "metadata": {},
   "outputs": [
    {
     "name": "stdout",
     "output_type": "stream",
     "text": [
      "[[ 63  19  -1 -13]\n",
      " [-97  -9 -69  16]\n",
      " [ 85  42  42  36]\n",
      " [-37 -28 -54  82]]\n"
     ]
    }
   ],
   "source": [
    "print(rmat)"
   ]
  },
  {
   "cell_type": "code",
   "execution_count": 22,
   "id": "4d675a9c",
   "metadata": {},
   "outputs": [],
   "source": [
    "def get_n_largest_of_mat(mat,n):\n",
    "    if type(n) != int:\n",
    "        return print(\"Error: n must be an integer\")   \n",
    "    elif n > mat.size:\n",
    "        return print(\"Error: n must be less that the number of elements of the matrix\")\n",
    "    mf = mat.flatten() # change it to a vector\n",
    "    mf.sort() # sort it from low to high\n",
    "    mfrev = mf[::-1] # reverse the order \n",
    "    return mfrev[0:n] # slice the top n values and return as a vector"
   ]
  },
  {
   "cell_type": "code",
   "execution_count": 23,
   "id": "fb4aa946",
   "metadata": {},
   "outputs": [
    {
     "name": "stdout",
     "output_type": "stream",
     "text": [
      "[85 82 63 42 42 36 19 16 -1 -9]\n"
     ]
    }
   ],
   "source": [
    "print(get_n_largest_of_mat(rmat,10))"
   ]
  },
  {
   "cell_type": "markdown",
   "id": "e28997f5",
   "metadata": {},
   "source": [
    "#### 18. Create a random 5*3 matrix and replace items that are larger than 4 by their squares ( Example:  6 --> 36)"
   ]
  },
  {
   "cell_type": "markdown",
   "id": "389733ac",
   "metadata": {},
   "source": [
    "<i> Here we use the where method </i>"
   ]
  },
  {
   "cell_type": "code",
   "execution_count": 24,
   "id": "3d665626",
   "metadata": {},
   "outputs": [
    {
     "name": "stdout",
     "output_type": "stream",
     "text": [
      "[[5 8 6]\n",
      " [7 8 9]\n",
      " [0 2 9]\n",
      " [8 5 5]\n",
      " [7 2 7]]\n",
      "[[25 64 36]\n",
      " [49 64 81]\n",
      " [ 0  2 81]\n",
      " [64 25 25]\n",
      " [49  2 49]]\n"
     ]
    }
   ],
   "source": [
    "rmat35 = np.random.randint(0,10,size=(5,3))\n",
    "\n",
    "print(rmat35)\n",
    "\n",
    "rmat35=np.where(rmat35 > 4, rmat35 **2, rmat35)\n",
    "\n",
    "print(rmat35)\n",
    "\n"
   ]
  },
  {
   "cell_type": "code",
   "execution_count": null,
   "id": "1488a55e",
   "metadata": {},
   "outputs": [],
   "source": []
  }
 ],
 "metadata": {
  "kernelspec": {
   "display_name": "Python 3 (ipykernel)",
   "language": "python",
   "name": "python3"
  },
  "language_info": {
   "codemirror_mode": {
    "name": "ipython",
    "version": 3
   },
   "file_extension": ".py",
   "mimetype": "text/x-python",
   "name": "python",
   "nbconvert_exporter": "python",
   "pygments_lexer": "ipython3",
   "version": "3.9.13"
  }
 },
 "nbformat": 4,
 "nbformat_minor": 5
}
